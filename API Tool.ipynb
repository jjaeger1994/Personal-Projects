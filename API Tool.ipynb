{
 "cells": [
  {
   "cell_type": "code",
   "execution_count": 330,
   "id": "f1505d00",
   "metadata": {},
   "outputs": [],
   "source": [
    "import pandas as pd\n",
    "import requests as r\n",
    "import numpy as np\n",
    "import matplotlib.pyplot as plt\n",
    "import seaborn as sns\n",
    "import datetime\n",
    "import json\n",
    "from statsmodels.tsa.arima.model import ARIMA \n",
    "from statsmodels.graphics.tsaplots import plot_predict\n",
    "from statsmodels.tsa.arima_process import arma_generate_sample\n",
    "from statsmodels.tsa.statespace.sarimax import SARIMAX\n",
    "from sklearn.preprocessing import MinMaxScaler, LabelEncoder, LabelBinarizer\n",
    "from sklearn.metrics import mean_squared_error\n",
    "from keras.models import Sequential\n",
    "from keras.layers import Dense, LSTM"
   ]
  },
  {
   "cell_type": "code",
   "execution_count": 331,
   "id": "be5696e4",
   "metadata": {},
   "outputs": [],
   "source": [
    "api_key = \"aBIdeyJp18dnYHxOLyICUOdCfrz7C2g1VFRdCQbx\"\n"
   ]
  },
  {
   "cell_type": "code",
   "execution_count": 332,
   "id": "f20114d2",
   "metadata": {},
   "outputs": [],
   "source": [
    "solar_monthly_url = f\"https://api.eia.gov/v2/electricity/electric-power-operational-data/data/?frequency=monthly&data[0]=generation&facets[fueltypeid][]=SPV&facets[location][]=MO&facets[sectorid][]=99&sort[0][column]=period&sort[0][direction]=desc&offset=0&length=5000&api_key={api_key}\"\n",
    "wind_monthly_url = f\"https://api.eia.gov/v2/electricity/electric-power-operational-data/data/?frequency=monthly&data[0]=generation&facets[fueltypeid][]=WND&facets[location][]=MO&facets[sectorid][]=99&sort[0][column]=period&sort[0][direction]=desc&offset=0&length=5000&api_key={api_key}\""
   ]
  },
  {
   "cell_type": "code",
   "execution_count": 333,
   "id": "1d46a511",
   "metadata": {},
   "outputs": [
    {
     "name": "stdout",
     "output_type": "stream",
     "text": [
      "Success\n"
     ]
    }
   ],
   "source": [
    "try:\n",
    "    (request := r.get(solar_monthly_url))\n",
    "    print(\"Success\")\n",
    "except Exception as e:\n",
    "    print(e)"
   ]
  },
  {
   "cell_type": "code",
   "execution_count": 334,
   "id": "68308a77",
   "metadata": {},
   "outputs": [],
   "source": [
    "json_data = request.json()"
   ]
  },
  {
   "cell_type": "code",
   "execution_count": 335,
   "id": "47933f07",
   "metadata": {
    "scrolled": false
   },
   "outputs": [],
   "source": [
    "solar_generation = pd.DataFrame(json_data.get('response').get('data'))"
   ]
  },
  {
   "cell_type": "code",
   "execution_count": 336,
   "id": "11ddafa6",
   "metadata": {},
   "outputs": [
    {
     "data": {
      "text/html": [
       "<div>\n",
       "<style scoped>\n",
       "    .dataframe tbody tr th:only-of-type {\n",
       "        vertical-align: middle;\n",
       "    }\n",
       "\n",
       "    .dataframe tbody tr th {\n",
       "        vertical-align: top;\n",
       "    }\n",
       "\n",
       "    .dataframe thead th {\n",
       "        text-align: right;\n",
       "    }\n",
       "</style>\n",
       "<table border=\"1\" class=\"dataframe\">\n",
       "  <thead>\n",
       "    <tr style=\"text-align: right;\">\n",
       "      <th></th>\n",
       "      <th>period</th>\n",
       "      <th>location</th>\n",
       "      <th>stateDescription</th>\n",
       "      <th>sectorid</th>\n",
       "      <th>sectorDescription</th>\n",
       "      <th>fueltypeid</th>\n",
       "      <th>fuelTypeDescription</th>\n",
       "      <th>generation</th>\n",
       "      <th>generation-units</th>\n",
       "    </tr>\n",
       "  </thead>\n",
       "  <tbody>\n",
       "    <tr>\n",
       "      <th>0</th>\n",
       "      <td>2023-01</td>\n",
       "      <td>MO</td>\n",
       "      <td>Missouri</td>\n",
       "      <td>99</td>\n",
       "      <td>All Sectors</td>\n",
       "      <td>SPV</td>\n",
       "      <td>solar photovoltaic</td>\n",
       "      <td>9.56056</td>\n",
       "      <td>thousand megawatthours</td>\n",
       "    </tr>\n",
       "    <tr>\n",
       "      <th>1</th>\n",
       "      <td>2022-12</td>\n",
       "      <td>MO</td>\n",
       "      <td>Missouri</td>\n",
       "      <td>99</td>\n",
       "      <td>All Sectors</td>\n",
       "      <td>SPV</td>\n",
       "      <td>solar photovoltaic</td>\n",
       "      <td>7.20169</td>\n",
       "      <td>thousand megawatthours</td>\n",
       "    </tr>\n",
       "    <tr>\n",
       "      <th>2</th>\n",
       "      <td>2022-11</td>\n",
       "      <td>MO</td>\n",
       "      <td>Missouri</td>\n",
       "      <td>99</td>\n",
       "      <td>All Sectors</td>\n",
       "      <td>SPV</td>\n",
       "      <td>solar photovoltaic</td>\n",
       "      <td>9.47591</td>\n",
       "      <td>thousand megawatthours</td>\n",
       "    </tr>\n",
       "    <tr>\n",
       "      <th>3</th>\n",
       "      <td>2022-10</td>\n",
       "      <td>MO</td>\n",
       "      <td>Missouri</td>\n",
       "      <td>99</td>\n",
       "      <td>All Sectors</td>\n",
       "      <td>SPV</td>\n",
       "      <td>solar photovoltaic</td>\n",
       "      <td>14.40455</td>\n",
       "      <td>thousand megawatthours</td>\n",
       "    </tr>\n",
       "    <tr>\n",
       "      <th>4</th>\n",
       "      <td>2022-09</td>\n",
       "      <td>MO</td>\n",
       "      <td>Missouri</td>\n",
       "      <td>99</td>\n",
       "      <td>All Sectors</td>\n",
       "      <td>SPV</td>\n",
       "      <td>solar photovoltaic</td>\n",
       "      <td>15.42541</td>\n",
       "      <td>thousand megawatthours</td>\n",
       "    </tr>\n",
       "  </tbody>\n",
       "</table>\n",
       "</div>"
      ],
      "text/plain": [
       "    period location  ... generation        generation-units\n",
       "0  2023-01       MO  ...    9.56056  thousand megawatthours\n",
       "1  2022-12       MO  ...    7.20169  thousand megawatthours\n",
       "2  2022-11       MO  ...    9.47591  thousand megawatthours\n",
       "3  2022-10       MO  ...   14.40455  thousand megawatthours\n",
       "4  2022-09       MO  ...   15.42541  thousand megawatthours\n",
       "\n",
       "[5 rows x 9 columns]"
      ]
     },
     "execution_count": 336,
     "metadata": {},
     "output_type": "execute_result"
    }
   ],
   "source": [
    "solar_generation.head()"
   ]
  },
  {
   "cell_type": "code",
   "execution_count": 337,
   "id": "02f21401",
   "metadata": {},
   "outputs": [],
   "source": [
    "solar_generation.period = pd.to_datetime(solar_generation.period)"
   ]
  },
  {
   "cell_type": "code",
   "execution_count": 338,
   "id": "867c2cf8",
   "metadata": {},
   "outputs": [
    {
     "data": {
      "text/plain": [
       "<AxesSubplot:xlabel='period', ylabel='generation'>"
      ]
     },
     "execution_count": 338,
     "metadata": {},
     "output_type": "execute_result"
    },
    {
     "data": {
      "image/png": "[encoded data removed]",
      "text/plain": [
       "<Figure size 640x480 with 1 Axes>"
      ]
     },
     "metadata": {},
     "output_type": "display_data"
    }
   ],
   "source": [
    "sns.lineplot(x=\"period\",y=\"generation\",data=solar_generation)"
   ]
  },
  {
   "cell_type": "code",
   "execution_count": 339,
   "id": "8c49c44b",
   "metadata": {},
   "outputs": [
    {
     "name": "stderr",
     "output_type": "stream",
     "text": [
      "C:\\Users\\jwj8c8\\Anaconda3\\lib\\site-packages\\statsmodels\\tsa\\base\\tsa_model.py:471: ValueWarning: A date index has been provided, but it is not monotonic and so will be ignored when e.g. forecasting.\n",
      "  self._init_dates(dates, freq)\n",
      "C:\\Users\\jwj8c8\\Anaconda3\\lib\\site-packages\\statsmodels\\tsa\\base\\tsa_model.py:471: ValueWarning: A date index has been provided, but it is not monotonic and so will be ignored when e.g. forecasting.\n",
      "  self._init_dates(dates, freq)\n",
      "C:\\Users\\jwj8c8\\Anaconda3\\lib\\site-packages\\statsmodels\\tsa\\base\\tsa_model.py:471: ValueWarning: A date index has been provided, but it is not monotonic and so will be ignored when e.g. forecasting.\n",
      "  self._init_dates(dates, freq)\n"
     ]
    }
   ],
   "source": [
    "index=pd.DatetimeIndex(solar_generation.period).to_period(\"M\")\n",
    "y = pd.Series(solar_generation.generation.values, index=index)\n",
    "arima = ARIMA(y,order=(2,0,2)).fit()"
   ]
  },
  {
   "cell_type": "code",
   "execution_count": 340,
   "id": "e3e490a9",
   "metadata": {},
   "outputs": [
    {
     "name": "stdout",
     "output_type": "stream",
     "text": [
      "                               SARIMAX Results                                \n",
      "==============================================================================\n",
      "Dep. Variable:                      y   No. Observations:                  107\n",
      "Model:                 ARIMA(2, 0, 2)   Log Likelihood                -191.038\n",
      "Date:                Thu, 06 Apr 2023   AIC                            394.076\n",
      "Time:                        14:20:55   BIC                            410.113\n",
      "Sample:                             0   HQIC                           400.577\n",
      "                                - 107                                         \n",
      "Covariance Type:                  opg                                         \n",
      "==============================================================================\n",
      "                 coef    std err          z      P>|z|      [0.025      0.975]\n",
      "------------------------------------------------------------------------------\n",
      "const          6.4249      2.181      2.945      0.003       2.150      10.700\n",
      "ar.L1          1.3939      0.278      5.023      0.000       0.850       1.938\n",
      "ar.L2         -0.4780      0.261     -1.829      0.067      -0.990       0.034\n",
      "ma.L1         -0.1969      0.294     -0.670      0.503      -0.773       0.380\n",
      "ma.L2          0.1503      0.106      1.424      0.154      -0.057       0.357\n",
      "sigma2         2.0324      0.231      8.811      0.000       1.580       2.485\n",
      "===================================================================================\n",
      "Ljung-Box (L1) (Q):                   0.02   Jarque-Bera (JB):                23.32\n",
      "Prob(Q):                              0.90   Prob(JB):                         0.00\n",
      "Heteroskedasticity (H):               0.10   Skew:                             0.46\n",
      "Prob(H) (two-sided):                  0.00   Kurtosis:                         5.09\n",
      "===================================================================================\n",
      "\n",
      "Warnings:\n",
      "[1] Covariance matrix calculated using the outer product of gradients (complex-step).\n"
     ]
    }
   ],
   "source": [
    "print(arima.summary())"
   ]
  },
  {
   "cell_type": "code",
   "execution_count": 341,
   "id": "d56d91cf",
   "metadata": {
    "scrolled": false
   },
   "outputs": [
    {
     "data": {
      "image/png": "[encoded data removed]",
      "text/plain": [
       "<Figure size 1000x800 with 1 Axes>"
      ]
     },
     "metadata": {},
     "output_type": "display_data"
    }
   ],
   "source": [
    "fig, ax = plt.subplots(figsize=(10, 8))\n",
    "fig = plot_predict(arima, ax=ax)\n",
    "legend = ax.legend(loc=\"upper left\")"
   ]
  },
  {
   "cell_type": "code",
   "execution_count": 342,
   "id": "f75b8e7d",
   "metadata": {},
   "outputs": [
    {
     "name": "stderr",
     "output_type": "stream",
     "text": [
      "C:\\Users\\jwj8c8\\Anaconda3\\lib\\site-packages\\statsmodels\\tsa\\base\\tsa_model.py:471: ValueWarning: A date index has been provided, but it is not monotonic and so will be ignored when e.g. forecasting.\n",
      "  self._init_dates(dates, freq)\n",
      "C:\\Users\\jwj8c8\\Anaconda3\\lib\\site-packages\\statsmodels\\tsa\\base\\tsa_model.py:471: ValueWarning: A date index has been provided, but it is not monotonic and so will be ignored when e.g. forecasting.\n",
      "  self._init_dates(dates, freq)\n"
     ]
    }
   ],
   "source": [
    "sarimax = SARIMAX(y,order=(2,0,2),seasonal_order=(2,0,2,12)).fit()"
   ]
  },
  {
   "cell_type": "code",
   "execution_count": 343,
   "id": "e58c048f",
   "metadata": {},
   "outputs": [
    {
     "data": {
      "text/html": [
       "<table class=\"simpletable\">\n",
       "<caption>SARIMAX Results</caption>\n",
       "<tr>\n",
       "  <th>Dep. Variable:</th>                  <td>y</td>               <th>  No. Observations:  </th>    <td>107</td>  \n",
       "</tr>\n",
       "<tr>\n",
       "  <th>Model:</th>           <td>SARIMAX(2, 0, 2)x(2, 0, 2, 12)</td> <th>  Log Likelihood     </th> <td>-178.096</td>\n",
       "</tr>\n",
       "<tr>\n",
       "  <th>Date:</th>                   <td>Thu, 06 Apr 2023</td>        <th>  AIC                </th>  <td>374.192</td>\n",
       "</tr>\n",
       "<tr>\n",
       "  <th>Time:</th>                       <td>14:20:56</td>            <th>  BIC                </th>  <td>398.247</td>\n",
       "</tr>\n",
       "<tr>\n",
       "  <th>Sample:</th>                         <td>0</td>               <th>  HQIC               </th>  <td>383.944</td>\n",
       "</tr>\n",
       "<tr>\n",
       "  <th></th>                             <td> - 107</td>             <th>                     </th>     <td> </td>   \n",
       "</tr>\n",
       "<tr>\n",
       "  <th>Covariance Type:</th>               <td>opg</td>              <th>                     </th>     <td> </td>   \n",
       "</tr>\n",
       "</table>\n",
       "<table class=\"simpletable\">\n",
       "<tr>\n",
       "      <td></td>        <th>coef</th>     <th>std err</th>      <th>z</th>      <th>P>|z|</th>  <th>[0.025</th>    <th>0.975]</th>  \n",
       "</tr>\n",
       "<tr>\n",
       "  <th>ar.L1</th>    <td>    0.2224</td> <td>    0.472</td> <td>    0.471</td> <td> 0.638</td> <td>   -0.703</td> <td>    1.148</td>\n",
       "</tr>\n",
       "<tr>\n",
       "  <th>ar.L2</th>    <td>    0.6790</td> <td>    0.434</td> <td>    1.564</td> <td> 0.118</td> <td>   -0.172</td> <td>    1.530</td>\n",
       "</tr>\n",
       "<tr>\n",
       "  <th>ma.L1</th>    <td>    0.7592</td> <td>    0.480</td> <td>    1.582</td> <td> 0.114</td> <td>   -0.182</td> <td>    1.700</td>\n",
       "</tr>\n",
       "<tr>\n",
       "  <th>ma.L2</th>    <td>    0.0988</td> <td>    0.112</td> <td>    0.884</td> <td> 0.377</td> <td>   -0.120</td> <td>    0.318</td>\n",
       "</tr>\n",
       "<tr>\n",
       "  <th>ar.S.L12</th> <td>   -0.0374</td> <td>    4.508</td> <td>   -0.008</td> <td> 0.993</td> <td>   -8.874</td> <td>    8.799</td>\n",
       "</tr>\n",
       "<tr>\n",
       "  <th>ar.S.L24</th> <td>    0.8338</td> <td>    3.933</td> <td>    0.212</td> <td> 0.832</td> <td>   -6.875</td> <td>    8.543</td>\n",
       "</tr>\n",
       "<tr>\n",
       "  <th>ma.S.L12</th> <td>    0.4142</td> <td>    4.685</td> <td>    0.088</td> <td> 0.930</td> <td>   -8.768</td> <td>    9.596</td>\n",
       "</tr>\n",
       "<tr>\n",
       "  <th>ma.S.L24</th> <td>   -0.5070</td> <td>    2.260</td> <td>   -0.224</td> <td> 0.822</td> <td>   -4.936</td> <td>    3.922</td>\n",
       "</tr>\n",
       "<tr>\n",
       "  <th>sigma2</th>   <td>    1.4756</td> <td>    0.273</td> <td>    5.402</td> <td> 0.000</td> <td>    0.940</td> <td>    2.011</td>\n",
       "</tr>\n",
       "</table>\n",
       "<table class=\"simpletable\">\n",
       "<tr>\n",
       "  <th>Ljung-Box (L1) (Q):</th>     <td>0.14</td> <th>  Jarque-Bera (JB):  </th> <td>12.46</td>\n",
       "</tr>\n",
       "<tr>\n",
       "  <th>Prob(Q):</th>                <td>0.70</td> <th>  Prob(JB):          </th> <td>0.00</td> \n",
       "</tr>\n",
       "<tr>\n",
       "  <th>Heteroskedasticity (H):</th> <td>0.15</td> <th>  Skew:              </th> <td>0.41</td> \n",
       "</tr>\n",
       "<tr>\n",
       "  <th>Prob(H) (two-sided):</th>    <td>0.00</td> <th>  Kurtosis:          </th> <td>4.46</td> \n",
       "</tr>\n",
       "</table><br/><br/>Warnings:<br/>[1] Covariance matrix calculated using the outer product of gradients (complex-step)."
      ],
      "text/plain": [
       "<class 'statsmodels.iolib.summary.Summary'>\n",
       "\"\"\"\n",
       "                                     SARIMAX Results                                      \n",
       "==========================================================================================\n",
       "Dep. Variable:                                  y   No. Observations:                  107\n",
       "Model:             SARIMAX(2, 0, 2)x(2, 0, 2, 12)   Log Likelihood                -178.096\n",
       "Date:                            Thu, 06 Apr 2023   AIC                            374.192\n",
       "Time:                                    14:20:56   BIC                            398.247\n",
       "Sample:                                         0   HQIC                           383.944\n",
       "                                            - 107                                         \n",
       "Covariance Type:                              opg                                         \n",
       "==============================================================================\n",
       "                 coef    std err          z      P>|z|      [0.025      0.975]\n",
       "------------------------------------------------------------------------------\n",
       "ar.L1          0.2224      0.472      0.471      0.638      -0.703       1.148\n",
       "ar.L2          0.6790      0.434      1.564      0.118      -0.172       1.530\n",
       "ma.L1          0.7592      0.480      1.582      0.114      -0.182       1.700\n",
       "ma.L2          0.0988      0.112      0.884      0.377      -0.120       0.318\n",
       "ar.S.L12      -0.0374      4.508     -0.008      0.993      -8.874       8.799\n",
       "ar.S.L24       0.8338      3.933      0.212      0.832      -6.875       8.543\n",
       "ma.S.L12       0.4142      4.685      0.088      0.930      -8.768       9.596\n",
       "ma.S.L24      -0.5070      2.260     -0.224      0.822      -4.936       3.922\n",
       "sigma2         1.4756      0.273      5.402      0.000       0.940       2.011\n",
       "===================================================================================\n",
       "Ljung-Box (L1) (Q):                   0.14   Jarque-Bera (JB):                12.46\n",
       "Prob(Q):                              0.70   Prob(JB):                         0.00\n",
       "Heteroskedasticity (H):               0.15   Skew:                             0.41\n",
       "Prob(H) (two-sided):                  0.00   Kurtosis:                         4.46\n",
       "===================================================================================\n",
       "\n",
       "Warnings:\n",
       "[1] Covariance matrix calculated using the outer product of gradients (complex-step).\n",
       "\"\"\""
      ]
     },
     "execution_count": 343,
     "metadata": {},
     "output_type": "execute_result"
    }
   ],
   "source": [
    "sarimax.summary()"
   ]
  },
  {
   "cell_type": "code",
   "execution_count": 344,
   "id": "1d5f1919",
   "metadata": {},
   "outputs": [
    {
     "data": {
      "image/png": "[encoded data removed]",
      "text/plain": [
       "<Figure size 1000x800 with 1 Axes>"
      ]
     },
     "metadata": {},
     "output_type": "display_data"
    }
   ],
   "source": [
    "fig, ax = plt.subplots(figsize=(10, 8))\n",
    "fig = plot_predict(sarimax, ax=ax)\n",
    "legend = ax.legend(loc=\"upper left\")"
   ]
  },
  {
   "cell_type": "code",
   "execution_count": 345,
   "id": "ef897b41",
   "metadata": {},
   "outputs": [
    {
     "name": "stdout",
     "output_type": "stream",
     "text": [
      "Success\n"
     ]
    }
   ],
   "source": [
    "try:\n",
    "    (request := r.get(wind_monthly_url))\n",
    "    print(\"Success\")\n",
    "except Exception as e:\n",
    "    print(e)"
   ]
  },
  {
   "cell_type": "code",
   "execution_count": 346,
   "id": "d4692603",
   "metadata": {},
   "outputs": [],
   "source": [
    "json_data = request.json()"
   ]
  },
  {
   "cell_type": "code",
   "execution_count": 347,
   "id": "a4b55de9",
   "metadata": {},
   "outputs": [],
   "source": [
    "wind_generation = pd.DataFrame(json_data.get('response').get('data'))"
   ]
  },
  {
   "cell_type": "code",
   "execution_count": 348,
   "id": "71c0319a",
   "metadata": {},
   "outputs": [
    {
     "data": {
      "text/html": [
       "<div>\n",
       "<style scoped>\n",
       "    .dataframe tbody tr th:only-of-type {\n",
       "        vertical-align: middle;\n",
       "    }\n",
       "\n",
       "    .dataframe tbody tr th {\n",
       "        vertical-align: top;\n",
       "    }\n",
       "\n",
       "    .dataframe thead th {\n",
       "        text-align: right;\n",
       "    }\n",
       "</style>\n",
       "<table border=\"1\" class=\"dataframe\">\n",
       "  <thead>\n",
       "    <tr style=\"text-align: right;\">\n",
       "      <th></th>\n",
       "      <th>period</th>\n",
       "      <th>location</th>\n",
       "      <th>stateDescription</th>\n",
       "      <th>sectorid</th>\n",
       "      <th>sectorDescription</th>\n",
       "      <th>fueltypeid</th>\n",
       "      <th>fuelTypeDescription</th>\n",
       "      <th>generation</th>\n",
       "      <th>generation-units</th>\n",
       "    </tr>\n",
       "  </thead>\n",
       "  <tbody>\n",
       "    <tr>\n",
       "      <th>0</th>\n",
       "      <td>2023-01</td>\n",
       "      <td>MO</td>\n",
       "      <td>Missouri</td>\n",
       "      <td>99</td>\n",
       "      <td>All Sectors</td>\n",
       "      <td>WND</td>\n",
       "      <td>wind</td>\n",
       "      <td>664.16199</td>\n",
       "      <td>thousand megawatthours</td>\n",
       "    </tr>\n",
       "    <tr>\n",
       "      <th>1</th>\n",
       "      <td>2022-12</td>\n",
       "      <td>MO</td>\n",
       "      <td>Missouri</td>\n",
       "      <td>99</td>\n",
       "      <td>All Sectors</td>\n",
       "      <td>WND</td>\n",
       "      <td>wind</td>\n",
       "      <td>765.94774</td>\n",
       "      <td>thousand megawatthours</td>\n",
       "    </tr>\n",
       "    <tr>\n",
       "      <th>2</th>\n",
       "      <td>2022-11</td>\n",
       "      <td>MO</td>\n",
       "      <td>Missouri</td>\n",
       "      <td>99</td>\n",
       "      <td>All Sectors</td>\n",
       "      <td>WND</td>\n",
       "      <td>wind</td>\n",
       "      <td>794.67596</td>\n",
       "      <td>thousand megawatthours</td>\n",
       "    </tr>\n",
       "    <tr>\n",
       "      <th>3</th>\n",
       "      <td>2022-10</td>\n",
       "      <td>MO</td>\n",
       "      <td>Missouri</td>\n",
       "      <td>99</td>\n",
       "      <td>All Sectors</td>\n",
       "      <td>WND</td>\n",
       "      <td>wind</td>\n",
       "      <td>568.17608</td>\n",
       "      <td>thousand megawatthours</td>\n",
       "    </tr>\n",
       "    <tr>\n",
       "      <th>4</th>\n",
       "      <td>2022-09</td>\n",
       "      <td>MO</td>\n",
       "      <td>Missouri</td>\n",
       "      <td>99</td>\n",
       "      <td>All Sectors</td>\n",
       "      <td>WND</td>\n",
       "      <td>wind</td>\n",
       "      <td>468.58903</td>\n",
       "      <td>thousand megawatthours</td>\n",
       "    </tr>\n",
       "  </tbody>\n",
       "</table>\n",
       "</div>"
      ],
      "text/plain": [
       "    period location  ... generation        generation-units\n",
       "0  2023-01       MO  ...  664.16199  thousand megawatthours\n",
       "1  2022-12       MO  ...  765.94774  thousand megawatthours\n",
       "2  2022-11       MO  ...  794.67596  thousand megawatthours\n",
       "3  2022-10       MO  ...  568.17608  thousand megawatthours\n",
       "4  2022-09       MO  ...  468.58903  thousand megawatthours\n",
       "\n",
       "[5 rows x 9 columns]"
      ]
     },
     "execution_count": 348,
     "metadata": {},
     "output_type": "execute_result"
    }
   ],
   "source": [
    "wind_generation.head()"
   ]
  },
  {
   "cell_type": "code",
   "execution_count": 349,
   "id": "258abf03",
   "metadata": {},
   "outputs": [],
   "source": [
    "wind_generation.period = pd.to_datetime(wind_generation.period)"
   ]
  },
  {
   "cell_type": "code",
   "execution_count": 350,
   "id": "2670025e",
   "metadata": {},
   "outputs": [
    {
     "data": {
      "text/plain": [
       "<AxesSubplot:xlabel='period', ylabel='generation'>"
      ]
     },
     "execution_count": 350,
     "metadata": {},
     "output_type": "execute_result"
    },
    {
     "data": {
      "image/png": "[encoded data removed]",
      "text/plain": [
       "<Figure size 640x480 with 1 Axes>"
      ]
     },
     "metadata": {},
     "output_type": "display_data"
    }
   ],
   "source": [
    "sns.lineplot(x=\"period\",y=\"generation\",data=wind_generation)"
   ]
  },
  {
   "cell_type": "markdown",
   "id": "380ff69e",
   "metadata": {},
   "source": [
    "Hourly Prediction"
   ]
  },
  {
   "cell_type": "code",
   "execution_count": 351,
   "id": "c14ba8ee",
   "metadata": {},
   "outputs": [],
   "source": [
    "solar_hourly_url = f\"https://api.eia.gov/v2/electricity/rto/fuel-type-data/data/?frequency=hourly&data[0]=value&facets[fueltype][]=SUN&facets[respondent][]=MISO&sort[0][column]=period&sort[0][direction]=desc&offset=0&length=5000&api_key={api_key}\"\n",
    "wind_hourly_url = f\"https://api.eia.gov/v2/electricity/rto/fuel-type-data/data/?frequency=hourly&data[0]=value&facets[respondent][]=MISO&facets[fueltype][]=WND&sort[0][column]=period&sort[0][direction]=desc&offset=0&length=5000&api_key={api_key}\""
   ]
  },
  {
   "cell_type": "code",
   "execution_count": 352,
   "id": "f360ca24",
   "metadata": {},
   "outputs": [
    {
     "name": "stdout",
     "output_type": "stream",
     "text": [
      "Success\n"
     ]
    }
   ],
   "source": [
    "try:\n",
    "    (request := r.get(solar_hourly_url))\n",
    "    print(\"Success\")\n",
    "except Exception as e:\n",
    "    print(e)"
   ]
  },
  {
   "cell_type": "code",
   "execution_count": 353,
   "id": "61100a84",
   "metadata": {},
   "outputs": [],
   "source": [
    "json_data = request.json()"
   ]
  },
  {
   "cell_type": "code",
   "execution_count": 354,
   "id": "6f4fe96a",
   "metadata": {},
   "outputs": [],
   "source": [
    "hourly_solar_generation = pd.DataFrame(json_data.get('response').get('data'))"
   ]
  },
  {
   "cell_type": "code",
   "execution_count": 355,
   "id": "e0aeb17b",
   "metadata": {},
   "outputs": [
    {
     "data": {
      "text/html": [
       "<div>\n",
       "<style scoped>\n",
       "    .dataframe tbody tr th:only-of-type {\n",
       "        vertical-align: middle;\n",
       "    }\n",
       "\n",
       "    .dataframe tbody tr th {\n",
       "        vertical-align: top;\n",
       "    }\n",
       "\n",
       "    .dataframe thead th {\n",
       "        text-align: right;\n",
       "    }\n",
       "</style>\n",
       "<table border=\"1\" class=\"dataframe\">\n",
       "  <thead>\n",
       "    <tr style=\"text-align: right;\">\n",
       "      <th></th>\n",
       "      <th>period</th>\n",
       "      <th>respondent</th>\n",
       "      <th>respondent-name</th>\n",
       "      <th>fueltype</th>\n",
       "      <th>type-name</th>\n",
       "      <th>value</th>\n",
       "      <th>value-units</th>\n",
       "    </tr>\n",
       "  </thead>\n",
       "  <tbody>\n",
       "    <tr>\n",
       "      <th>0</th>\n",
       "      <td>2023-04-06T05</td>\n",
       "      <td>MISO</td>\n",
       "      <td>Midcontinent Independent System Operator, Inc.</td>\n",
       "      <td>SUN</td>\n",
       "      <td>Solar</td>\n",
       "      <td>2</td>\n",
       "      <td>megawatthours</td>\n",
       "    </tr>\n",
       "    <tr>\n",
       "      <th>1</th>\n",
       "      <td>2023-04-06T04</td>\n",
       "      <td>MISO</td>\n",
       "      <td>Midcontinent Independent System Operator, Inc.</td>\n",
       "      <td>SUN</td>\n",
       "      <td>Solar</td>\n",
       "      <td>1</td>\n",
       "      <td>megawatthours</td>\n",
       "    </tr>\n",
       "    <tr>\n",
       "      <th>2</th>\n",
       "      <td>2023-04-06T03</td>\n",
       "      <td>MISO</td>\n",
       "      <td>Midcontinent Independent System Operator, Inc.</td>\n",
       "      <td>SUN</td>\n",
       "      <td>Solar</td>\n",
       "      <td>1</td>\n",
       "      <td>megawatthours</td>\n",
       "    </tr>\n",
       "    <tr>\n",
       "      <th>3</th>\n",
       "      <td>2023-04-06T02</td>\n",
       "      <td>MISO</td>\n",
       "      <td>Midcontinent Independent System Operator, Inc.</td>\n",
       "      <td>SUN</td>\n",
       "      <td>Solar</td>\n",
       "      <td>1</td>\n",
       "      <td>megawatthours</td>\n",
       "    </tr>\n",
       "    <tr>\n",
       "      <th>4</th>\n",
       "      <td>2023-04-06T01</td>\n",
       "      <td>MISO</td>\n",
       "      <td>Midcontinent Independent System Operator, Inc.</td>\n",
       "      <td>SUN</td>\n",
       "      <td>Solar</td>\n",
       "      <td>40</td>\n",
       "      <td>megawatthours</td>\n",
       "    </tr>\n",
       "  </tbody>\n",
       "</table>\n",
       "</div>"
      ],
      "text/plain": [
       "          period respondent  ... value    value-units\n",
       "0  2023-04-06T05       MISO  ...     2  megawatthours\n",
       "1  2023-04-06T04       MISO  ...     1  megawatthours\n",
       "2  2023-04-06T03       MISO  ...     1  megawatthours\n",
       "3  2023-04-06T02       MISO  ...     1  megawatthours\n",
       "4  2023-04-06T01       MISO  ...    40  megawatthours\n",
       "\n",
       "[5 rows x 7 columns]"
      ]
     },
     "execution_count": 355,
     "metadata": {},
     "output_type": "execute_result"
    }
   ],
   "source": [
    "hourly_solar_generation.head()"
   ]
  },
  {
   "cell_type": "code",
   "execution_count": 356,
   "id": "cbe7b323",
   "metadata": {},
   "outputs": [],
   "source": [
    "hourly_solar_generation.period = pd.to_datetime(hourly_solar_generation.period,utc=True)\n"
   ]
  },
  {
   "cell_type": "code",
   "execution_count": 357,
   "id": "abfb5484",
   "metadata": {},
   "outputs": [
    {
     "data": {
      "text/html": [
       "<div>\n",
       "<style scoped>\n",
       "    .dataframe tbody tr th:only-of-type {\n",
       "        vertical-align: middle;\n",
       "    }\n",
       "\n",
       "    .dataframe tbody tr th {\n",
       "        vertical-align: top;\n",
       "    }\n",
       "\n",
       "    .dataframe thead th {\n",
       "        text-align: right;\n",
       "    }\n",
       "</style>\n",
       "<table border=\"1\" class=\"dataframe\">\n",
       "  <thead>\n",
       "    <tr style=\"text-align: right;\">\n",
       "      <th></th>\n",
       "      <th>period</th>\n",
       "      <th>respondent</th>\n",
       "      <th>respondent-name</th>\n",
       "      <th>fueltype</th>\n",
       "      <th>type-name</th>\n",
       "      <th>value</th>\n",
       "      <th>value-units</th>\n",
       "    </tr>\n",
       "  </thead>\n",
       "  <tbody>\n",
       "    <tr>\n",
       "      <th>0</th>\n",
       "      <td>2023-04-06 05:00:00+00:00</td>\n",
       "      <td>MISO</td>\n",
       "      <td>Midcontinent Independent System Operator, Inc.</td>\n",
       "      <td>SUN</td>\n",
       "      <td>Solar</td>\n",
       "      <td>2</td>\n",
       "      <td>megawatthours</td>\n",
       "    </tr>\n",
       "    <tr>\n",
       "      <th>1</th>\n",
       "      <td>2023-04-06 04:00:00+00:00</td>\n",
       "      <td>MISO</td>\n",
       "      <td>Midcontinent Independent System Operator, Inc.</td>\n",
       "      <td>SUN</td>\n",
       "      <td>Solar</td>\n",
       "      <td>1</td>\n",
       "      <td>megawatthours</td>\n",
       "    </tr>\n",
       "    <tr>\n",
       "      <th>2</th>\n",
       "      <td>2023-04-06 03:00:00+00:00</td>\n",
       "      <td>MISO</td>\n",
       "      <td>Midcontinent Independent System Operator, Inc.</td>\n",
       "      <td>SUN</td>\n",
       "      <td>Solar</td>\n",
       "      <td>1</td>\n",
       "      <td>megawatthours</td>\n",
       "    </tr>\n",
       "    <tr>\n",
       "      <th>3</th>\n",
       "      <td>2023-04-06 02:00:00+00:00</td>\n",
       "      <td>MISO</td>\n",
       "      <td>Midcontinent Independent System Operator, Inc.</td>\n",
       "      <td>SUN</td>\n",
       "      <td>Solar</td>\n",
       "      <td>1</td>\n",
       "      <td>megawatthours</td>\n",
       "    </tr>\n",
       "    <tr>\n",
       "      <th>4</th>\n",
       "      <td>2023-04-06 01:00:00+00:00</td>\n",
       "      <td>MISO</td>\n",
       "      <td>Midcontinent Independent System Operator, Inc.</td>\n",
       "      <td>SUN</td>\n",
       "      <td>Solar</td>\n",
       "      <td>40</td>\n",
       "      <td>megawatthours</td>\n",
       "    </tr>\n",
       "  </tbody>\n",
       "</table>\n",
       "</div>"
      ],
      "text/plain": [
       "                     period respondent  ... value    value-units\n",
       "0 2023-04-06 05:00:00+00:00       MISO  ...     2  megawatthours\n",
       "1 2023-04-06 04:00:00+00:00       MISO  ...     1  megawatthours\n",
       "2 2023-04-06 03:00:00+00:00       MISO  ...     1  megawatthours\n",
       "3 2023-04-06 02:00:00+00:00       MISO  ...     1  megawatthours\n",
       "4 2023-04-06 01:00:00+00:00       MISO  ...    40  megawatthours\n",
       "\n",
       "[5 rows x 7 columns]"
      ]
     },
     "execution_count": 357,
     "metadata": {},
     "output_type": "execute_result"
    }
   ],
   "source": [
    "hourly_solar_generation.head()"
   ]
  },
  {
   "cell_type": "code",
   "execution_count": 358,
   "id": "51e3b105",
   "metadata": {},
   "outputs": [
    {
     "data": {
      "text/plain": [
       "<AxesSubplot:xlabel='period', ylabel='value'>"
      ]
     },
     "execution_count": 358,
     "metadata": {},
     "output_type": "execute_result"
    },
    {
     "data": {
      "image/png": "[encoded data removed]",
      "text/plain": [
       "<Figure size 640x480 with 1 Axes>"
      ]
     },
     "metadata": {},
     "output_type": "display_data"
    }
   ],
   "source": [
    "sns.lineplot(x=\"period\",y=\"value\",data=hourly_solar_generation)"
   ]
  },
  {
   "cell_type": "code",
   "execution_count": 359,
   "id": "13b42652",
   "metadata": {},
   "outputs": [
    {
     "name": "stdout",
     "output_type": "stream",
     "text": [
      "Success\n"
     ]
    }
   ],
   "source": [
    "try:\n",
    "    (request := r.get(wind_hourly_url))\n",
    "    print(\"Success\")\n",
    "except Exception as e:\n",
    "    print(e)"
   ]
  },
  {
   "cell_type": "code",
   "execution_count": 360,
   "id": "f8acf761",
   "metadata": {},
   "outputs": [],
   "source": [
    "json_data = request.json()"
   ]
  },
  {
   "cell_type": "code",
   "execution_count": 361,
   "id": "7bb36d31",
   "metadata": {},
   "outputs": [],
   "source": [
    "hourly_wind_generation = pd.DataFrame(json_data.get('response').get('data'))"
   ]
  },
  {
   "cell_type": "code",
   "execution_count": 362,
   "id": "557449e9",
   "metadata": {},
   "outputs": [],
   "source": [
    "hourly_wind_generation.period = pd.to_datetime(hourly_wind_generation.period,utc=True)"
   ]
  },
  {
   "cell_type": "code",
   "execution_count": 363,
   "id": "4211a199",
   "metadata": {},
   "outputs": [
    {
     "data": {
      "text/html": [
       "<div>\n",
       "<style scoped>\n",
       "    .dataframe tbody tr th:only-of-type {\n",
       "        vertical-align: middle;\n",
       "    }\n",
       "\n",
       "    .dataframe tbody tr th {\n",
       "        vertical-align: top;\n",
       "    }\n",
       "\n",
       "    .dataframe thead th {\n",
       "        text-align: right;\n",
       "    }\n",
       "</style>\n",
       "<table border=\"1\" class=\"dataframe\">\n",
       "  <thead>\n",
       "    <tr style=\"text-align: right;\">\n",
       "      <th></th>\n",
       "      <th>period</th>\n",
       "      <th>respondent</th>\n",
       "      <th>respondent-name</th>\n",
       "      <th>fueltype</th>\n",
       "      <th>type-name</th>\n",
       "      <th>value</th>\n",
       "      <th>value-units</th>\n",
       "    </tr>\n",
       "  </thead>\n",
       "  <tbody>\n",
       "    <tr>\n",
       "      <th>0</th>\n",
       "      <td>2023-04-06 05:00:00+00:00</td>\n",
       "      <td>MISO</td>\n",
       "      <td>Midcontinent Independent System Operator, Inc.</td>\n",
       "      <td>WND</td>\n",
       "      <td>Wind</td>\n",
       "      <td>19851</td>\n",
       "      <td>megawatthours</td>\n",
       "    </tr>\n",
       "    <tr>\n",
       "      <th>1</th>\n",
       "      <td>2023-04-06 04:00:00+00:00</td>\n",
       "      <td>MISO</td>\n",
       "      <td>Midcontinent Independent System Operator, Inc.</td>\n",
       "      <td>WND</td>\n",
       "      <td>Wind</td>\n",
       "      <td>20280</td>\n",
       "      <td>megawatthours</td>\n",
       "    </tr>\n",
       "    <tr>\n",
       "      <th>2</th>\n",
       "      <td>2023-04-06 03:00:00+00:00</td>\n",
       "      <td>MISO</td>\n",
       "      <td>Midcontinent Independent System Operator, Inc.</td>\n",
       "      <td>WND</td>\n",
       "      <td>Wind</td>\n",
       "      <td>20676</td>\n",
       "      <td>megawatthours</td>\n",
       "    </tr>\n",
       "    <tr>\n",
       "      <th>3</th>\n",
       "      <td>2023-04-06 02:00:00+00:00</td>\n",
       "      <td>MISO</td>\n",
       "      <td>Midcontinent Independent System Operator, Inc.</td>\n",
       "      <td>WND</td>\n",
       "      <td>Wind</td>\n",
       "      <td>21213</td>\n",
       "      <td>megawatthours</td>\n",
       "    </tr>\n",
       "    <tr>\n",
       "      <th>4</th>\n",
       "      <td>2023-04-06 01:00:00+00:00</td>\n",
       "      <td>MISO</td>\n",
       "      <td>Midcontinent Independent System Operator, Inc.</td>\n",
       "      <td>WND</td>\n",
       "      <td>Wind</td>\n",
       "      <td>21309</td>\n",
       "      <td>megawatthours</td>\n",
       "    </tr>\n",
       "  </tbody>\n",
       "</table>\n",
       "</div>"
      ],
      "text/plain": [
       "                     period respondent  ...  value    value-units\n",
       "0 2023-04-06 05:00:00+00:00       MISO  ...  19851  megawatthours\n",
       "1 2023-04-06 04:00:00+00:00       MISO  ...  20280  megawatthours\n",
       "2 2023-04-06 03:00:00+00:00       MISO  ...  20676  megawatthours\n",
       "3 2023-04-06 02:00:00+00:00       MISO  ...  21213  megawatthours\n",
       "4 2023-04-06 01:00:00+00:00       MISO  ...  21309  megawatthours\n",
       "\n",
       "[5 rows x 7 columns]"
      ]
     },
     "execution_count": 363,
     "metadata": {},
     "output_type": "execute_result"
    }
   ],
   "source": [
    "hourly_wind_generation.head()"
   ]
  },
  {
   "cell_type": "code",
   "execution_count": 364,
   "id": "08feac12",
   "metadata": {},
   "outputs": [
    {
     "data": {
      "text/plain": [
       "<AxesSubplot:xlabel='period', ylabel='value'>"
      ]
     },
     "execution_count": 364,
     "metadata": {},
     "output_type": "execute_result"
    },
    {
     "data": {
      "image/png": "[encoded data removed]",
      "text/plain": [
       "<Figure size 640x480 with 1 Axes>"
      ]
     },
     "metadata": {},
     "output_type": "display_data"
    }
   ],
   "source": [
    "sns.lineplot(x=\"period\",y=\"value\",data=hourly_wind_generation)"
   ]
  },
  {
   "cell_type": "markdown",
   "id": "f0bc7206",
   "metadata": {},
   "source": [
    "Weather Data"
   ]
  },
  {
   "cell_type": "code",
   "execution_count": 365,
   "id": "791e5d14",
   "metadata": {},
   "outputs": [],
   "source": [
    "weather_hourly_url = \"https://api.weather.gov/stations/KSTL/observations?limit=500\""
   ]
  },
  {
   "cell_type": "code",
   "execution_count": 366,
   "id": "9641cbeb",
   "metadata": {
    "scrolled": true
   },
   "outputs": [
    {
     "name": "stdout",
     "output_type": "stream",
     "text": [
      "Successful\n"
     ]
    }
   ],
   "source": [
    "try:\n",
    "    (request := r.get(weather_hourly_url))\n",
    "    print(\"Successful\")\n",
    "except Exception as e:\n",
    "    print(e)"
   ]
  },
  {
   "cell_type": "code",
   "execution_count": 367,
   "id": "93d122c8",
   "metadata": {},
   "outputs": [],
   "source": [
    "json_data = request.json()"
   ]
  },
  {
   "cell_type": "code",
   "execution_count": 368,
   "id": "6c88bcd8",
   "metadata": {},
   "outputs": [],
   "source": [
    "d= json.loads(request.text)"
   ]
  },
  {
   "cell_type": "code",
   "execution_count": 369,
   "id": "41609064",
   "metadata": {},
   "outputs": [],
   "source": [
    "parsed = [d[\"features\"][i][\"properties\"] for i in range(0,len(d[\"features\"]))]\n",
    "\n",
    "for i in range(0,len(parsed)):\n",
    "    for key in parsed[i].keys():\n",
    "        if isinstance(parsed[i][key],dict):\n",
    "            if \"value\" in parsed[i][key]:\n",
    "                parsed[i][key] = parsed[i][key][\"value\"]"
   ]
  },
  {
   "cell_type": "code",
   "execution_count": 370,
   "id": "358d0dbf",
   "metadata": {
    "scrolled": true
   },
   "outputs": [],
   "source": [
    "hourly_observation_data = pd.DataFrame(parsed)"
   ]
  },
  {
   "cell_type": "code",
   "execution_count": 371,
   "id": "de1037ba",
   "metadata": {},
   "outputs": [],
   "source": [
    "forecast_url = \"https://api.weather.gov/gridpoints/LSX/89,80/forecast/hourly\""
   ]
  },
  {
   "cell_type": "code",
   "execution_count": 372,
   "id": "0cc57685",
   "metadata": {},
   "outputs": [
    {
     "name": "stdout",
     "output_type": "stream",
     "text": [
      "Successful\n"
     ]
    }
   ],
   "source": [
    "try:\n",
    "    (request := r.get(forecast_url))\n",
    "    print(\"Successful\")\n",
    "except Exception as e:\n",
    "    print(e)"
   ]
  },
  {
   "cell_type": "code",
   "execution_count": 373,
   "id": "fa70b519",
   "metadata": {},
   "outputs": [],
   "source": [
    "d = json.loads(request.text)"
   ]
  },
  {
   "cell_type": "code",
   "execution_count": 374,
   "id": "0df3db28",
   "metadata": {},
   "outputs": [],
   "source": [
    "hourly_forecast_data = pd.DataFrame(d[\"properties\"][\"periods\"])"
   ]
  },
  {
   "cell_type": "code",
   "execution_count": 375,
   "id": "e9d3f2fe",
   "metadata": {},
   "outputs": [
    {
     "data": {
      "text/html": [
       "<div>\n",
       "<style scoped>\n",
       "    .dataframe tbody tr th:only-of-type {\n",
       "        vertical-align: middle;\n",
       "    }\n",
       "\n",
       "    .dataframe tbody tr th {\n",
       "        vertical-align: top;\n",
       "    }\n",
       "\n",
       "    .dataframe thead th {\n",
       "        text-align: right;\n",
       "    }\n",
       "</style>\n",
       "<table border=\"1\" class=\"dataframe\">\n",
       "  <thead>\n",
       "    <tr style=\"text-align: right;\">\n",
       "      <th></th>\n",
       "      <th>number</th>\n",
       "      <th>name</th>\n",
       "      <th>startTime</th>\n",
       "      <th>endTime</th>\n",
       "      <th>isDaytime</th>\n",
       "      <th>temperature</th>\n",
       "      <th>temperatureUnit</th>\n",
       "      <th>temperatureTrend</th>\n",
       "      <th>probabilityOfPrecipitation</th>\n",
       "      <th>dewpoint</th>\n",
       "      <th>relativeHumidity</th>\n",
       "      <th>windSpeed</th>\n",
       "      <th>windDirection</th>\n",
       "      <th>icon</th>\n",
       "      <th>shortForecast</th>\n",
       "      <th>detailedForecast</th>\n",
       "    </tr>\n",
       "  </thead>\n",
       "  <tbody>\n",
       "    <tr>\n",
       "      <th>0</th>\n",
       "      <td>1</td>\n",
       "      <td></td>\n",
       "      <td>2023-04-06T14:00:00-05:00</td>\n",
       "      <td>2023-04-06T15:00:00-05:00</td>\n",
       "      <td>True</td>\n",
       "      <td>54</td>\n",
       "      <td>F</td>\n",
       "      <td>None</td>\n",
       "      <td>{'unitCode': 'wmoUnit:percent', 'value': 0}</td>\n",
       "      <td>{'unitCode': 'wmoUnit:degC', 'value': -5.55555...</td>\n",
       "      <td>{'unitCode': 'wmoUnit:percent', 'value': 28}</td>\n",
       "      <td>8 mph</td>\n",
       "      <td>N</td>\n",
       "      <td>https://api.weather.gov/icons/land/day/bkn,0?s...</td>\n",
       "      <td>Partly Sunny</td>\n",
       "      <td></td>\n",
       "    </tr>\n",
       "    <tr>\n",
       "      <th>1</th>\n",
       "      <td>2</td>\n",
       "      <td></td>\n",
       "      <td>2023-04-06T15:00:00-05:00</td>\n",
       "      <td>2023-04-06T16:00:00-05:00</td>\n",
       "      <td>True</td>\n",
       "      <td>55</td>\n",
       "      <td>F</td>\n",
       "      <td>None</td>\n",
       "      <td>{'unitCode': 'wmoUnit:percent', 'value': 0}</td>\n",
       "      <td>{'unitCode': 'wmoUnit:degC', 'value': -6.66666...</td>\n",
       "      <td>{'unitCode': 'wmoUnit:percent', 'value': 25}</td>\n",
       "      <td>7 mph</td>\n",
       "      <td>N</td>\n",
       "      <td>https://api.weather.gov/icons/land/day/bkn,0?s...</td>\n",
       "      <td>Partly Sunny</td>\n",
       "      <td></td>\n",
       "    </tr>\n",
       "    <tr>\n",
       "      <th>2</th>\n",
       "      <td>3</td>\n",
       "      <td></td>\n",
       "      <td>2023-04-06T16:00:00-05:00</td>\n",
       "      <td>2023-04-06T17:00:00-05:00</td>\n",
       "      <td>True</td>\n",
       "      <td>55</td>\n",
       "      <td>F</td>\n",
       "      <td>None</td>\n",
       "      <td>{'unitCode': 'wmoUnit:percent', 'value': 0}</td>\n",
       "      <td>{'unitCode': 'wmoUnit:degC', 'value': -7.22222...</td>\n",
       "      <td>{'unitCode': 'wmoUnit:percent', 'value': 24}</td>\n",
       "      <td>7 mph</td>\n",
       "      <td>N</td>\n",
       "      <td>https://api.weather.gov/icons/land/day/bkn,0?s...</td>\n",
       "      <td>Partly Sunny</td>\n",
       "      <td></td>\n",
       "    </tr>\n",
       "    <tr>\n",
       "      <th>3</th>\n",
       "      <td>4</td>\n",
       "      <td></td>\n",
       "      <td>2023-04-06T17:00:00-05:00</td>\n",
       "      <td>2023-04-06T18:00:00-05:00</td>\n",
       "      <td>True</td>\n",
       "      <td>56</td>\n",
       "      <td>F</td>\n",
       "      <td>None</td>\n",
       "      <td>{'unitCode': 'wmoUnit:percent', 'value': 0}</td>\n",
       "      <td>{'unitCode': 'wmoUnit:degC', 'value': -7.22222...</td>\n",
       "      <td>{'unitCode': 'wmoUnit:percent', 'value': 23}</td>\n",
       "      <td>7 mph</td>\n",
       "      <td>N</td>\n",
       "      <td>https://api.weather.gov/icons/land/day/bkn,0?s...</td>\n",
       "      <td>Partly Sunny</td>\n",
       "      <td></td>\n",
       "    </tr>\n",
       "    <tr>\n",
       "      <th>4</th>\n",
       "      <td>5</td>\n",
       "      <td></td>\n",
       "      <td>2023-04-06T18:00:00-05:00</td>\n",
       "      <td>2023-04-06T19:00:00-05:00</td>\n",
       "      <td>False</td>\n",
       "      <td>56</td>\n",
       "      <td>F</td>\n",
       "      <td>None</td>\n",
       "      <td>{'unitCode': 'wmoUnit:percent', 'value': 0}</td>\n",
       "      <td>{'unitCode': 'wmoUnit:degC', 'value': -7.22222...</td>\n",
       "      <td>{'unitCode': 'wmoUnit:percent', 'value': 23}</td>\n",
       "      <td>6 mph</td>\n",
       "      <td>N</td>\n",
       "      <td>https://api.weather.gov/icons/land/night/bkn,0...</td>\n",
       "      <td>Mostly Cloudy</td>\n",
       "      <td></td>\n",
       "    </tr>\n",
       "  </tbody>\n",
       "</table>\n",
       "</div>"
      ],
      "text/plain": [
       "   number name  ...  shortForecast detailedForecast\n",
       "0       1       ...   Partly Sunny                 \n",
       "1       2       ...   Partly Sunny                 \n",
       "2       3       ...   Partly Sunny                 \n",
       "3       4       ...   Partly Sunny                 \n",
       "4       5       ...  Mostly Cloudy                 \n",
       "\n",
       "[5 rows x 16 columns]"
      ]
     },
     "execution_count": 375,
     "metadata": {},
     "output_type": "execute_result"
    }
   ],
   "source": [
    "hourly_forecast_data.head()"
   ]
  },
  {
   "cell_type": "code",
   "execution_count": 376,
   "id": "826237bc",
   "metadata": {},
   "outputs": [
    {
     "data": {
      "text/html": [
       "<div>\n",
       "<style scoped>\n",
       "    .dataframe tbody tr th:only-of-type {\n",
       "        vertical-align: middle;\n",
       "    }\n",
       "\n",
       "    .dataframe tbody tr th {\n",
       "        vertical-align: top;\n",
       "    }\n",
       "\n",
       "    .dataframe thead th {\n",
       "        text-align: right;\n",
       "    }\n",
       "</style>\n",
       "<table border=\"1\" class=\"dataframe\">\n",
       "  <thead>\n",
       "    <tr style=\"text-align: right;\">\n",
       "      <th></th>\n",
       "      <th>@id</th>\n",
       "      <th>@type</th>\n",
       "      <th>elevation</th>\n",
       "      <th>station</th>\n",
       "      <th>timestamp</th>\n",
       "      <th>rawMessage</th>\n",
       "      <th>textDescription</th>\n",
       "      <th>icon</th>\n",
       "      <th>presentWeather</th>\n",
       "      <th>temperature</th>\n",
       "      <th>dewpoint</th>\n",
       "      <th>windDirection</th>\n",
       "      <th>windSpeed</th>\n",
       "      <th>windGust</th>\n",
       "      <th>barometricPressure</th>\n",
       "      <th>seaLevelPressure</th>\n",
       "      <th>visibility</th>\n",
       "      <th>maxTemperatureLast24Hours</th>\n",
       "      <th>minTemperatureLast24Hours</th>\n",
       "      <th>precipitationLastHour</th>\n",
       "      <th>precipitationLast3Hours</th>\n",
       "      <th>precipitationLast6Hours</th>\n",
       "      <th>relativeHumidity</th>\n",
       "      <th>windChill</th>\n",
       "      <th>heatIndex</th>\n",
       "      <th>cloudLayers</th>\n",
       "    </tr>\n",
       "  </thead>\n",
       "  <tbody>\n",
       "    <tr>\n",
       "      <th>0</th>\n",
       "      <td>https://api.weather.gov/stations/KSTL/observat...</td>\n",
       "      <td>wx:ObservationStation</td>\n",
       "      <td>172</td>\n",
       "      <td>https://api.weather.gov/stations/KSTL</td>\n",
       "      <td>2023-04-06T18:51:00+00:00</td>\n",
       "      <td>KSTL 061851Z 32007KT 10SM BKN250 11/M04 A3046 ...</td>\n",
       "      <td>Mostly Cloudy</td>\n",
       "      <td>https://api.weather.gov/icons/land/day/bkn?siz...</td>\n",
       "      <td>[]</td>\n",
       "      <td>10.6</td>\n",
       "      <td>-3.9</td>\n",
       "      <td>320.0</td>\n",
       "      <td>12.96</td>\n",
       "      <td>NaN</td>\n",
       "      <td>103150.0</td>\n",
       "      <td>103190.0</td>\n",
       "      <td>16090</td>\n",
       "      <td>None</td>\n",
       "      <td>None</td>\n",
       "      <td>NaN</td>\n",
       "      <td>NaN</td>\n",
       "      <td>NaN</td>\n",
       "      <td>35.915124</td>\n",
       "      <td>NaN</td>\n",
       "      <td>NaN</td>\n",
       "      <td>[{'base': {'unitCode': 'wmoUnit:m', 'value': 7...</td>\n",
       "    </tr>\n",
       "    <tr>\n",
       "      <th>1</th>\n",
       "      <td>https://api.weather.gov/stations/KSTL/observat...</td>\n",
       "      <td>wx:ObservationStation</td>\n",
       "      <td>172</td>\n",
       "      <td>https://api.weather.gov/stations/KSTL</td>\n",
       "      <td>2023-04-06T17:51:00+00:00</td>\n",
       "      <td>KSTL 061751Z 32005KT 10SM FEW200 BKN250 09/M06...</td>\n",
       "      <td>Mostly Cloudy</td>\n",
       "      <td>https://api.weather.gov/icons/land/day/bkn?siz...</td>\n",
       "      <td>[]</td>\n",
       "      <td>9.4</td>\n",
       "      <td>-5.6</td>\n",
       "      <td>320.0</td>\n",
       "      <td>9.36</td>\n",
       "      <td>NaN</td>\n",
       "      <td>103180.0</td>\n",
       "      <td>103210.0</td>\n",
       "      <td>16090</td>\n",
       "      <td>None</td>\n",
       "      <td>None</td>\n",
       "      <td>NaN</td>\n",
       "      <td>NaN</td>\n",
       "      <td>NaN</td>\n",
       "      <td>34.233054</td>\n",
       "      <td>8.044177</td>\n",
       "      <td>NaN</td>\n",
       "      <td>[{'base': {'unitCode': 'wmoUnit:m', 'value': 6...</td>\n",
       "    </tr>\n",
       "    <tr>\n",
       "      <th>2</th>\n",
       "      <td>https://api.weather.gov/stations/KSTL/observat...</td>\n",
       "      <td>wx:ObservationStation</td>\n",
       "      <td>172</td>\n",
       "      <td>https://api.weather.gov/stations/KSTL</td>\n",
       "      <td>2023-04-06T16:51:00+00:00</td>\n",
       "      <td>KSTL 061651Z 35007KT 10SM FEW200 BKN250 08/M05...</td>\n",
       "      <td>Mostly Cloudy</td>\n",
       "      <td>https://api.weather.gov/icons/land/day/bkn?siz...</td>\n",
       "      <td>[]</td>\n",
       "      <td>8.3</td>\n",
       "      <td>-5.0</td>\n",
       "      <td>350.0</td>\n",
       "      <td>12.96</td>\n",
       "      <td>NaN</td>\n",
       "      <td>103220.0</td>\n",
       "      <td>103230.0</td>\n",
       "      <td>16090</td>\n",
       "      <td>None</td>\n",
       "      <td>None</td>\n",
       "      <td>NaN</td>\n",
       "      <td>NaN</td>\n",
       "      <td>NaN</td>\n",
       "      <td>38.587523</td>\n",
       "      <td>6.120070</td>\n",
       "      <td>NaN</td>\n",
       "      <td>[{'base': {'unitCode': 'wmoUnit:m', 'value': 6...</td>\n",
       "    </tr>\n",
       "    <tr>\n",
       "      <th>3</th>\n",
       "      <td>https://api.weather.gov/stations/KSTL/observat...</td>\n",
       "      <td>wx:ObservationStation</td>\n",
       "      <td>172</td>\n",
       "      <td>https://api.weather.gov/stations/KSTL</td>\n",
       "      <td>2023-04-06T15:51:00+00:00</td>\n",
       "      <td>KSTL 061551Z 34006KT 10SM SCT200 BKN250 08/M03...</td>\n",
       "      <td></td>\n",
       "      <td>None</td>\n",
       "      <td>[]</td>\n",
       "      <td>7.8</td>\n",
       "      <td>-3.3</td>\n",
       "      <td>340.0</td>\n",
       "      <td>11.16</td>\n",
       "      <td>NaN</td>\n",
       "      <td>103150.0</td>\n",
       "      <td>103170.0</td>\n",
       "      <td>16090</td>\n",
       "      <td>None</td>\n",
       "      <td>None</td>\n",
       "      <td>NaN</td>\n",
       "      <td>NaN</td>\n",
       "      <td>NaN</td>\n",
       "      <td>45.354304</td>\n",
       "      <td>5.805530</td>\n",
       "      <td>NaN</td>\n",
       "      <td>[]</td>\n",
       "    </tr>\n",
       "    <tr>\n",
       "      <th>4</th>\n",
       "      <td>https://api.weather.gov/stations/KSTL/observat...</td>\n",
       "      <td>wx:ObservationStation</td>\n",
       "      <td>172</td>\n",
       "      <td>https://api.weather.gov/stations/KSTL</td>\n",
       "      <td>2023-04-06T14:51:00+00:00</td>\n",
       "      <td>KSTL 061451Z 02007KT 10SM BKN250 07/M04 A3043 ...</td>\n",
       "      <td>Mostly Cloudy</td>\n",
       "      <td>https://api.weather.gov/icons/land/day/bkn?siz...</td>\n",
       "      <td>[]</td>\n",
       "      <td>6.7</td>\n",
       "      <td>-4.4</td>\n",
       "      <td>20.0</td>\n",
       "      <td>12.96</td>\n",
       "      <td>NaN</td>\n",
       "      <td>103050.0</td>\n",
       "      <td>103070.0</td>\n",
       "      <td>16090</td>\n",
       "      <td>None</td>\n",
       "      <td>None</td>\n",
       "      <td>NaN</td>\n",
       "      <td>NaN</td>\n",
       "      <td>NaN</td>\n",
       "      <td>45.031487</td>\n",
       "      <td>4.170658</td>\n",
       "      <td>NaN</td>\n",
       "      <td>[{'base': {'unitCode': 'wmoUnit:m', 'value': 7...</td>\n",
       "    </tr>\n",
       "  </tbody>\n",
       "</table>\n",
       "</div>"
      ],
      "text/plain": [
       "                                                 @id  ...                                        cloudLayers\n",
       "0  https://api.weather.gov/stations/KSTL/observat...  ...  [{'base': {'unitCode': 'wmoUnit:m', 'value': 7...\n",
       "1  https://api.weather.gov/stations/KSTL/observat...  ...  [{'base': {'unitCode': 'wmoUnit:m', 'value': 6...\n",
       "2  https://api.weather.gov/stations/KSTL/observat...  ...  [{'base': {'unitCode': 'wmoUnit:m', 'value': 6...\n",
       "3  https://api.weather.gov/stations/KSTL/observat...  ...                                                 []\n",
       "4  https://api.weather.gov/stations/KSTL/observat...  ...  [{'base': {'unitCode': 'wmoUnit:m', 'value': 7...\n",
       "\n",
       "[5 rows x 26 columns]"
      ]
     },
     "execution_count": 376,
     "metadata": {},
     "output_type": "execute_result"
    }
   ],
   "source": [
    "hourly_observation_data.head()"
   ]
  },
  {
   "cell_type": "code",
   "execution_count": 377,
   "id": "55e47d2d",
   "metadata": {},
   "outputs": [
    {
     "data": {
      "text/plain": [
       "Index(['@id', '@type', 'elevation', 'station', 'timestamp', 'rawMessage',\n",
       "       'textDescription', 'icon', 'presentWeather', 'temperature', 'dewpoint',\n",
       "       'windDirection', 'windSpeed', 'windGust', 'barometricPressure',\n",
       "       'seaLevelPressure', 'visibility', 'maxTemperatureLast24Hours',\n",
       "       'minTemperatureLast24Hours', 'precipitationLastHour',\n",
       "       'precipitationLast3Hours', 'precipitationLast6Hours',\n",
       "       'relativeHumidity', 'windChill', 'heatIndex', 'cloudLayers'],\n",
       "      dtype='object')"
      ]
     },
     "execution_count": 377,
     "metadata": {},
     "output_type": "execute_result"
    }
   ],
   "source": [
    "hourly_observation_data.columns"
   ]
  },
  {
   "cell_type": "code",
   "execution_count": 378,
   "id": "72ec5007",
   "metadata": {},
   "outputs": [],
   "source": [
    "observation_columns_to_keep = [\"timestamp\",\"textDescription\",\"temperature\",\"windSpeed\",'windDirection']\n",
    "hourly_observation_data = hourly_observation_data.loc[:,observation_columns_to_keep]"
   ]
  },
  {
   "cell_type": "code",
   "execution_count": 379,
   "id": "30e0a331",
   "metadata": {},
   "outputs": [],
   "source": [
    "##Temp will need to be converted to Celsius\n",
    "forecast_columns_to_keep = [\"startTime\",\"isDaytime\",\"temperature\",\"windSpeed\",\"windDirection\",\"shortForecast\"]\n",
    "hourly_forecast_data = hourly_forecast_data.loc[:,forecast_columns_to_keep]"
   ]
  },
  {
   "cell_type": "code",
   "execution_count": 380,
   "id": "792f3f7b",
   "metadata": {},
   "outputs": [],
   "source": [
    "hourly_observation_data.timestamp = pd.to_datetime(hourly_observation_data.timestamp).dt.round(\"H\")"
   ]
  },
  {
   "cell_type": "code",
   "execution_count": 381,
   "id": "88e46757",
   "metadata": {},
   "outputs": [
    {
     "data": {
      "text/html": [
       "<div>\n",
       "<style scoped>\n",
       "    .dataframe tbody tr th:only-of-type {\n",
       "        vertical-align: middle;\n",
       "    }\n",
       "\n",
       "    .dataframe tbody tr th {\n",
       "        vertical-align: top;\n",
       "    }\n",
       "\n",
       "    .dataframe thead th {\n",
       "        text-align: right;\n",
       "    }\n",
       "</style>\n",
       "<table border=\"1\" class=\"dataframe\">\n",
       "  <thead>\n",
       "    <tr style=\"text-align: right;\">\n",
       "      <th></th>\n",
       "      <th>timestamp</th>\n",
       "      <th>textDescription</th>\n",
       "      <th>temperature</th>\n",
       "      <th>windSpeed</th>\n",
       "      <th>windDirection</th>\n",
       "    </tr>\n",
       "  </thead>\n",
       "  <tbody>\n",
       "    <tr>\n",
       "      <th>0</th>\n",
       "      <td>2023-04-06 19:00:00+00:00</td>\n",
       "      <td>Mostly Cloudy</td>\n",
       "      <td>10.6</td>\n",
       "      <td>12.96</td>\n",
       "      <td>320.0</td>\n",
       "    </tr>\n",
       "    <tr>\n",
       "      <th>1</th>\n",
       "      <td>2023-04-06 18:00:00+00:00</td>\n",
       "      <td>Mostly Cloudy</td>\n",
       "      <td>9.4</td>\n",
       "      <td>9.36</td>\n",
       "      <td>320.0</td>\n",
       "    </tr>\n",
       "    <tr>\n",
       "      <th>2</th>\n",
       "      <td>2023-04-06 17:00:00+00:00</td>\n",
       "      <td>Mostly Cloudy</td>\n",
       "      <td>8.3</td>\n",
       "      <td>12.96</td>\n",
       "      <td>350.0</td>\n",
       "    </tr>\n",
       "    <tr>\n",
       "      <th>3</th>\n",
       "      <td>2023-04-06 16:00:00+00:00</td>\n",
       "      <td></td>\n",
       "      <td>7.8</td>\n",
       "      <td>11.16</td>\n",
       "      <td>340.0</td>\n",
       "    </tr>\n",
       "    <tr>\n",
       "      <th>4</th>\n",
       "      <td>2023-04-06 15:00:00+00:00</td>\n",
       "      <td>Mostly Cloudy</td>\n",
       "      <td>6.7</td>\n",
       "      <td>12.96</td>\n",
       "      <td>20.0</td>\n",
       "    </tr>\n",
       "  </tbody>\n",
       "</table>\n",
       "</div>"
      ],
      "text/plain": [
       "                  timestamp textDescription  ...  windSpeed  windDirection\n",
       "0 2023-04-06 19:00:00+00:00   Mostly Cloudy  ...      12.96          320.0\n",
       "1 2023-04-06 18:00:00+00:00   Mostly Cloudy  ...       9.36          320.0\n",
       "2 2023-04-06 17:00:00+00:00   Mostly Cloudy  ...      12.96          350.0\n",
       "3 2023-04-06 16:00:00+00:00                  ...      11.16          340.0\n",
       "4 2023-04-06 15:00:00+00:00   Mostly Cloudy  ...      12.96           20.0\n",
       "\n",
       "[5 rows x 5 columns]"
      ]
     },
     "execution_count": 381,
     "metadata": {},
     "output_type": "execute_result"
    }
   ],
   "source": [
    "hourly_observation_data.head()"
   ]
  },
  {
   "cell_type": "code",
   "execution_count": 382,
   "id": "64b7889a",
   "metadata": {},
   "outputs": [
    {
     "data": {
      "text/plain": [
       "(197, 5)"
      ]
     },
     "execution_count": 382,
     "metadata": {},
     "output_type": "execute_result"
    }
   ],
   "source": [
    "hourly_observation_data.shape"
   ]
  },
  {
   "cell_type": "code",
   "execution_count": 383,
   "id": "a02cea8a",
   "metadata": {},
   "outputs": [],
   "source": [
    "hourly_forecast_data.startTime = pd.to_datetime(hourly_forecast_data.startTime).dt.round(\"H\")"
   ]
  },
  {
   "cell_type": "markdown",
   "id": "18da4802",
   "metadata": {},
   "source": [
    "Merge data sets"
   ]
  },
  {
   "cell_type": "code",
   "execution_count": 384,
   "id": "fe23cb53",
   "metadata": {},
   "outputs": [],
   "source": [
    "solar_weather = hourly_solar_generation.merge(hourly_observation_data,left_on=\"period\" ,right_on=\"timestamp\",how=\"inner\")"
   ]
  },
  {
   "cell_type": "code",
   "execution_count": 385,
   "id": "6347e966",
   "metadata": {},
   "outputs": [
    {
     "data": {
      "text/html": [
       "<div>\n",
       "<style scoped>\n",
       "    .dataframe tbody tr th:only-of-type {\n",
       "        vertical-align: middle;\n",
       "    }\n",
       "\n",
       "    .dataframe tbody tr th {\n",
       "        vertical-align: top;\n",
       "    }\n",
       "\n",
       "    .dataframe thead th {\n",
       "        text-align: right;\n",
       "    }\n",
       "</style>\n",
       "<table border=\"1\" class=\"dataframe\">\n",
       "  <thead>\n",
       "    <tr style=\"text-align: right;\">\n",
       "      <th></th>\n",
       "      <th>period</th>\n",
       "      <th>respondent</th>\n",
       "      <th>respondent-name</th>\n",
       "      <th>fueltype</th>\n",
       "      <th>type-name</th>\n",
       "      <th>value</th>\n",
       "      <th>value-units</th>\n",
       "      <th>timestamp</th>\n",
       "      <th>textDescription</th>\n",
       "      <th>temperature</th>\n",
       "      <th>windSpeed</th>\n",
       "      <th>windDirection</th>\n",
       "      <th>description</th>\n",
       "      <th>description Clear</th>\n",
       "      <th>description Clear and Windy</th>\n",
       "      <th>description Cloudy</th>\n",
       "      <th>description Cloudy and Windy</th>\n",
       "      <th>description Fog/Mist</th>\n",
       "      <th>description Haze</th>\n",
       "      <th>description Heavy Thunderstorms and Heavy Rain</th>\n",
       "      <th>description Light Rain</th>\n",
       "      <th>description Mostly Clear</th>\n",
       "      <th>description Mostly Clear and Windy</th>\n",
       "      <th>description Mostly Cloudy</th>\n",
       "      <th>description Mostly Cloudy and Breezy</th>\n",
       "      <th>description Mostly Cloudy and Windy</th>\n",
       "      <th>description Partly Cloudy</th>\n",
       "      <th>description Partly Cloudy and Windy</th>\n",
       "      <th>description Thunderstorms</th>\n",
       "      <th>description Thunderstorms and Rain</th>\n",
       "      <th>description Thunderstorms and Rain and Fog/Mist</th>\n",
       "    </tr>\n",
       "  </thead>\n",
       "  <tbody>\n",
       "    <tr>\n",
       "      <th>0</th>\n",
       "      <td>2023-04-06 05:00:00+00:00</td>\n",
       "      <td>MISO</td>\n",
       "      <td>Midcontinent Independent System Operator, Inc.</td>\n",
       "      <td>SUN</td>\n",
       "      <td>Solar</td>\n",
       "      <td>2</td>\n",
       "      <td>megawatthours</td>\n",
       "      <td>2023-04-06 05:00:00+00:00</td>\n",
       "      <td>Mostly Clear</td>\n",
       "      <td>7.8</td>\n",
       "      <td>9.36</td>\n",
       "      <td>320.0</td>\n",
       "      <td>0</td>\n",
       "      <td>0</td>\n",
       "      <td>0</td>\n",
       "      <td>0</td>\n",
       "      <td>0</td>\n",
       "      <td>0</td>\n",
       "      <td>0</td>\n",
       "      <td>0</td>\n",
       "      <td>0</td>\n",
       "      <td>1</td>\n",
       "      <td>0</td>\n",
       "      <td>0</td>\n",
       "      <td>0</td>\n",
       "      <td>0</td>\n",
       "      <td>0</td>\n",
       "      <td>0</td>\n",
       "      <td>0</td>\n",
       "      <td>0</td>\n",
       "      <td>0</td>\n",
       "    </tr>\n",
       "    <tr>\n",
       "      <th>1</th>\n",
       "      <td>2023-04-06 04:00:00+00:00</td>\n",
       "      <td>MISO</td>\n",
       "      <td>Midcontinent Independent System Operator, Inc.</td>\n",
       "      <td>SUN</td>\n",
       "      <td>Solar</td>\n",
       "      <td>1</td>\n",
       "      <td>megawatthours</td>\n",
       "      <td>2023-04-06 04:00:00+00:00</td>\n",
       "      <td>Partly Cloudy</td>\n",
       "      <td>8.3</td>\n",
       "      <td>14.76</td>\n",
       "      <td>330.0</td>\n",
       "      <td>0</td>\n",
       "      <td>0</td>\n",
       "      <td>0</td>\n",
       "      <td>0</td>\n",
       "      <td>0</td>\n",
       "      <td>0</td>\n",
       "      <td>0</td>\n",
       "      <td>0</td>\n",
       "      <td>0</td>\n",
       "      <td>0</td>\n",
       "      <td>0</td>\n",
       "      <td>0</td>\n",
       "      <td>0</td>\n",
       "      <td>0</td>\n",
       "      <td>1</td>\n",
       "      <td>0</td>\n",
       "      <td>0</td>\n",
       "      <td>0</td>\n",
       "      <td>0</td>\n",
       "    </tr>\n",
       "    <tr>\n",
       "      <th>2</th>\n",
       "      <td>2023-04-06 03:00:00+00:00</td>\n",
       "      <td>MISO</td>\n",
       "      <td>Midcontinent Independent System Operator, Inc.</td>\n",
       "      <td>SUN</td>\n",
       "      <td>Solar</td>\n",
       "      <td>1</td>\n",
       "      <td>megawatthours</td>\n",
       "      <td>2023-04-06 03:00:00+00:00</td>\n",
       "      <td>Mostly Cloudy</td>\n",
       "      <td>9.4</td>\n",
       "      <td>14.76</td>\n",
       "      <td>310.0</td>\n",
       "      <td>0</td>\n",
       "      <td>0</td>\n",
       "      <td>0</td>\n",
       "      <td>0</td>\n",
       "      <td>0</td>\n",
       "      <td>0</td>\n",
       "      <td>0</td>\n",
       "      <td>0</td>\n",
       "      <td>0</td>\n",
       "      <td>0</td>\n",
       "      <td>0</td>\n",
       "      <td>1</td>\n",
       "      <td>0</td>\n",
       "      <td>0</td>\n",
       "      <td>0</td>\n",
       "      <td>0</td>\n",
       "      <td>0</td>\n",
       "      <td>0</td>\n",
       "      <td>0</td>\n",
       "    </tr>\n",
       "    <tr>\n",
       "      <th>3</th>\n",
       "      <td>2023-04-06 02:00:00+00:00</td>\n",
       "      <td>MISO</td>\n",
       "      <td>Midcontinent Independent System Operator, Inc.</td>\n",
       "      <td>SUN</td>\n",
       "      <td>Solar</td>\n",
       "      <td>1</td>\n",
       "      <td>megawatthours</td>\n",
       "      <td>2023-04-06 02:00:00+00:00</td>\n",
       "      <td>Mostly Cloudy</td>\n",
       "      <td>9.4</td>\n",
       "      <td>11.16</td>\n",
       "      <td>310.0</td>\n",
       "      <td>0</td>\n",
       "      <td>0</td>\n",
       "      <td>0</td>\n",
       "      <td>0</td>\n",
       "      <td>0</td>\n",
       "      <td>0</td>\n",
       "      <td>0</td>\n",
       "      <td>0</td>\n",
       "      <td>0</td>\n",
       "      <td>0</td>\n",
       "      <td>0</td>\n",
       "      <td>1</td>\n",
       "      <td>0</td>\n",
       "      <td>0</td>\n",
       "      <td>0</td>\n",
       "      <td>0</td>\n",
       "      <td>0</td>\n",
       "      <td>0</td>\n",
       "      <td>0</td>\n",
       "    </tr>\n",
       "    <tr>\n",
       "      <th>4</th>\n",
       "      <td>2023-04-06 01:00:00+00:00</td>\n",
       "      <td>MISO</td>\n",
       "      <td>Midcontinent Independent System Operator, Inc.</td>\n",
       "      <td>SUN</td>\n",
       "      <td>Solar</td>\n",
       "      <td>40</td>\n",
       "      <td>megawatthours</td>\n",
       "      <td>2023-04-06 01:00:00+00:00</td>\n",
       "      <td>Partly Cloudy</td>\n",
       "      <td>10.0</td>\n",
       "      <td>7.56</td>\n",
       "      <td>300.0</td>\n",
       "      <td>0</td>\n",
       "      <td>0</td>\n",
       "      <td>0</td>\n",
       "      <td>0</td>\n",
       "      <td>0</td>\n",
       "      <td>0</td>\n",
       "      <td>0</td>\n",
       "      <td>0</td>\n",
       "      <td>0</td>\n",
       "      <td>0</td>\n",
       "      <td>0</td>\n",
       "      <td>0</td>\n",
       "      <td>0</td>\n",
       "      <td>0</td>\n",
       "      <td>1</td>\n",
       "      <td>0</td>\n",
       "      <td>0</td>\n",
       "      <td>0</td>\n",
       "      <td>0</td>\n",
       "    </tr>\n",
       "  </tbody>\n",
       "</table>\n",
       "</div>"
      ],
      "text/plain": [
       "                     period  ... description Thunderstorms and Rain and Fog/Mist\n",
       "0 2023-04-06 05:00:00+00:00  ...                                               0\n",
       "1 2023-04-06 04:00:00+00:00  ...                                               0\n",
       "2 2023-04-06 03:00:00+00:00  ...                                               0\n",
       "3 2023-04-06 02:00:00+00:00  ...                                               0\n",
       "4 2023-04-06 01:00:00+00:00  ...                                               0\n",
       "\n",
       "[5 rows x 31 columns]"
      ]
     },
     "execution_count": 385,
     "metadata": {},
     "output_type": "execute_result"
    }
   ],
   "source": [
    "encoder = LabelBinarizer()\n",
    "encoded_array = encoder.fit_transform(solar_weather.textDescription)\n",
    "\n",
    "for i,class_ in enumerate(encoder.classes_):\n",
    "    solar_weather.loc[:,f\"description {class_}\"] = encoded_array[:,i]\n",
    "    \n",
    "solar_weather.head()"
   ]
  },
  {
   "cell_type": "code",
   "execution_count": 386,
   "id": "e6be9e0b",
   "metadata": {},
   "outputs": [],
   "source": [
    "solar_weather.set_index(\"period\", inplace=True)"
   ]
  },
  {
   "cell_type": "code",
   "execution_count": 387,
   "id": "905529a5",
   "metadata": {},
   "outputs": [],
   "source": [
    "columns_to_drop = [\"respondent\",\"respondent-name\",\"fueltype\",\"type-name\",\"timestamp\",\"windSpeed\",\"windDirection\",\"value-units\",\"textDescription\"]\n",
    "solar_weather.drop(columns_to_drop,axis=1,inplace=True)\n"
   ]
  },
  {
   "cell_type": "code",
   "execution_count": 389,
   "id": "40fad184",
   "metadata": {},
   "outputs": [],
   "source": [
    "solar_weather.dropna(inplace=True)"
   ]
  },
  {
   "cell_type": "code",
   "execution_count": 390,
   "id": "b758ec49",
   "metadata": {},
   "outputs": [],
   "source": [
    "X = solar_weather.drop([\"value\"],axis=1)\n",
    "y = solar_weather.value"
   ]
  },
  {
   "cell_type": "code",
   "execution_count": 391,
   "id": "28f0e2ca",
   "metadata": {},
   "outputs": [],
   "source": [
    "X.dropna(inplace=True)\n",
    "y.dropna(inplace=True)"
   ]
  },
  {
   "cell_type": "code",
   "execution_count": 392,
   "id": "b65e746a",
   "metadata": {},
   "outputs": [],
   "source": [
    "X_train = X.iloc[:-24,:]\n",
    "y_train = y.iloc[:-24]\n",
    "X_test = X.iloc[-24:,:]\n",
    "y_test = y.iloc[-24:]"
   ]
  },
  {
   "cell_type": "code",
   "execution_count": 393,
   "id": "8b8ca3e1",
   "metadata": {},
   "outputs": [
    {
     "data": {
      "text/plain": [
       "period\n",
       "2023-03-31 12:00:00+00:00       1\n",
       "2023-03-31 10:00:00+00:00       0\n",
       "2023-03-31 09:00:00+00:00       0\n",
       "2023-03-31 09:00:00+00:00       0\n",
       "2023-03-31 09:00:00+00:00       0\n",
       "2023-03-31 08:00:00+00:00       0\n",
       "2023-03-31 08:00:00+00:00       0\n",
       "2023-03-31 07:00:00+00:00       0\n",
       "2023-03-31 07:00:00+00:00       0\n",
       "2023-03-31 06:00:00+00:00       0\n",
       "2023-03-31 04:00:00+00:00       1\n",
       "2023-03-31 04:00:00+00:00       1\n",
       "2023-03-31 04:00:00+00:00       1\n",
       "2023-03-31 03:00:00+00:00       2\n",
       "2023-03-31 02:00:00+00:00       2\n",
       "2023-03-31 01:00:00+00:00       8\n",
       "2023-03-31 01:00:00+00:00       8\n",
       "2023-03-31 00:00:00+00:00     234\n",
       "2023-03-30 23:00:00+00:00     832\n",
       "2023-03-30 22:00:00+00:00    1409\n",
       "2023-03-30 21:00:00+00:00    1828\n",
       "2023-03-30 20:00:00+00:00    1937\n",
       "2023-03-30 19:00:00+00:00    2044\n",
       "2023-03-30 18:00:00+00:00    2118\n",
       "Name: value, dtype: int64"
      ]
     },
     "execution_count": 393,
     "metadata": {},
     "output_type": "execute_result"
    }
   ],
   "source": [
    "y_test"
   ]
  },
  {
   "cell_type": "code",
   "execution_count": 394,
   "id": "55dc8382",
   "metadata": {},
   "outputs": [],
   "source": [
    "scaler = MinMaxScaler()\n",
    "X_train_scaled = scaler.fit_transform(X_train)\n",
    "X_test_scaled = scaler.transform(X_test)"
   ]
  },
  {
   "cell_type": "code",
   "execution_count": 395,
   "id": "cb82d2b4",
   "metadata": {},
   "outputs": [],
   "source": [
    "X_train_scaled = X_train_scaled.reshape((X_train_scaled.shape[0],1,X_train_scaled.shape[1]))\n",
    "X_test_scaled = X_test_scaled.reshape((X_test_scaled.shape[0],1,X_test_scaled.shape[1]))"
   ]
  },
  {
   "cell_type": "code",
   "execution_count": 396,
   "id": "892f30be",
   "metadata": {},
   "outputs": [],
   "source": [
    "model=Sequential()\n",
    "model.add(LSTM(50,input_shape=(X_train_scaled.shape[1],X_train_scaled.shape[2])))\n",
    "model.add(Dense(1))\n",
    "model.compile(loss=\"mae\",optimizer=\"adam\")"
   ]
  },
  {
   "cell_type": "code",
   "execution_count": 397,
   "id": "a772c057",
   "metadata": {},
   "outputs": [
    {
     "name": "stdout",
     "output_type": "stream",
     "text": [
      "Epoch 1/50\n",
      "53/53 [==============================] - 6s 45ms/step - loss: 463.9009 - val_loss: 434.3584\n",
      "Epoch 2/50\n",
      "53/53 [==============================] - 0s 5ms/step - loss: 463.6839 - val_loss: 434.2463\n",
      "Epoch 3/50\n",
      "53/53 [==============================] - 0s 7ms/step - loss: 463.3108 - val_loss: 434.1097\n",
      "Epoch 4/50\n",
      "53/53 [==============================] - 0s 7ms/step - loss: 462.9894 - val_loss: 434.1348\n",
      "Epoch 5/50\n",
      "53/53 [==============================] - 0s 7ms/step - loss: 462.7133 - val_loss: 434.2890\n",
      "Epoch 6/50\n",
      "53/53 [==============================] - 0s 6ms/step - loss: 462.4095 - val_loss: 434.4956\n",
      "Epoch 7/50\n",
      "53/53 [==============================] - 0s 6ms/step - loss: 462.0747 - val_loss: 434.6909\n",
      "Epoch 8/50\n",
      "53/53 [==============================] - 0s 6ms/step - loss: 461.7109 - val_loss: 434.9222\n",
      "Epoch 9/50\n",
      "53/53 [==============================] - 0s 6ms/step - loss: 461.3226 - val_loss: 435.1233\n",
      "Epoch 10/50\n",
      "53/53 [==============================] - 0s 6ms/step - loss: 460.9669 - val_loss: 435.3604\n",
      "Epoch 11/50\n",
      "53/53 [==============================] - 0s 6ms/step - loss: 460.5984 - val_loss: 435.6594\n",
      "Epoch 12/50\n",
      "53/53 [==============================] - 0s 6ms/step - loss: 460.2288 - val_loss: 435.9370\n",
      "Epoch 13/50\n",
      "53/53 [==============================] - 0s 6ms/step - loss: 459.8653 - val_loss: 436.2725\n",
      "Epoch 14/50\n",
      "53/53 [==============================] - 0s 7ms/step - loss: 459.4805 - val_loss: 436.6606\n",
      "Epoch 15/50\n",
      "53/53 [==============================] - 0s 7ms/step - loss: 459.0848 - val_loss: 437.0428\n",
      "Epoch 16/50\n",
      "53/53 [==============================] - 0s 7ms/step - loss: 458.6910 - val_loss: 437.4871\n",
      "Epoch 17/50\n",
      "53/53 [==============================] - 0s 7ms/step - loss: 458.2956 - val_loss: 437.9399\n",
      "Epoch 18/50\n",
      "53/53 [==============================] - 0s 6ms/step - loss: 457.9548 - val_loss: 438.2695\n",
      "Epoch 19/50\n",
      "53/53 [==============================] - 1s 13ms/step - loss: 457.5740 - val_loss: 438.7251\n",
      "Epoch 20/50\n",
      "53/53 [==============================] - 0s 7ms/step - loss: 457.2211 - val_loss: 439.1965\n",
      "Epoch 21/50\n",
      "53/53 [==============================] - 0s 7ms/step - loss: 456.8471 - val_loss: 439.5952\n",
      "Epoch 22/50\n",
      "53/53 [==============================] - 0s 6ms/step - loss: 456.4776 - val_loss: 440.0586\n",
      "Epoch 23/50\n",
      "53/53 [==============================] - 0s 6ms/step - loss: 456.1130 - val_loss: 440.4991\n",
      "Epoch 24/50\n",
      "53/53 [==============================] - 0s 6ms/step - loss: 455.7559 - val_loss: 440.9193\n",
      "Epoch 25/50\n",
      "53/53 [==============================] - 0s 6ms/step - loss: 455.4480 - val_loss: 441.3840\n",
      "Epoch 26/50\n",
      "53/53 [==============================] - 0s 7ms/step - loss: 455.1041 - val_loss: 441.7336\n",
      "Epoch 27/50\n",
      "53/53 [==============================] - 0s 7ms/step - loss: 454.7601 - val_loss: 442.0876\n",
      "Epoch 28/50\n",
      "53/53 [==============================] - 0s 6ms/step - loss: 454.4464 - val_loss: 442.5563\n",
      "Epoch 29/50\n",
      "53/53 [==============================] - 0s 6ms/step - loss: 454.0861 - val_loss: 442.9402\n",
      "Epoch 30/50\n",
      "53/53 [==============================] - 0s 6ms/step - loss: 453.7682 - val_loss: 443.3222\n",
      "Epoch 31/50\n",
      "53/53 [==============================] - 0s 6ms/step - loss: 453.4433 - val_loss: 443.7095\n",
      "Epoch 32/50\n",
      "53/53 [==============================] - 0s 6ms/step - loss: 453.1469 - val_loss: 444.0437\n",
      "Epoch 33/50\n",
      "53/53 [==============================] - 0s 6ms/step - loss: 452.8603 - val_loss: 444.5202\n",
      "Epoch 34/50\n",
      "53/53 [==============================] - 1s 12ms/step - loss: 452.5651 - val_loss: 444.7951\n",
      "Epoch 35/50\n",
      "53/53 [==============================] - 1s 20ms/step - loss: 452.2766 - val_loss: 445.2796\n",
      "Epoch 36/50\n",
      "53/53 [==============================] - 1s 13ms/step - loss: 451.9545 - val_loss: 445.6140\n",
      "Epoch 37/50\n",
      "53/53 [==============================] - 0s 7ms/step - loss: 451.6516 - val_loss: 445.9287\n",
      "Epoch 38/50\n",
      "53/53 [==============================] - 1s 12ms/step - loss: 451.3559 - val_loss: 446.2899\n",
      "Epoch 39/50\n",
      "53/53 [==============================] - 1s 11ms/step - loss: 451.0663 - val_loss: 446.6696\n",
      "Epoch 40/50\n",
      "53/53 [==============================] - 0s 8ms/step - loss: 450.7865 - val_loss: 446.9714\n",
      "Epoch 41/50\n",
      "53/53 [==============================] - 0s 9ms/step - loss: 450.5157 - val_loss: 447.1645\n",
      "Epoch 42/50\n",
      "53/53 [==============================] - 0s 8ms/step - loss: 450.2436 - val_loss: 447.4826\n",
      "Epoch 43/50\n",
      "53/53 [==============================] - 0s 8ms/step - loss: 449.9684 - val_loss: 447.8577\n",
      "Epoch 44/50\n",
      "53/53 [==============================] - 0s 7ms/step - loss: 449.6801 - val_loss: 448.0740\n",
      "Epoch 45/50\n",
      "53/53 [==============================] - 0s 8ms/step - loss: 449.4105 - val_loss: 448.3912\n",
      "Epoch 46/50\n",
      "53/53 [==============================] - 0s 8ms/step - loss: 449.1634 - val_loss: 448.6156\n",
      "Epoch 47/50\n",
      "53/53 [==============================] - 0s 8ms/step - loss: 448.8895 - val_loss: 449.0032\n",
      "Epoch 48/50\n",
      "53/53 [==============================] - 0s 9ms/step - loss: 448.6777 - val_loss: 449.1126\n",
      "Epoch 49/50\n",
      "53/53 [==============================] - 0s 8ms/step - loss: 448.4577 - val_loss: 449.3650\n",
      "Epoch 50/50\n",
      "53/53 [==============================] - 0s 7ms/step - loss: 448.2852 - val_loss: 449.4029\n"
     ]
    }
   ],
   "source": [
    "history = model.fit(X_train_scaled, y_train, epochs=50, batch_size=3,validation_data=(X_test_scaled,y_test))"
   ]
  },
  {
   "cell_type": "code",
   "execution_count": 398,
   "id": "0558209e",
   "metadata": {},
   "outputs": [
    {
     "data": {
      "image/png": "[encoded data removed]",
      "text/plain": [
       "<Figure size 640x480 with 1 Axes>"
      ]
     },
     "metadata": {},
     "output_type": "display_data"
    }
   ],
   "source": [
    "plt.plot(history.history[\"loss\"], label=\"train\")\n",
    "plt.plot(history.history[\"val_loss\"], label=\"test\")\n",
    "plt.legend()\n",
    "plt.show()"
   ]
  },
  {
   "cell_type": "code",
   "execution_count": 415,
   "id": "c9b0808f",
   "metadata": {},
   "outputs": [
    {
     "name": "stdout",
     "output_type": "stream",
     "text": [
      "1/1 [==============================] - 0s 33ms/step\n"
     ]
    },
    {
     "data": {
      "text/plain": [
       "array([[43.7552  ],\n",
       "       [44.234993],\n",
       "       [39.98772 ],\n",
       "       [57.347492],\n",
       "       [39.537216],\n",
       "       [37.40198 ],\n",
       "       [42.35443 ],\n",
       "       [37.968735],\n",
       "       [58.54842 ],\n",
       "       [11.897526],\n",
       "       [38.99006 ],\n",
       "       [57.347492],\n",
       "       [55.61004 ],\n",
       "       [45.47698 ],\n",
       "       [59.767105],\n",
       "       [22.922709],\n",
       "       [15.634657],\n",
       "       [47.0957  ],\n",
       "       [50.533604],\n",
       "       [51.191113],\n",
       "       [18.456787],\n",
       "       [58.893665],\n",
       "       [58.731056],\n",
       "       [16.210972]], dtype=float32)"
      ]
     },
     "execution_count": 415,
     "metadata": {},
     "output_type": "execute_result"
    }
   ],
   "source": [
    "y_pred = model.predict(X_test_scaled)\n",
    "y_pred"
   ]
  },
  {
   "cell_type": "code",
   "execution_count": 406,
   "id": "39c759a1",
   "metadata": {},
   "outputs": [
    {
     "data": {
      "text/plain": [
       "period\n",
       "2023-03-31 12:00:00+00:00       1\n",
       "2023-03-31 10:00:00+00:00       0\n",
       "2023-03-31 09:00:00+00:00       0\n",
       "2023-03-31 09:00:00+00:00       0\n",
       "2023-03-31 09:00:00+00:00       0\n",
       "2023-03-31 08:00:00+00:00       0\n",
       "2023-03-31 08:00:00+00:00       0\n",
       "2023-03-31 07:00:00+00:00       0\n",
       "2023-03-31 07:00:00+00:00       0\n",
       "2023-03-31 06:00:00+00:00       0\n",
       "2023-03-31 04:00:00+00:00       1\n",
       "2023-03-31 04:00:00+00:00       1\n",
       "2023-03-31 04:00:00+00:00       1\n",
       "2023-03-31 03:00:00+00:00       2\n",
       "2023-03-31 02:00:00+00:00       2\n",
       "2023-03-31 01:00:00+00:00       8\n",
       "2023-03-31 01:00:00+00:00       8\n",
       "2023-03-31 00:00:00+00:00     234\n",
       "2023-03-30 23:00:00+00:00     832\n",
       "2023-03-30 22:00:00+00:00    1409\n",
       "2023-03-30 21:00:00+00:00    1828\n",
       "2023-03-30 20:00:00+00:00    1937\n",
       "2023-03-30 19:00:00+00:00    2044\n",
       "2023-03-30 18:00:00+00:00    2118\n",
       "Name: value, dtype: int64"
      ]
     },
     "execution_count": 406,
     "metadata": {},
     "output_type": "execute_result"
    }
   ],
   "source": [
    "y_test"
   ]
  },
  {
   "cell_type": "code",
   "execution_count": 428,
   "id": "0f03acfb",
   "metadata": {},
   "outputs": [
    {
     "data": {
      "text/html": [
       "<div>\n",
       "<style scoped>\n",
       "    .dataframe tbody tr th:only-of-type {\n",
       "        vertical-align: middle;\n",
       "    }\n",
       "\n",
       "    .dataframe tbody tr th {\n",
       "        vertical-align: top;\n",
       "    }\n",
       "\n",
       "    .dataframe thead th {\n",
       "        text-align: right;\n",
       "    }\n",
       "</style>\n",
       "<table border=\"1\" class=\"dataframe\">\n",
       "  <thead>\n",
       "    <tr style=\"text-align: right;\">\n",
       "      <th></th>\n",
       "      <th>value</th>\n",
       "      <th>0</th>\n",
       "    </tr>\n",
       "  </thead>\n",
       "  <tbody>\n",
       "    <tr>\n",
       "      <th>0</th>\n",
       "      <td>1</td>\n",
       "      <td>43.755199</td>\n",
       "    </tr>\n",
       "    <tr>\n",
       "      <th>1</th>\n",
       "      <td>0</td>\n",
       "      <td>44.234993</td>\n",
       "    </tr>\n",
       "    <tr>\n",
       "      <th>2</th>\n",
       "      <td>0</td>\n",
       "      <td>39.987720</td>\n",
       "    </tr>\n",
       "    <tr>\n",
       "      <th>3</th>\n",
       "      <td>0</td>\n",
       "      <td>57.347492</td>\n",
       "    </tr>\n",
       "    <tr>\n",
       "      <th>4</th>\n",
       "      <td>0</td>\n",
       "      <td>39.537216</td>\n",
       "    </tr>\n",
       "    <tr>\n",
       "      <th>5</th>\n",
       "      <td>0</td>\n",
       "      <td>37.401981</td>\n",
       "    </tr>\n",
       "    <tr>\n",
       "      <th>6</th>\n",
       "      <td>0</td>\n",
       "      <td>42.354431</td>\n",
       "    </tr>\n",
       "    <tr>\n",
       "      <th>7</th>\n",
       "      <td>0</td>\n",
       "      <td>37.968735</td>\n",
       "    </tr>\n",
       "    <tr>\n",
       "      <th>8</th>\n",
       "      <td>0</td>\n",
       "      <td>58.548420</td>\n",
       "    </tr>\n",
       "    <tr>\n",
       "      <th>9</th>\n",
       "      <td>0</td>\n",
       "      <td>11.897526</td>\n",
       "    </tr>\n",
       "    <tr>\n",
       "      <th>10</th>\n",
       "      <td>1</td>\n",
       "      <td>38.990059</td>\n",
       "    </tr>\n",
       "    <tr>\n",
       "      <th>11</th>\n",
       "      <td>1</td>\n",
       "      <td>57.347492</td>\n",
       "    </tr>\n",
       "    <tr>\n",
       "      <th>12</th>\n",
       "      <td>1</td>\n",
       "      <td>55.610039</td>\n",
       "    </tr>\n",
       "    <tr>\n",
       "      <th>13</th>\n",
       "      <td>2</td>\n",
       "      <td>45.476978</td>\n",
       "    </tr>\n",
       "    <tr>\n",
       "      <th>14</th>\n",
       "      <td>2</td>\n",
       "      <td>59.767105</td>\n",
       "    </tr>\n",
       "    <tr>\n",
       "      <th>15</th>\n",
       "      <td>8</td>\n",
       "      <td>22.922709</td>\n",
       "    </tr>\n",
       "    <tr>\n",
       "      <th>16</th>\n",
       "      <td>8</td>\n",
       "      <td>15.634657</td>\n",
       "    </tr>\n",
       "    <tr>\n",
       "      <th>17</th>\n",
       "      <td>234</td>\n",
       "      <td>47.095699</td>\n",
       "    </tr>\n",
       "    <tr>\n",
       "      <th>18</th>\n",
       "      <td>832</td>\n",
       "      <td>50.533604</td>\n",
       "    </tr>\n",
       "    <tr>\n",
       "      <th>19</th>\n",
       "      <td>1409</td>\n",
       "      <td>51.191113</td>\n",
       "    </tr>\n",
       "    <tr>\n",
       "      <th>20</th>\n",
       "      <td>1828</td>\n",
       "      <td>18.456787</td>\n",
       "    </tr>\n",
       "    <tr>\n",
       "      <th>21</th>\n",
       "      <td>1937</td>\n",
       "      <td>58.893665</td>\n",
       "    </tr>\n",
       "    <tr>\n",
       "      <th>22</th>\n",
       "      <td>2044</td>\n",
       "      <td>58.731056</td>\n",
       "    </tr>\n",
       "    <tr>\n",
       "      <th>23</th>\n",
       "      <td>2118</td>\n",
       "      <td>16.210972</td>\n",
       "    </tr>\n",
       "  </tbody>\n",
       "</table>\n",
       "</div>"
      ],
      "text/plain": [
       "    value          0\n",
       "0       1  43.755199\n",
       "1       0  44.234993\n",
       "2       0  39.987720\n",
       "3       0  57.347492\n",
       "4       0  39.537216\n",
       "5       0  37.401981\n",
       "6       0  42.354431\n",
       "7       0  37.968735\n",
       "8       0  58.548420\n",
       "9       0  11.897526\n",
       "10      1  38.990059\n",
       "11      1  57.347492\n",
       "12      1  55.610039\n",
       "13      2  45.476978\n",
       "14      2  59.767105\n",
       "15      8  22.922709\n",
       "16      8  15.634657\n",
       "17    234  47.095699\n",
       "18    832  50.533604\n",
       "19   1409  51.191113\n",
       "20   1828  18.456787\n",
       "21   1937  58.893665\n",
       "22   2044  58.731056\n",
       "23   2118  16.210972"
      ]
     },
     "execution_count": 428,
     "metadata": {},
     "output_type": "execute_result"
    }
   ],
   "source": [
    "pd.concat([y_test.reset_index(drop=True),pd.Series(y_pred[:,0])],axis=1)"
   ]
  },
  {
   "cell_type": "code",
   "execution_count": 429,
   "id": "8b62845a",
   "metadata": {},
   "outputs": [
    {
     "name": "stdout",
     "output_type": "stream",
     "text": [
      "5/5 [==============================] - 0s 2ms/step\n"
     ]
    }
   ],
   "source": [
    "y_pred_train = model.predict(X_train_scaled)"
   ]
  },
  {
   "cell_type": "code",
   "execution_count": 430,
   "id": "7ad1ad5f",
   "metadata": {},
   "outputs": [
    {
     "data": {
      "text/html": [
       "<div>\n",
       "<style scoped>\n",
       "    .dataframe tbody tr th:only-of-type {\n",
       "        vertical-align: middle;\n",
       "    }\n",
       "\n",
       "    .dataframe tbody tr th {\n",
       "        vertical-align: top;\n",
       "    }\n",
       "\n",
       "    .dataframe thead th {\n",
       "        text-align: right;\n",
       "    }\n",
       "</style>\n",
       "<table border=\"1\" class=\"dataframe\">\n",
       "  <thead>\n",
       "    <tr style=\"text-align: right;\">\n",
       "      <th></th>\n",
       "      <th>value</th>\n",
       "      <th>0</th>\n",
       "    </tr>\n",
       "  </thead>\n",
       "  <tbody>\n",
       "    <tr>\n",
       "      <th>0</th>\n",
       "      <td>2</td>\n",
       "      <td>53.340137</td>\n",
       "    </tr>\n",
       "    <tr>\n",
       "      <th>1</th>\n",
       "      <td>1</td>\n",
       "      <td>41.484680</td>\n",
       "    </tr>\n",
       "    <tr>\n",
       "      <th>2</th>\n",
       "      <td>1</td>\n",
       "      <td>38.915993</td>\n",
       "    </tr>\n",
       "    <tr>\n",
       "      <th>3</th>\n",
       "      <td>1</td>\n",
       "      <td>38.915993</td>\n",
       "    </tr>\n",
       "    <tr>\n",
       "      <th>4</th>\n",
       "      <td>40</td>\n",
       "      <td>42.924110</td>\n",
       "    </tr>\n",
       "    <tr>\n",
       "      <th>...</th>\n",
       "      <td>...</td>\n",
       "      <td>...</td>\n",
       "    </tr>\n",
       "    <tr>\n",
       "      <th>153</th>\n",
       "      <td>963</td>\n",
       "      <td>50.398266</td>\n",
       "    </tr>\n",
       "    <tr>\n",
       "      <th>154</th>\n",
       "      <td>789</td>\n",
       "      <td>59.748238</td>\n",
       "    </tr>\n",
       "    <tr>\n",
       "      <th>155</th>\n",
       "      <td>533</td>\n",
       "      <td>58.731056</td>\n",
       "    </tr>\n",
       "    <tr>\n",
       "      <th>156</th>\n",
       "      <td>231</td>\n",
       "      <td>57.760452</td>\n",
       "    </tr>\n",
       "    <tr>\n",
       "      <th>157</th>\n",
       "      <td>40</td>\n",
       "      <td>47.590084</td>\n",
       "    </tr>\n",
       "  </tbody>\n",
       "</table>\n",
       "<p>158 rows × 2 columns</p>\n",
       "</div>"
      ],
      "text/plain": [
       "     value          0\n",
       "0        2  53.340137\n",
       "1        1  41.484680\n",
       "2        1  38.915993\n",
       "3        1  38.915993\n",
       "4       40  42.924110\n",
       "..     ...        ...\n",
       "153    963  50.398266\n",
       "154    789  59.748238\n",
       "155    533  58.731056\n",
       "156    231  57.760452\n",
       "157     40  47.590084\n",
       "\n",
       "[158 rows x 2 columns]"
      ]
     },
     "execution_count": 430,
     "metadata": {},
     "output_type": "execute_result"
    }
   ],
   "source": [
    "pd.concat([y_train.reset_index(drop=True),pd.Series(y_pred_train[:,0])],axis=1)"
   ]
  },
  {
   "cell_type": "code",
   "execution_count": null,
   "id": "64686342",
   "metadata": {},
   "outputs": [],
   "source": []
  }
 ],
 "metadata": {
  "kernelspec": {
   "display_name": "Python 3 (ipykernel)",
   "language": "python",
   "name": "python3"
  },
  "language_info": {
   "codemirror_mode": {
    "name": "ipython",
    "version": 3
   },
   "file_extension": ".py",
   "mimetype": "text/x-python",
   "name": "python",
   "nbconvert_exporter": "python",
   "pygments_lexer": "ipython3",
   "version": "3.9.13"
  }
 },
 "nbformat": 4,
 "nbformat_minor": 5
}
