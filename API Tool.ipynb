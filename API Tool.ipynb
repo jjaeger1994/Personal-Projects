{
 "cells": [
  {
   "cell_type": "code",
   "execution_count": 2,
   "id": "f1505d00",
   "metadata": {},
   "outputs": [],
   "source": [
    "import pandas as pd\n",
    "import requests as r\n",
    "import numpy as np\n",
    "import matplotlib.pyplot as plt\n",
    "import seaborn as sns\n",
    "import datetime\n",
    "import json\n",
    "from statsmodels.tsa.arima.model import ARIMA \n",
    "from statsmodels.graphics.tsaplots import plot_predict\n",
    "from statsmodels.tsa.arima_process import arma_generate_sample\n",
    "from statsmodels.tsa.statespace.sarimax import SARIMAX"
   ]
  },
  {
   "cell_type": "code",
   "execution_count": 3,
   "id": "be5696e4",
   "metadata": {},
   "outputs": [],
   "source": [
    "api_key = \"aBIdeyJp18dnYHxOLyICUOdCfrz7C2g1VFRdCQbx\"\n"
   ]
  },
  {
   "cell_type": "code",
   "execution_count": 47,
   "id": "f20114d2",
   "metadata": {},
   "outputs": [],
   "source": [
    "solar_monthly_url = f\"https://api.eia.gov/v2/electricity/electric-power-operational-data/data/?frequency=monthly&data[0]=generation&facets[fueltypeid][]=SPV&facets[location][]=MO&facets[sectorid][]=99&sort[0][column]=period&sort[0][direction]=desc&offset=0&length=5000&api_key={api_key}\"\n",
    "wind_monthly_url = f\"https://api.eia.gov/v2/electricity/electric-power-operational-data/data/?frequency=monthly&data[0]=generation&facets[fueltypeid][]=WND&facets[location][]=MO&facets[sectorid][]=99&sort[0][column]=period&sort[0][direction]=desc&offset=0&length=5000&api_key={api_key}\""
   ]
  },
  {
   "cell_type": "code",
   "execution_count": 48,
   "id": "1d46a511",
   "metadata": {},
   "outputs": [
    {
     "name": "stdout",
     "output_type": "stream",
     "text": [
      "Success\n"
     ]
    }
   ],
   "source": [
    "try:\n",
    "    (request := r.get(solar_monthly_url))\n",
    "    print(\"Success\")\n",
    "except Exception as e:\n",
    "    print(e)"
   ]
  },
  {
   "cell_type": "code",
   "execution_count": 50,
   "id": "68308a77",
   "metadata": {},
   "outputs": [],
   "source": [
    "json_data = request.json()"
   ]
  },
  {
   "cell_type": "code",
   "execution_count": 51,
   "id": "47933f07",
   "metadata": {
    "scrolled": false
   },
   "outputs": [],
   "source": [
    "solar_generation = pd.DataFrame(json_data.get('response').get('data'))"
   ]
  },
  {
   "cell_type": "code",
   "execution_count": 52,
   "id": "11ddafa6",
   "metadata": {},
   "outputs": [
    {
     "data": {
      "text/html": [
       "<div>\n",
       "<style scoped>\n",
       "    .dataframe tbody tr th:only-of-type {\n",
       "        vertical-align: middle;\n",
       "    }\n",
       "\n",
       "    .dataframe tbody tr th {\n",
       "        vertical-align: top;\n",
       "    }\n",
       "\n",
       "    .dataframe thead th {\n",
       "        text-align: right;\n",
       "    }\n",
       "</style>\n",
       "<table border=\"1\" class=\"dataframe\">\n",
       "  <thead>\n",
       "    <tr style=\"text-align: right;\">\n",
       "      <th></th>\n",
       "      <th>period</th>\n",
       "      <th>location</th>\n",
       "      <th>stateDescription</th>\n",
       "      <th>sectorid</th>\n",
       "      <th>sectorDescription</th>\n",
       "      <th>fueltypeid</th>\n",
       "      <th>fuelTypeDescription</th>\n",
       "      <th>generation</th>\n",
       "      <th>generation-units</th>\n",
       "    </tr>\n",
       "  </thead>\n",
       "  <tbody>\n",
       "    <tr>\n",
       "      <th>0</th>\n",
       "      <td>2023-01</td>\n",
       "      <td>MO</td>\n",
       "      <td>Missouri</td>\n",
       "      <td>99</td>\n",
       "      <td>All Sectors</td>\n",
       "      <td>SPV</td>\n",
       "      <td>solar photovoltaic</td>\n",
       "      <td>9.56056</td>\n",
       "      <td>thousand megawatthours</td>\n",
       "    </tr>\n",
       "    <tr>\n",
       "      <th>1</th>\n",
       "      <td>2022-12</td>\n",
       "      <td>MO</td>\n",
       "      <td>Missouri</td>\n",
       "      <td>99</td>\n",
       "      <td>All Sectors</td>\n",
       "      <td>SPV</td>\n",
       "      <td>solar photovoltaic</td>\n",
       "      <td>7.20169</td>\n",
       "      <td>thousand megawatthours</td>\n",
       "    </tr>\n",
       "    <tr>\n",
       "      <th>2</th>\n",
       "      <td>2022-11</td>\n",
       "      <td>MO</td>\n",
       "      <td>Missouri</td>\n",
       "      <td>99</td>\n",
       "      <td>All Sectors</td>\n",
       "      <td>SPV</td>\n",
       "      <td>solar photovoltaic</td>\n",
       "      <td>9.47591</td>\n",
       "      <td>thousand megawatthours</td>\n",
       "    </tr>\n",
       "    <tr>\n",
       "      <th>3</th>\n",
       "      <td>2022-10</td>\n",
       "      <td>MO</td>\n",
       "      <td>Missouri</td>\n",
       "      <td>99</td>\n",
       "      <td>All Sectors</td>\n",
       "      <td>SPV</td>\n",
       "      <td>solar photovoltaic</td>\n",
       "      <td>14.40455</td>\n",
       "      <td>thousand megawatthours</td>\n",
       "    </tr>\n",
       "    <tr>\n",
       "      <th>4</th>\n",
       "      <td>2022-09</td>\n",
       "      <td>MO</td>\n",
       "      <td>Missouri</td>\n",
       "      <td>99</td>\n",
       "      <td>All Sectors</td>\n",
       "      <td>SPV</td>\n",
       "      <td>solar photovoltaic</td>\n",
       "      <td>15.42541</td>\n",
       "      <td>thousand megawatthours</td>\n",
       "    </tr>\n",
       "  </tbody>\n",
       "</table>\n",
       "</div>"
      ],
      "text/plain": [
       "    period location stateDescription  sectorid sectorDescription fueltypeid  \\\n",
       "0  2023-01       MO         Missouri        99       All Sectors        SPV   \n",
       "1  2022-12       MO         Missouri        99       All Sectors        SPV   \n",
       "2  2022-11       MO         Missouri        99       All Sectors        SPV   \n",
       "3  2022-10       MO         Missouri        99       All Sectors        SPV   \n",
       "4  2022-09       MO         Missouri        99       All Sectors        SPV   \n",
       "\n",
       "  fuelTypeDescription  generation        generation-units  \n",
       "0  solar photovoltaic     9.56056  thousand megawatthours  \n",
       "1  solar photovoltaic     7.20169  thousand megawatthours  \n",
       "2  solar photovoltaic     9.47591  thousand megawatthours  \n",
       "3  solar photovoltaic    14.40455  thousand megawatthours  \n",
       "4  solar photovoltaic    15.42541  thousand megawatthours  "
      ]
     },
     "execution_count": 52,
     "metadata": {},
     "output_type": "execute_result"
    }
   ],
   "source": [
    "solar_generation.head()"
   ]
  },
  {
   "cell_type": "code",
   "execution_count": 53,
   "id": "02f21401",
   "metadata": {},
   "outputs": [],
   "source": [
    "solar_generation.period = pd.to_datetime(solar_generation.period)"
   ]
  },
  {
   "cell_type": "code",
   "execution_count": 54,
   "id": "867c2cf8",
   "metadata": {},
   "outputs": [
    {
     "data": {
      "text/plain": [
       "<AxesSubplot:xlabel='period', ylabel='generation'>"
      ]
     },
     "execution_count": 54,
     "metadata": {},
     "output_type": "execute_result"
    },
    {
     "data": {
      "image/png": "[encoded data removed]",
      "text/plain": [
       "<Figure size 432x288 with 1 Axes>"
      ]
     },
     "metadata": {
      "needs_background": "light"
     },
     "output_type": "display_data"
    }
   ],
   "source": [
    "sns.lineplot(x=\"period\",y=\"generation\",data=solar_generation)"
   ]
  },
  {
   "cell_type": "code",
   "execution_count": 55,
   "id": "8c49c44b",
   "metadata": {},
   "outputs": [
    {
     "name": "stderr",
     "output_type": "stream",
     "text": [
      "c:\\users\\josh\\appdata\\local\\programs\\python\\python39\\lib\\site-packages\\statsmodels\\tsa\\base\\tsa_model.py:597: ValueWarning: A date index has been provided, but it is not monotonic and so will be ignored when e.g. forecasting.\n",
      "  warnings.warn('A date index has been provided, but it is not'\n",
      "c:\\users\\josh\\appdata\\local\\programs\\python\\python39\\lib\\site-packages\\statsmodels\\tsa\\base\\tsa_model.py:597: ValueWarning: A date index has been provided, but it is not monotonic and so will be ignored when e.g. forecasting.\n",
      "  warnings.warn('A date index has been provided, but it is not'\n",
      "c:\\users\\josh\\appdata\\local\\programs\\python\\python39\\lib\\site-packages\\statsmodels\\tsa\\base\\tsa_model.py:597: ValueWarning: A date index has been provided, but it is not monotonic and so will be ignored when e.g. forecasting.\n",
      "  warnings.warn('A date index has been provided, but it is not'\n"
     ]
    }
   ],
   "source": [
    "index=pd.DatetimeIndex(solar_generation.period).to_period(\"M\")\n",
    "y = pd.Series(solar_generation.generation.values, index=index)\n",
    "arima = ARIMA(y,order=(2,0,2)).fit()"
   ]
  },
  {
   "cell_type": "code",
   "execution_count": 56,
   "id": "e3e490a9",
   "metadata": {},
   "outputs": [
    {
     "name": "stdout",
     "output_type": "stream",
     "text": [
      "                               SARIMAX Results                                \n",
      "==============================================================================\n",
      "Dep. Variable:                      y   No. Observations:                  107\n",
      "Model:                 ARIMA(2, 0, 2)   Log Likelihood                -191.038\n",
      "Date:                Sun, 02 Apr 2023   AIC                            394.076\n",
      "Time:                        18:06:01   BIC                            410.113\n",
      "Sample:                             0   HQIC                           400.577\n",
      "                                - 107                                         \n",
      "Covariance Type:                  opg                                         \n",
      "==============================================================================\n",
      "                 coef    std err          z      P>|z|      [0.025      0.975]\n",
      "------------------------------------------------------------------------------\n",
      "const          6.4249      2.181      2.945      0.003       2.150      10.700\n",
      "ar.L1          1.3939      0.278      5.023      0.000       0.850       1.938\n",
      "ar.L2         -0.4780      0.261     -1.829      0.067      -0.990       0.034\n",
      "ma.L1         -0.1969      0.294     -0.670      0.503      -0.773       0.380\n",
      "ma.L2          0.1503      0.106      1.424      0.154      -0.057       0.357\n",
      "sigma2         2.0324      0.231      8.811      0.000       1.580       2.485\n",
      "===================================================================================\n",
      "Ljung-Box (L1) (Q):                   0.02   Jarque-Bera (JB):                23.32\n",
      "Prob(Q):                              0.90   Prob(JB):                         0.00\n",
      "Heteroskedasticity (H):               0.10   Skew:                             0.46\n",
      "Prob(H) (two-sided):                  0.00   Kurtosis:                         5.09\n",
      "===================================================================================\n",
      "\n",
      "Warnings:\n",
      "[1] Covariance matrix calculated using the outer product of gradients (complex-step).\n"
     ]
    }
   ],
   "source": [
    "print(arima.summary())"
   ]
  },
  {
   "cell_type": "code",
   "execution_count": 57,
   "id": "d56d91cf",
   "metadata": {
    "scrolled": false
   },
   "outputs": [
    {
     "data": {
      "image/png": "[encoded data removed]",
      "text/plain": [
       "<Figure size 720x576 with 1 Axes>"
      ]
     },
     "metadata": {
      "needs_background": "light"
     },
     "output_type": "display_data"
    }
   ],
   "source": [
    "fig, ax = plt.subplots(figsize=(10, 8))\n",
    "fig = plot_predict(arima, ax=ax)\n",
    "legend = ax.legend(loc=\"upper left\")"
   ]
  },
  {
   "cell_type": "code",
   "execution_count": 15,
   "id": "f75b8e7d",
   "metadata": {},
   "outputs": [
    {
     "name": "stderr",
     "output_type": "stream",
     "text": [
      "c:\\users\\josh\\appdata\\local\\programs\\python\\python39\\lib\\site-packages\\statsmodels\\tsa\\base\\tsa_model.py:597: ValueWarning: A date index has been provided, but it is not monotonic and so will be ignored when e.g. forecasting.\n",
      "  warnings.warn('A date index has been provided, but it is not'\n",
      "c:\\users\\josh\\appdata\\local\\programs\\python\\python39\\lib\\site-packages\\statsmodels\\tsa\\base\\tsa_model.py:597: ValueWarning: A date index has been provided, but it is not monotonic and so will be ignored when e.g. forecasting.\n",
      "  warnings.warn('A date index has been provided, but it is not'\n"
     ]
    }
   ],
   "source": [
    "sarimax = SARIMAX(y,order=(2,0,2),seasonal_order=(2,0,2,12)).fit()"
   ]
  },
  {
   "cell_type": "code",
   "execution_count": 16,
   "id": "e58c048f",
   "metadata": {},
   "outputs": [
    {
     "data": {
      "text/html": [
       "<table class=\"simpletable\">\n",
       "<caption>SARIMAX Results</caption>\n",
       "<tr>\n",
       "  <th>Dep. Variable:</th>                  <td>y</td>               <th>  No. Observations:  </th>    <td>107</td>  \n",
       "</tr>\n",
       "<tr>\n",
       "  <th>Model:</th>           <td>SARIMAX(2, 0, 2)x(2, 0, 2, 12)</td> <th>  Log Likelihood     </th> <td>-178.096</td>\n",
       "</tr>\n",
       "<tr>\n",
       "  <th>Date:</th>                   <td>Sun, 02 Apr 2023</td>        <th>  AIC                </th>  <td>374.192</td>\n",
       "</tr>\n",
       "<tr>\n",
       "  <th>Time:</th>                       <td>17:48:02</td>            <th>  BIC                </th>  <td>398.247</td>\n",
       "</tr>\n",
       "<tr>\n",
       "  <th>Sample:</th>                         <td>0</td>               <th>  HQIC               </th>  <td>383.944</td>\n",
       "</tr>\n",
       "<tr>\n",
       "  <th></th>                             <td> - 107</td>             <th>                     </th>     <td> </td>   \n",
       "</tr>\n",
       "<tr>\n",
       "  <th>Covariance Type:</th>               <td>opg</td>              <th>                     </th>     <td> </td>   \n",
       "</tr>\n",
       "</table>\n",
       "<table class=\"simpletable\">\n",
       "<tr>\n",
       "      <td></td>        <th>coef</th>     <th>std err</th>      <th>z</th>      <th>P>|z|</th>  <th>[0.025</th>    <th>0.975]</th>  \n",
       "</tr>\n",
       "<tr>\n",
       "  <th>ar.L1</th>    <td>    0.2224</td> <td>    0.472</td> <td>    0.471</td> <td> 0.638</td> <td>   -0.704</td> <td>    1.148</td>\n",
       "</tr>\n",
       "<tr>\n",
       "  <th>ar.L2</th>    <td>    0.6790</td> <td>    0.434</td> <td>    1.564</td> <td> 0.118</td> <td>   -0.172</td> <td>    1.530</td>\n",
       "</tr>\n",
       "<tr>\n",
       "  <th>ma.L1</th>    <td>    0.7592</td> <td>    0.480</td> <td>    1.581</td> <td> 0.114</td> <td>   -0.182</td> <td>    1.700</td>\n",
       "</tr>\n",
       "<tr>\n",
       "  <th>ma.L2</th>    <td>    0.0988</td> <td>    0.112</td> <td>    0.883</td> <td> 0.377</td> <td>   -0.120</td> <td>    0.318</td>\n",
       "</tr>\n",
       "<tr>\n",
       "  <th>ar.S.L12</th> <td>   -0.0375</td> <td>    4.523</td> <td>   -0.008</td> <td> 0.993</td> <td>   -8.902</td> <td>    8.827</td>\n",
       "</tr>\n",
       "<tr>\n",
       "  <th>ar.S.L24</th> <td>    0.8338</td> <td>    3.946</td> <td>    0.211</td> <td> 0.833</td> <td>   -6.900</td> <td>    8.568</td>\n",
       "</tr>\n",
       "<tr>\n",
       "  <th>ma.S.L12</th> <td>    0.4142</td> <td>    4.698</td> <td>    0.088</td> <td> 0.930</td> <td>   -8.795</td> <td>    9.623</td>\n",
       "</tr>\n",
       "<tr>\n",
       "  <th>ma.S.L24</th> <td>   -0.5069</td> <td>    2.267</td> <td>   -0.224</td> <td> 0.823</td> <td>   -4.950</td> <td>    3.936</td>\n",
       "</tr>\n",
       "<tr>\n",
       "  <th>sigma2</th>   <td>    1.4757</td> <td>    0.273</td> <td>    5.413</td> <td> 0.000</td> <td>    0.941</td> <td>    2.010</td>\n",
       "</tr>\n",
       "</table>\n",
       "<table class=\"simpletable\">\n",
       "<tr>\n",
       "  <th>Ljung-Box (L1) (Q):</th>     <td>0.14</td> <th>  Jarque-Bera (JB):  </th> <td>12.46</td>\n",
       "</tr>\n",
       "<tr>\n",
       "  <th>Prob(Q):</th>                <td>0.70</td> <th>  Prob(JB):          </th> <td>0.00</td> \n",
       "</tr>\n",
       "<tr>\n",
       "  <th>Heteroskedasticity (H):</th> <td>0.15</td> <th>  Skew:              </th> <td>0.41</td> \n",
       "</tr>\n",
       "<tr>\n",
       "  <th>Prob(H) (two-sided):</th>    <td>0.00</td> <th>  Kurtosis:          </th> <td>4.46</td> \n",
       "</tr>\n",
       "</table><br/><br/>Warnings:<br/>[1] Covariance matrix calculated using the outer product of gradients (complex-step)."
      ],
      "text/plain": [
       "<class 'statsmodels.iolib.summary.Summary'>\n",
       "\"\"\"\n",
       "                                     SARIMAX Results                                      \n",
       "==========================================================================================\n",
       "Dep. Variable:                                  y   No. Observations:                  107\n",
       "Model:             SARIMAX(2, 0, 2)x(2, 0, 2, 12)   Log Likelihood                -178.096\n",
       "Date:                            Sun, 02 Apr 2023   AIC                            374.192\n",
       "Time:                                    17:48:02   BIC                            398.247\n",
       "Sample:                                         0   HQIC                           383.944\n",
       "                                            - 107                                         \n",
       "Covariance Type:                              opg                                         \n",
       "==============================================================================\n",
       "                 coef    std err          z      P>|z|      [0.025      0.975]\n",
       "------------------------------------------------------------------------------\n",
       "ar.L1          0.2224      0.472      0.471      0.638      -0.704       1.148\n",
       "ar.L2          0.6790      0.434      1.564      0.118      -0.172       1.530\n",
       "ma.L1          0.7592      0.480      1.581      0.114      -0.182       1.700\n",
       "ma.L2          0.0988      0.112      0.883      0.377      -0.120       0.318\n",
       "ar.S.L12      -0.0375      4.523     -0.008      0.993      -8.902       8.827\n",
       "ar.S.L24       0.8338      3.946      0.211      0.833      -6.900       8.568\n",
       "ma.S.L12       0.4142      4.698      0.088      0.930      -8.795       9.623\n",
       "ma.S.L24      -0.5069      2.267     -0.224      0.823      -4.950       3.936\n",
       "sigma2         1.4757      0.273      5.413      0.000       0.941       2.010\n",
       "===================================================================================\n",
       "Ljung-Box (L1) (Q):                   0.14   Jarque-Bera (JB):                12.46\n",
       "Prob(Q):                              0.70   Prob(JB):                         0.00\n",
       "Heteroskedasticity (H):               0.15   Skew:                             0.41\n",
       "Prob(H) (two-sided):                  0.00   Kurtosis:                         4.46\n",
       "===================================================================================\n",
       "\n",
       "Warnings:\n",
       "[1] Covariance matrix calculated using the outer product of gradients (complex-step).\n",
       "\"\"\""
      ]
     },
     "execution_count": 16,
     "metadata": {},
     "output_type": "execute_result"
    }
   ],
   "source": [
    "sarimax.summary()"
   ]
  },
  {
   "cell_type": "code",
   "execution_count": 17,
   "id": "1d5f1919",
   "metadata": {},
   "outputs": [
    {
     "data": {
      "image/png": "[encoded data removed]",
      "text/plain": [
       "<Figure size 720x576 with 1 Axes>"
      ]
     },
     "metadata": {
      "needs_background": "light"
     },
     "output_type": "display_data"
    }
   ],
   "source": [
    "fig, ax = plt.subplots(figsize=(10, 8))\n",
    "fig = plot_predict(sarimax, ax=ax)\n",
    "legend = ax.legend(loc=\"upper left\")"
   ]
  },
  {
   "cell_type": "code",
   "execution_count": 58,
   "id": "ef897b41",
   "metadata": {},
   "outputs": [
    {
     "name": "stdout",
     "output_type": "stream",
     "text": [
      "Success\n"
     ]
    }
   ],
   "source": [
    "try:\n",
    "    (request := r.get(wind_monthly_url))\n",
    "    print(\"Success\")\n",
    "except Exception as e:\n",
    "    print(e)"
   ]
  },
  {
   "cell_type": "code",
   "execution_count": 59,
   "id": "d4692603",
   "metadata": {},
   "outputs": [],
   "source": [
    "json_data = request.json()"
   ]
  },
  {
   "cell_type": "code",
   "execution_count": 60,
   "id": "a4b55de9",
   "metadata": {},
   "outputs": [],
   "source": [
    "wind_generation = pd.DataFrame(json_data.get('response').get('data'))"
   ]
  },
  {
   "cell_type": "code",
   "execution_count": 61,
   "id": "71c0319a",
   "metadata": {},
   "outputs": [
    {
     "data": {
      "text/html": [
       "<div>\n",
       "<style scoped>\n",
       "    .dataframe tbody tr th:only-of-type {\n",
       "        vertical-align: middle;\n",
       "    }\n",
       "\n",
       "    .dataframe tbody tr th {\n",
       "        vertical-align: top;\n",
       "    }\n",
       "\n",
       "    .dataframe thead th {\n",
       "        text-align: right;\n",
       "    }\n",
       "</style>\n",
       "<table border=\"1\" class=\"dataframe\">\n",
       "  <thead>\n",
       "    <tr style=\"text-align: right;\">\n",
       "      <th></th>\n",
       "      <th>period</th>\n",
       "      <th>location</th>\n",
       "      <th>stateDescription</th>\n",
       "      <th>sectorid</th>\n",
       "      <th>sectorDescription</th>\n",
       "      <th>fueltypeid</th>\n",
       "      <th>fuelTypeDescription</th>\n",
       "      <th>generation</th>\n",
       "      <th>generation-units</th>\n",
       "    </tr>\n",
       "  </thead>\n",
       "  <tbody>\n",
       "    <tr>\n",
       "      <th>0</th>\n",
       "      <td>2023-01</td>\n",
       "      <td>MO</td>\n",
       "      <td>Missouri</td>\n",
       "      <td>99</td>\n",
       "      <td>All Sectors</td>\n",
       "      <td>WND</td>\n",
       "      <td>wind</td>\n",
       "      <td>664.16199</td>\n",
       "      <td>thousand megawatthours</td>\n",
       "    </tr>\n",
       "    <tr>\n",
       "      <th>1</th>\n",
       "      <td>2022-12</td>\n",
       "      <td>MO</td>\n",
       "      <td>Missouri</td>\n",
       "      <td>99</td>\n",
       "      <td>All Sectors</td>\n",
       "      <td>WND</td>\n",
       "      <td>wind</td>\n",
       "      <td>765.94774</td>\n",
       "      <td>thousand megawatthours</td>\n",
       "    </tr>\n",
       "    <tr>\n",
       "      <th>2</th>\n",
       "      <td>2022-11</td>\n",
       "      <td>MO</td>\n",
       "      <td>Missouri</td>\n",
       "      <td>99</td>\n",
       "      <td>All Sectors</td>\n",
       "      <td>WND</td>\n",
       "      <td>wind</td>\n",
       "      <td>794.67596</td>\n",
       "      <td>thousand megawatthours</td>\n",
       "    </tr>\n",
       "    <tr>\n",
       "      <th>3</th>\n",
       "      <td>2022-10</td>\n",
       "      <td>MO</td>\n",
       "      <td>Missouri</td>\n",
       "      <td>99</td>\n",
       "      <td>All Sectors</td>\n",
       "      <td>WND</td>\n",
       "      <td>wind</td>\n",
       "      <td>568.17608</td>\n",
       "      <td>thousand megawatthours</td>\n",
       "    </tr>\n",
       "    <tr>\n",
       "      <th>4</th>\n",
       "      <td>2022-09</td>\n",
       "      <td>MO</td>\n",
       "      <td>Missouri</td>\n",
       "      <td>99</td>\n",
       "      <td>All Sectors</td>\n",
       "      <td>WND</td>\n",
       "      <td>wind</td>\n",
       "      <td>468.58903</td>\n",
       "      <td>thousand megawatthours</td>\n",
       "    </tr>\n",
       "  </tbody>\n",
       "</table>\n",
       "</div>"
      ],
      "text/plain": [
       "    period location stateDescription  sectorid sectorDescription fueltypeid  \\\n",
       "0  2023-01       MO         Missouri        99       All Sectors        WND   \n",
       "1  2022-12       MO         Missouri        99       All Sectors        WND   \n",
       "2  2022-11       MO         Missouri        99       All Sectors        WND   \n",
       "3  2022-10       MO         Missouri        99       All Sectors        WND   \n",
       "4  2022-09       MO         Missouri        99       All Sectors        WND   \n",
       "\n",
       "  fuelTypeDescription  generation        generation-units  \n",
       "0                wind   664.16199  thousand megawatthours  \n",
       "1                wind   765.94774  thousand megawatthours  \n",
       "2                wind   794.67596  thousand megawatthours  \n",
       "3                wind   568.17608  thousand megawatthours  \n",
       "4                wind   468.58903  thousand megawatthours  "
      ]
     },
     "execution_count": 61,
     "metadata": {},
     "output_type": "execute_result"
    }
   ],
   "source": [
    "wind_generation.head()"
   ]
  },
  {
   "cell_type": "code",
   "execution_count": 62,
   "id": "258abf03",
   "metadata": {},
   "outputs": [],
   "source": [
    "wind_generation.period = pd.to_datetime(wind_generation.period)"
   ]
  },
  {
   "cell_type": "code",
   "execution_count": 63,
   "id": "2670025e",
   "metadata": {},
   "outputs": [
    {
     "data": {
      "text/plain": [
       "<AxesSubplot:xlabel='period', ylabel='generation'>"
      ]
     },
     "execution_count": 63,
     "metadata": {},
     "output_type": "execute_result"
    },
    {
     "data": {
      "image/png": "[encoded data removed]",
      "text/plain": [
       "<Figure size 432x288 with 1 Axes>"
      ]
     },
     "metadata": {
      "needs_background": "light"
     },
     "output_type": "display_data"
    }
   ],
   "source": [
    "sns.lineplot(x=\"period\",y=\"generation\",data=wind_generation)"
   ]
  },
  {
   "cell_type": "markdown",
   "id": "380ff69e",
   "metadata": {},
   "source": [
    "Hourly Prediction"
   ]
  },
  {
   "cell_type": "code",
   "execution_count": 66,
   "id": "c14ba8ee",
   "metadata": {},
   "outputs": [],
   "source": [
    "solar_hourly_url = f\"https://api.eia.gov/v2/electricity/rto/fuel-type-data/data/?frequency=hourly&data[0]=value&facets[fueltype][]=SUN&facets[respondent][]=MISO&sort[0][column]=period&sort[0][direction]=desc&offset=0&length=5000&api_key={api_key}\"\n",
    "wind_hourly_url = f\"https://api.eia.gov/v2/electricity/rto/fuel-type-data/data/?frequency=hourly&data[0]=value&facets[respondent][]=MISO&facets[fueltype][]=WND&sort[0][column]=period&sort[0][direction]=desc&offset=0&length=5000&api_key={api_key}\""
   ]
  },
  {
   "cell_type": "code",
   "execution_count": 65,
   "id": "f360ca24",
   "metadata": {},
   "outputs": [
    {
     "name": "stdout",
     "output_type": "stream",
     "text": [
      "Success\n"
     ]
    }
   ],
   "source": [
    "try:\n",
    "    (request := r.get(solar_hourly_url))\n",
    "    print(\"Success\")\n",
    "except Exception as e:\n",
    "    print(e)"
   ]
  },
  {
   "cell_type": "code",
   "execution_count": 67,
   "id": "61100a84",
   "metadata": {},
   "outputs": [],
   "source": [
    "json_data = request.json()"
   ]
  },
  {
   "cell_type": "code",
   "execution_count": 21,
   "id": "6f4fe96a",
   "metadata": {},
   "outputs": [],
   "source": [
    "hourly_solar_generation = pd.DataFrame(json_data.get('response').get('data'))"
   ]
  },
  {
   "cell_type": "code",
   "execution_count": 22,
   "id": "e0aeb17b",
   "metadata": {},
   "outputs": [
    {
     "data": {
      "text/html": [
       "<div>\n",
       "<style scoped>\n",
       "    .dataframe tbody tr th:only-of-type {\n",
       "        vertical-align: middle;\n",
       "    }\n",
       "\n",
       "    .dataframe tbody tr th {\n",
       "        vertical-align: top;\n",
       "    }\n",
       "\n",
       "    .dataframe thead th {\n",
       "        text-align: right;\n",
       "    }\n",
       "</style>\n",
       "<table border=\"1\" class=\"dataframe\">\n",
       "  <thead>\n",
       "    <tr style=\"text-align: right;\">\n",
       "      <th></th>\n",
       "      <th>period</th>\n",
       "      <th>respondent</th>\n",
       "      <th>respondent-name</th>\n",
       "      <th>fueltype</th>\n",
       "      <th>type-name</th>\n",
       "      <th>value</th>\n",
       "      <th>value-units</th>\n",
       "    </tr>\n",
       "  </thead>\n",
       "  <tbody>\n",
       "    <tr>\n",
       "      <th>0</th>\n",
       "      <td>2023-04-02T05</td>\n",
       "      <td>MISO</td>\n",
       "      <td>Midcontinent Independent System Operator, Inc.</td>\n",
       "      <td>SUN</td>\n",
       "      <td>Solar</td>\n",
       "      <td>0</td>\n",
       "      <td>megawatthours</td>\n",
       "    </tr>\n",
       "    <tr>\n",
       "      <th>1</th>\n",
       "      <td>2023-04-02T04</td>\n",
       "      <td>MISO</td>\n",
       "      <td>Midcontinent Independent System Operator, Inc.</td>\n",
       "      <td>SUN</td>\n",
       "      <td>Solar</td>\n",
       "      <td>0</td>\n",
       "      <td>megawatthours</td>\n",
       "    </tr>\n",
       "    <tr>\n",
       "      <th>2</th>\n",
       "      <td>2023-04-02T03</td>\n",
       "      <td>MISO</td>\n",
       "      <td>Midcontinent Independent System Operator, Inc.</td>\n",
       "      <td>SUN</td>\n",
       "      <td>Solar</td>\n",
       "      <td>0</td>\n",
       "      <td>megawatthours</td>\n",
       "    </tr>\n",
       "    <tr>\n",
       "      <th>3</th>\n",
       "      <td>2023-04-02T02</td>\n",
       "      <td>MISO</td>\n",
       "      <td>Midcontinent Independent System Operator, Inc.</td>\n",
       "      <td>SUN</td>\n",
       "      <td>Solar</td>\n",
       "      <td>0</td>\n",
       "      <td>megawatthours</td>\n",
       "    </tr>\n",
       "    <tr>\n",
       "      <th>4</th>\n",
       "      <td>2023-04-02T01</td>\n",
       "      <td>MISO</td>\n",
       "      <td>Midcontinent Independent System Operator, Inc.</td>\n",
       "      <td>SUN</td>\n",
       "      <td>Solar</td>\n",
       "      <td>34</td>\n",
       "      <td>megawatthours</td>\n",
       "    </tr>\n",
       "  </tbody>\n",
       "</table>\n",
       "</div>"
      ],
      "text/plain": [
       "          period respondent                                 respondent-name  \\\n",
       "0  2023-04-02T05       MISO  Midcontinent Independent System Operator, Inc.   \n",
       "1  2023-04-02T04       MISO  Midcontinent Independent System Operator, Inc.   \n",
       "2  2023-04-02T03       MISO  Midcontinent Independent System Operator, Inc.   \n",
       "3  2023-04-02T02       MISO  Midcontinent Independent System Operator, Inc.   \n",
       "4  2023-04-02T01       MISO  Midcontinent Independent System Operator, Inc.   \n",
       "\n",
       "  fueltype type-name  value    value-units  \n",
       "0      SUN     Solar      0  megawatthours  \n",
       "1      SUN     Solar      0  megawatthours  \n",
       "2      SUN     Solar      0  megawatthours  \n",
       "3      SUN     Solar      0  megawatthours  \n",
       "4      SUN     Solar     34  megawatthours  "
      ]
     },
     "execution_count": 22,
     "metadata": {},
     "output_type": "execute_result"
    }
   ],
   "source": [
    "hourly_solar_generation.head()"
   ]
  },
  {
   "cell_type": "code",
   "execution_count": 23,
   "id": "cbe7b323",
   "metadata": {},
   "outputs": [],
   "source": [
    "hourly_solar_generation.period = pd.to_datetime(hourly_solar_generation.period)\n"
   ]
  },
  {
   "cell_type": "code",
   "execution_count": 24,
   "id": "abfb5484",
   "metadata": {},
   "outputs": [
    {
     "data": {
      "text/html": [
       "<div>\n",
       "<style scoped>\n",
       "    .dataframe tbody tr th:only-of-type {\n",
       "        vertical-align: middle;\n",
       "    }\n",
       "\n",
       "    .dataframe tbody tr th {\n",
       "        vertical-align: top;\n",
       "    }\n",
       "\n",
       "    .dataframe thead th {\n",
       "        text-align: right;\n",
       "    }\n",
       "</style>\n",
       "<table border=\"1\" class=\"dataframe\">\n",
       "  <thead>\n",
       "    <tr style=\"text-align: right;\">\n",
       "      <th></th>\n",
       "      <th>period</th>\n",
       "      <th>respondent</th>\n",
       "      <th>respondent-name</th>\n",
       "      <th>fueltype</th>\n",
       "      <th>type-name</th>\n",
       "      <th>value</th>\n",
       "      <th>value-units</th>\n",
       "    </tr>\n",
       "  </thead>\n",
       "  <tbody>\n",
       "    <tr>\n",
       "      <th>0</th>\n",
       "      <td>2023-04-02 05:00:00</td>\n",
       "      <td>MISO</td>\n",
       "      <td>Midcontinent Independent System Operator, Inc.</td>\n",
       "      <td>SUN</td>\n",
       "      <td>Solar</td>\n",
       "      <td>0</td>\n",
       "      <td>megawatthours</td>\n",
       "    </tr>\n",
       "    <tr>\n",
       "      <th>1</th>\n",
       "      <td>2023-04-02 04:00:00</td>\n",
       "      <td>MISO</td>\n",
       "      <td>Midcontinent Independent System Operator, Inc.</td>\n",
       "      <td>SUN</td>\n",
       "      <td>Solar</td>\n",
       "      <td>0</td>\n",
       "      <td>megawatthours</td>\n",
       "    </tr>\n",
       "    <tr>\n",
       "      <th>2</th>\n",
       "      <td>2023-04-02 03:00:00</td>\n",
       "      <td>MISO</td>\n",
       "      <td>Midcontinent Independent System Operator, Inc.</td>\n",
       "      <td>SUN</td>\n",
       "      <td>Solar</td>\n",
       "      <td>0</td>\n",
       "      <td>megawatthours</td>\n",
       "    </tr>\n",
       "    <tr>\n",
       "      <th>3</th>\n",
       "      <td>2023-04-02 02:00:00</td>\n",
       "      <td>MISO</td>\n",
       "      <td>Midcontinent Independent System Operator, Inc.</td>\n",
       "      <td>SUN</td>\n",
       "      <td>Solar</td>\n",
       "      <td>0</td>\n",
       "      <td>megawatthours</td>\n",
       "    </tr>\n",
       "    <tr>\n",
       "      <th>4</th>\n",
       "      <td>2023-04-02 01:00:00</td>\n",
       "      <td>MISO</td>\n",
       "      <td>Midcontinent Independent System Operator, Inc.</td>\n",
       "      <td>SUN</td>\n",
       "      <td>Solar</td>\n",
       "      <td>34</td>\n",
       "      <td>megawatthours</td>\n",
       "    </tr>\n",
       "  </tbody>\n",
       "</table>\n",
       "</div>"
      ],
      "text/plain": [
       "               period respondent  \\\n",
       "0 2023-04-02 05:00:00       MISO   \n",
       "1 2023-04-02 04:00:00       MISO   \n",
       "2 2023-04-02 03:00:00       MISO   \n",
       "3 2023-04-02 02:00:00       MISO   \n",
       "4 2023-04-02 01:00:00       MISO   \n",
       "\n",
       "                                  respondent-name fueltype type-name  value  \\\n",
       "0  Midcontinent Independent System Operator, Inc.      SUN     Solar      0   \n",
       "1  Midcontinent Independent System Operator, Inc.      SUN     Solar      0   \n",
       "2  Midcontinent Independent System Operator, Inc.      SUN     Solar      0   \n",
       "3  Midcontinent Independent System Operator, Inc.      SUN     Solar      0   \n",
       "4  Midcontinent Independent System Operator, Inc.      SUN     Solar     34   \n",
       "\n",
       "     value-units  \n",
       "0  megawatthours  \n",
       "1  megawatthours  \n",
       "2  megawatthours  \n",
       "3  megawatthours  \n",
       "4  megawatthours  "
      ]
     },
     "execution_count": 24,
     "metadata": {},
     "output_type": "execute_result"
    }
   ],
   "source": [
    "hourly_solar_generation.head()"
   ]
  },
  {
   "cell_type": "code",
   "execution_count": 25,
   "id": "51e3b105",
   "metadata": {},
   "outputs": [
    {
     "data": {
      "text/plain": [
       "<AxesSubplot:xlabel='period', ylabel='value'>"
      ]
     },
     "execution_count": 25,
     "metadata": {},
     "output_type": "execute_result"
    },
    {
     "data": {
      "image/png": "[encoded data removed]",
      "text/plain": [
       "<Figure size 432x288 with 1 Axes>"
      ]
     },
     "metadata": {
      "needs_background": "light"
     },
     "output_type": "display_data"
    }
   ],
   "source": [
    "sns.lineplot(x=\"period\",y=\"value\",data=hourly_solar_generation)"
   ]
  },
  {
   "cell_type": "code",
   "execution_count": 68,
   "id": "13b42652",
   "metadata": {},
   "outputs": [
    {
     "name": "stdout",
     "output_type": "stream",
     "text": [
      "Success\n"
     ]
    }
   ],
   "source": [
    "try:\n",
    "    (request := r.get(wind_hourly_url))\n",
    "    print(\"Success\")\n",
    "except Exception as e:\n",
    "    print(e)"
   ]
  },
  {
   "cell_type": "code",
   "execution_count": 69,
   "id": "f8acf761",
   "metadata": {},
   "outputs": [],
   "source": [
    "json_data = request.json()"
   ]
  },
  {
   "cell_type": "code",
   "execution_count": 70,
   "id": "7bb36d31",
   "metadata": {},
   "outputs": [],
   "source": [
    "hourly_wind_generation = pd.DataFrame(json_data.get('response').get('data'))"
   ]
  },
  {
   "cell_type": "code",
   "execution_count": 71,
   "id": "4211a199",
   "metadata": {},
   "outputs": [
    {
     "data": {
      "text/html": [
       "<div>\n",
       "<style scoped>\n",
       "    .dataframe tbody tr th:only-of-type {\n",
       "        vertical-align: middle;\n",
       "    }\n",
       "\n",
       "    .dataframe tbody tr th {\n",
       "        vertical-align: top;\n",
       "    }\n",
       "\n",
       "    .dataframe thead th {\n",
       "        text-align: right;\n",
       "    }\n",
       "</style>\n",
       "<table border=\"1\" class=\"dataframe\">\n",
       "  <thead>\n",
       "    <tr style=\"text-align: right;\">\n",
       "      <th></th>\n",
       "      <th>period</th>\n",
       "      <th>respondent</th>\n",
       "      <th>respondent-name</th>\n",
       "      <th>fueltype</th>\n",
       "      <th>type-name</th>\n",
       "      <th>value</th>\n",
       "      <th>value-units</th>\n",
       "    </tr>\n",
       "  </thead>\n",
       "  <tbody>\n",
       "    <tr>\n",
       "      <th>0</th>\n",
       "      <td>2023-04-02T05</td>\n",
       "      <td>MISO</td>\n",
       "      <td>Midcontinent Independent System Operator, Inc.</td>\n",
       "      <td>WND</td>\n",
       "      <td>Wind</td>\n",
       "      <td>12282</td>\n",
       "      <td>megawatthours</td>\n",
       "    </tr>\n",
       "    <tr>\n",
       "      <th>1</th>\n",
       "      <td>2023-04-02T04</td>\n",
       "      <td>MISO</td>\n",
       "      <td>Midcontinent Independent System Operator, Inc.</td>\n",
       "      <td>WND</td>\n",
       "      <td>Wind</td>\n",
       "      <td>9427</td>\n",
       "      <td>megawatthours</td>\n",
       "    </tr>\n",
       "    <tr>\n",
       "      <th>2</th>\n",
       "      <td>2023-04-02T03</td>\n",
       "      <td>MISO</td>\n",
       "      <td>Midcontinent Independent System Operator, Inc.</td>\n",
       "      <td>WND</td>\n",
       "      <td>Wind</td>\n",
       "      <td>7617</td>\n",
       "      <td>megawatthours</td>\n",
       "    </tr>\n",
       "    <tr>\n",
       "      <th>3</th>\n",
       "      <td>2023-04-02T02</td>\n",
       "      <td>MISO</td>\n",
       "      <td>Midcontinent Independent System Operator, Inc.</td>\n",
       "      <td>WND</td>\n",
       "      <td>Wind</td>\n",
       "      <td>6584</td>\n",
       "      <td>megawatthours</td>\n",
       "    </tr>\n",
       "    <tr>\n",
       "      <th>4</th>\n",
       "      <td>2023-04-02T01</td>\n",
       "      <td>MISO</td>\n",
       "      <td>Midcontinent Independent System Operator, Inc.</td>\n",
       "      <td>WND</td>\n",
       "      <td>Wind</td>\n",
       "      <td>6137</td>\n",
       "      <td>megawatthours</td>\n",
       "    </tr>\n",
       "  </tbody>\n",
       "</table>\n",
       "</div>"
      ],
      "text/plain": [
       "          period respondent                                 respondent-name  \\\n",
       "0  2023-04-02T05       MISO  Midcontinent Independent System Operator, Inc.   \n",
       "1  2023-04-02T04       MISO  Midcontinent Independent System Operator, Inc.   \n",
       "2  2023-04-02T03       MISO  Midcontinent Independent System Operator, Inc.   \n",
       "3  2023-04-02T02       MISO  Midcontinent Independent System Operator, Inc.   \n",
       "4  2023-04-02T01       MISO  Midcontinent Independent System Operator, Inc.   \n",
       "\n",
       "  fueltype type-name  value    value-units  \n",
       "0      WND      Wind  12282  megawatthours  \n",
       "1      WND      Wind   9427  megawatthours  \n",
       "2      WND      Wind   7617  megawatthours  \n",
       "3      WND      Wind   6584  megawatthours  \n",
       "4      WND      Wind   6137  megawatthours  "
      ]
     },
     "execution_count": 71,
     "metadata": {},
     "output_type": "execute_result"
    }
   ],
   "source": [
    "hourly_wind_generation.head()"
   ]
  },
  {
   "cell_type": "code",
   "execution_count": 72,
   "id": "557449e9",
   "metadata": {},
   "outputs": [],
   "source": [
    "hourly_wind_generation.period = pd.to_datetime(hourly_wind_generation.period)"
   ]
  },
  {
   "cell_type": "code",
   "execution_count": 73,
   "id": "08feac12",
   "metadata": {},
   "outputs": [
    {
     "data": {
      "text/plain": [
       "<AxesSubplot:xlabel='period', ylabel='value'>"
      ]
     },
     "execution_count": 73,
     "metadata": {},
     "output_type": "execute_result"
    },
    {
     "data": {
      "image/png": "[encoded data removed]",
      "text/plain": [
       "<Figure size 432x288 with 1 Axes>"
      ]
     },
     "metadata": {
      "needs_background": "light"
     },
     "output_type": "display_data"
    }
   ],
   "source": [
    "sns.lineplot(x=\"period\",y=\"value\",data=hourly_wind_generation)"
   ]
  },
  {
   "cell_type": "markdown",
   "id": "f0bc7206",
   "metadata": {},
   "source": [
    "Weather Data"
   ]
  },
  {
   "cell_type": "code",
   "execution_count": 26,
   "id": "791e5d14",
   "metadata": {},
   "outputs": [],
   "source": [
    "weather_hourly_url = \"https://api.weather.gov/stations/KSTL/observations?limit=500\""
   ]
  },
  {
   "cell_type": "code",
   "execution_count": 39,
   "id": "9641cbeb",
   "metadata": {
    "scrolled": true
   },
   "outputs": [
    {
     "name": "stdout",
     "output_type": "stream",
     "text": [
      "Successful\n"
     ]
    }
   ],
   "source": [
    "try:\n",
    "    (request := r.get(weather_hourly_url))\n",
    "    print(\"Successful\")\n",
    "except Exception as e:\n",
    "    print(e)"
   ]
  },
  {
   "cell_type": "code",
   "execution_count": 28,
   "id": "93d122c8",
   "metadata": {},
   "outputs": [],
   "source": [
    "json_data = request.json()"
   ]
  },
  {
   "cell_type": "code",
   "execution_count": 29,
   "id": "6c88bcd8",
   "metadata": {},
   "outputs": [],
   "source": [
    "d= json.loads(request.text)"
   ]
  },
  {
   "cell_type": "code",
   "execution_count": 30,
   "id": "41609064",
   "metadata": {},
   "outputs": [],
   "source": [
    "parsed = [d[\"features\"][i][\"properties\"] for i in range(0,len(d[\"features\"]))]\n",
    "\n",
    "for i in range(0,len(parsed)):\n",
    "    for key in parsed[i].keys():\n",
    "        if isinstance(parsed[i][key],dict):\n",
    "            if \"value\" in parsed[i][key]:\n",
    "                parsed[i][key] = parsed[i][key][\"value\"]"
   ]
  },
  {
   "cell_type": "code",
   "execution_count": 31,
   "id": "358d0dbf",
   "metadata": {
    "scrolled": true
   },
   "outputs": [],
   "source": [
    "hourly_observation_data = pd.DataFrame(parsed)"
   ]
  },
  {
   "cell_type": "code",
   "execution_count": 32,
   "id": "de1037ba",
   "metadata": {},
   "outputs": [],
   "source": [
    "forecast_url = \"https://api.weather.gov/gridpoints/LSX/89,80/forecast/hourly\""
   ]
  },
  {
   "cell_type": "code",
   "execution_count": 38,
   "id": "0cc57685",
   "metadata": {},
   "outputs": [
    {
     "name": "stdout",
     "output_type": "stream",
     "text": [
      "Successful\n"
     ]
    }
   ],
   "source": [
    "try:\n",
    "    (request := r.get(forecast_url))\n",
    "    print(\"Successful\")\n",
    "except Exception as e:\n",
    "    print(e)"
   ]
  },
  {
   "cell_type": "code",
   "execution_count": 34,
   "id": "fa70b519",
   "metadata": {},
   "outputs": [],
   "source": [
    "d = json.loads(request.text)"
   ]
  },
  {
   "cell_type": "code",
   "execution_count": 35,
   "id": "0df3db28",
   "metadata": {},
   "outputs": [],
   "source": [
    "hourly_forecast_data = pd.DataFrame(d[\"properties\"][\"periods\"])"
   ]
  },
  {
   "cell_type": "code",
   "execution_count": 40,
   "id": "e9d3f2fe",
   "metadata": {},
   "outputs": [
    {
     "data": {
      "text/html": [
       "<div>\n",
       "<style scoped>\n",
       "    .dataframe tbody tr th:only-of-type {\n",
       "        vertical-align: middle;\n",
       "    }\n",
       "\n",
       "    .dataframe tbody tr th {\n",
       "        vertical-align: top;\n",
       "    }\n",
       "\n",
       "    .dataframe thead th {\n",
       "        text-align: right;\n",
       "    }\n",
       "</style>\n",
       "<table border=\"1\" class=\"dataframe\">\n",
       "  <thead>\n",
       "    <tr style=\"text-align: right;\">\n",
       "      <th></th>\n",
       "      <th>number</th>\n",
       "      <th>name</th>\n",
       "      <th>startTime</th>\n",
       "      <th>endTime</th>\n",
       "      <th>isDaytime</th>\n",
       "      <th>temperature</th>\n",
       "      <th>temperatureUnit</th>\n",
       "      <th>temperatureTrend</th>\n",
       "      <th>probabilityOfPrecipitation</th>\n",
       "      <th>dewpoint</th>\n",
       "      <th>relativeHumidity</th>\n",
       "      <th>windSpeed</th>\n",
       "      <th>windDirection</th>\n",
       "      <th>icon</th>\n",
       "      <th>shortForecast</th>\n",
       "      <th>detailedForecast</th>\n",
       "    </tr>\n",
       "  </thead>\n",
       "  <tbody>\n",
       "    <tr>\n",
       "      <th>0</th>\n",
       "      <td>1</td>\n",
       "      <td></td>\n",
       "      <td>2023-04-02T17:00:00-05:00</td>\n",
       "      <td>2023-04-02T18:00:00-05:00</td>\n",
       "      <td>True</td>\n",
       "      <td>69</td>\n",
       "      <td>F</td>\n",
       "      <td>None</td>\n",
       "      <td>{'unitCode': 'wmoUnit:percent', 'value': 0}</td>\n",
       "      <td>{'unitCode': 'wmoUnit:degC', 'value': 2.777777...</td>\n",
       "      <td>{'unitCode': 'wmoUnit:percent', 'value': 31}</td>\n",
       "      <td>17 mph</td>\n",
       "      <td>S</td>\n",
       "      <td>https://api.weather.gov/icons/land/day/skc,0?s...</td>\n",
       "      <td>Sunny</td>\n",
       "      <td></td>\n",
       "    </tr>\n",
       "    <tr>\n",
       "      <th>1</th>\n",
       "      <td>2</td>\n",
       "      <td></td>\n",
       "      <td>2023-04-02T18:00:00-05:00</td>\n",
       "      <td>2023-04-02T19:00:00-05:00</td>\n",
       "      <td>False</td>\n",
       "      <td>68</td>\n",
       "      <td>F</td>\n",
       "      <td>None</td>\n",
       "      <td>{'unitCode': 'wmoUnit:percent', 'value': 0}</td>\n",
       "      <td>{'unitCode': 'wmoUnit:degC', 'value': 3.333333...</td>\n",
       "      <td>{'unitCode': 'wmoUnit:percent', 'value': 33}</td>\n",
       "      <td>15 mph</td>\n",
       "      <td>S</td>\n",
       "      <td>https://api.weather.gov/icons/land/night/few,0...</td>\n",
       "      <td>Mostly Clear</td>\n",
       "      <td></td>\n",
       "    </tr>\n",
       "    <tr>\n",
       "      <th>2</th>\n",
       "      <td>3</td>\n",
       "      <td></td>\n",
       "      <td>2023-04-02T19:00:00-05:00</td>\n",
       "      <td>2023-04-02T20:00:00-05:00</td>\n",
       "      <td>False</td>\n",
       "      <td>66</td>\n",
       "      <td>F</td>\n",
       "      <td>None</td>\n",
       "      <td>{'unitCode': 'wmoUnit:percent', 'value': 0}</td>\n",
       "      <td>{'unitCode': 'wmoUnit:degC', 'value': 3.333333...</td>\n",
       "      <td>{'unitCode': 'wmoUnit:percent', 'value': 36}</td>\n",
       "      <td>13 mph</td>\n",
       "      <td>S</td>\n",
       "      <td>https://api.weather.gov/icons/land/night/few,0...</td>\n",
       "      <td>Mostly Clear</td>\n",
       "      <td></td>\n",
       "    </tr>\n",
       "    <tr>\n",
       "      <th>3</th>\n",
       "      <td>4</td>\n",
       "      <td></td>\n",
       "      <td>2023-04-02T20:00:00-05:00</td>\n",
       "      <td>2023-04-02T21:00:00-05:00</td>\n",
       "      <td>False</td>\n",
       "      <td>64</td>\n",
       "      <td>F</td>\n",
       "      <td>None</td>\n",
       "      <td>{'unitCode': 'wmoUnit:percent', 'value': 0}</td>\n",
       "      <td>{'unitCode': 'wmoUnit:degC', 'value': 4.444444...</td>\n",
       "      <td>{'unitCode': 'wmoUnit:percent', 'value': 41}</td>\n",
       "      <td>13 mph</td>\n",
       "      <td>S</td>\n",
       "      <td>https://api.weather.gov/icons/land/night/few,0...</td>\n",
       "      <td>Mostly Clear</td>\n",
       "      <td></td>\n",
       "    </tr>\n",
       "    <tr>\n",
       "      <th>4</th>\n",
       "      <td>5</td>\n",
       "      <td></td>\n",
       "      <td>2023-04-02T21:00:00-05:00</td>\n",
       "      <td>2023-04-02T22:00:00-05:00</td>\n",
       "      <td>False</td>\n",
       "      <td>62</td>\n",
       "      <td>F</td>\n",
       "      <td>None</td>\n",
       "      <td>{'unitCode': 'wmoUnit:percent', 'value': 0}</td>\n",
       "      <td>{'unitCode': 'wmoUnit:degC', 'value': 5}</td>\n",
       "      <td>{'unitCode': 'wmoUnit:percent', 'value': 46}</td>\n",
       "      <td>13 mph</td>\n",
       "      <td>S</td>\n",
       "      <td>https://api.weather.gov/icons/land/night/few,0...</td>\n",
       "      <td>Mostly Clear</td>\n",
       "      <td></td>\n",
       "    </tr>\n",
       "  </tbody>\n",
       "</table>\n",
       "</div>"
      ],
      "text/plain": [
       "   number name                  startTime                    endTime  \\\n",
       "0       1       2023-04-02T17:00:00-05:00  2023-04-02T18:00:00-05:00   \n",
       "1       2       2023-04-02T18:00:00-05:00  2023-04-02T19:00:00-05:00   \n",
       "2       3       2023-04-02T19:00:00-05:00  2023-04-02T20:00:00-05:00   \n",
       "3       4       2023-04-02T20:00:00-05:00  2023-04-02T21:00:00-05:00   \n",
       "4       5       2023-04-02T21:00:00-05:00  2023-04-02T22:00:00-05:00   \n",
       "\n",
       "   isDaytime  temperature temperatureUnit temperatureTrend  \\\n",
       "0       True           69               F             None   \n",
       "1      False           68               F             None   \n",
       "2      False           66               F             None   \n",
       "3      False           64               F             None   \n",
       "4      False           62               F             None   \n",
       "\n",
       "                    probabilityOfPrecipitation  \\\n",
       "0  {'unitCode': 'wmoUnit:percent', 'value': 0}   \n",
       "1  {'unitCode': 'wmoUnit:percent', 'value': 0}   \n",
       "2  {'unitCode': 'wmoUnit:percent', 'value': 0}   \n",
       "3  {'unitCode': 'wmoUnit:percent', 'value': 0}   \n",
       "4  {'unitCode': 'wmoUnit:percent', 'value': 0}   \n",
       "\n",
       "                                            dewpoint  \\\n",
       "0  {'unitCode': 'wmoUnit:degC', 'value': 2.777777...   \n",
       "1  {'unitCode': 'wmoUnit:degC', 'value': 3.333333...   \n",
       "2  {'unitCode': 'wmoUnit:degC', 'value': 3.333333...   \n",
       "3  {'unitCode': 'wmoUnit:degC', 'value': 4.444444...   \n",
       "4           {'unitCode': 'wmoUnit:degC', 'value': 5}   \n",
       "\n",
       "                               relativeHumidity windSpeed windDirection  \\\n",
       "0  {'unitCode': 'wmoUnit:percent', 'value': 31}    17 mph             S   \n",
       "1  {'unitCode': 'wmoUnit:percent', 'value': 33}    15 mph             S   \n",
       "2  {'unitCode': 'wmoUnit:percent', 'value': 36}    13 mph             S   \n",
       "3  {'unitCode': 'wmoUnit:percent', 'value': 41}    13 mph             S   \n",
       "4  {'unitCode': 'wmoUnit:percent', 'value': 46}    13 mph             S   \n",
       "\n",
       "                                                icon shortForecast  \\\n",
       "0  https://api.weather.gov/icons/land/day/skc,0?s...         Sunny   \n",
       "1  https://api.weather.gov/icons/land/night/few,0...  Mostly Clear   \n",
       "2  https://api.weather.gov/icons/land/night/few,0...  Mostly Clear   \n",
       "3  https://api.weather.gov/icons/land/night/few,0...  Mostly Clear   \n",
       "4  https://api.weather.gov/icons/land/night/few,0...  Mostly Clear   \n",
       "\n",
       "  detailedForecast  \n",
       "0                   \n",
       "1                   \n",
       "2                   \n",
       "3                   \n",
       "4                   "
      ]
     },
     "execution_count": 40,
     "metadata": {},
     "output_type": "execute_result"
    }
   ],
   "source": [
    "hourly_forecast_data.head()"
   ]
  },
  {
   "cell_type": "code",
   "execution_count": 41,
   "id": "826237bc",
   "metadata": {},
   "outputs": [
    {
     "data": {
      "text/html": [
       "<div>\n",
       "<style scoped>\n",
       "    .dataframe tbody tr th:only-of-type {\n",
       "        vertical-align: middle;\n",
       "    }\n",
       "\n",
       "    .dataframe tbody tr th {\n",
       "        vertical-align: top;\n",
       "    }\n",
       "\n",
       "    .dataframe thead th {\n",
       "        text-align: right;\n",
       "    }\n",
       "</style>\n",
       "<table border=\"1\" class=\"dataframe\">\n",
       "  <thead>\n",
       "    <tr style=\"text-align: right;\">\n",
       "      <th></th>\n",
       "      <th>@id</th>\n",
       "      <th>@type</th>\n",
       "      <th>elevation</th>\n",
       "      <th>station</th>\n",
       "      <th>timestamp</th>\n",
       "      <th>rawMessage</th>\n",
       "      <th>textDescription</th>\n",
       "      <th>icon</th>\n",
       "      <th>presentWeather</th>\n",
       "      <th>temperature</th>\n",
       "      <th>...</th>\n",
       "      <th>visibility</th>\n",
       "      <th>maxTemperatureLast24Hours</th>\n",
       "      <th>minTemperatureLast24Hours</th>\n",
       "      <th>precipitationLastHour</th>\n",
       "      <th>precipitationLast3Hours</th>\n",
       "      <th>precipitationLast6Hours</th>\n",
       "      <th>relativeHumidity</th>\n",
       "      <th>windChill</th>\n",
       "      <th>heatIndex</th>\n",
       "      <th>cloudLayers</th>\n",
       "    </tr>\n",
       "  </thead>\n",
       "  <tbody>\n",
       "    <tr>\n",
       "      <th>0</th>\n",
       "      <td>https://api.weather.gov/stations/KSTL/observat...</td>\n",
       "      <td>wx:ObservationStation</td>\n",
       "      <td>172</td>\n",
       "      <td>https://api.weather.gov/stations/KSTL</td>\n",
       "      <td>2023-04-02T21:51:00+00:00</td>\n",
       "      <td>KSTL 022151Z 16016G23KT 10SM FEW250 22/02 A297...</td>\n",
       "      <td>Mostly Clear</td>\n",
       "      <td>https://api.weather.gov/icons/land/day/few?siz...</td>\n",
       "      <td>[]</td>\n",
       "      <td>22.2</td>\n",
       "      <td>...</td>\n",
       "      <td>16090</td>\n",
       "      <td>None</td>\n",
       "      <td>None</td>\n",
       "      <td>NaN</td>\n",
       "      <td>NaN</td>\n",
       "      <td>NaN</td>\n",
       "      <td>25.852895</td>\n",
       "      <td>NaN</td>\n",
       "      <td>21.150603</td>\n",
       "      <td>[{'base': {'unitCode': 'wmoUnit:m', 'value': 7...</td>\n",
       "    </tr>\n",
       "    <tr>\n",
       "      <th>1</th>\n",
       "      <td>https://api.weather.gov/stations/KSTL/observat...</td>\n",
       "      <td>wx:ObservationStation</td>\n",
       "      <td>172</td>\n",
       "      <td>https://api.weather.gov/stations/KSTL</td>\n",
       "      <td>2023-04-02T20:51:00+00:00</td>\n",
       "      <td>KSTL 022051Z 17013G25KT 10SM FEW250 22/02 A297...</td>\n",
       "      <td>Mostly Clear</td>\n",
       "      <td>https://api.weather.gov/icons/land/day/few?siz...</td>\n",
       "      <td>[]</td>\n",
       "      <td>21.7</td>\n",
       "      <td>...</td>\n",
       "      <td>16090</td>\n",
       "      <td>None</td>\n",
       "      <td>None</td>\n",
       "      <td>NaN</td>\n",
       "      <td>NaN</td>\n",
       "      <td>NaN</td>\n",
       "      <td>27.621887</td>\n",
       "      <td>NaN</td>\n",
       "      <td>20.646794</td>\n",
       "      <td>[{'base': {'unitCode': 'wmoUnit:m', 'value': 7...</td>\n",
       "    </tr>\n",
       "    <tr>\n",
       "      <th>2</th>\n",
       "      <td>https://api.weather.gov/stations/KSTL/observat...</td>\n",
       "      <td>wx:ObservationStation</td>\n",
       "      <td>172</td>\n",
       "      <td>https://api.weather.gov/stations/KSTL</td>\n",
       "      <td>2023-04-02T19:51:00+00:00</td>\n",
       "      <td></td>\n",
       "      <td></td>\n",
       "      <td>None</td>\n",
       "      <td>[]</td>\n",
       "      <td>20.6</td>\n",
       "      <td>...</td>\n",
       "      <td>16090</td>\n",
       "      <td>None</td>\n",
       "      <td>None</td>\n",
       "      <td>NaN</td>\n",
       "      <td>NaN</td>\n",
       "      <td>NaN</td>\n",
       "      <td>29.551029</td>\n",
       "      <td>NaN</td>\n",
       "      <td>NaN</td>\n",
       "      <td>[]</td>\n",
       "    </tr>\n",
       "    <tr>\n",
       "      <th>3</th>\n",
       "      <td>https://api.weather.gov/stations/KSTL/observat...</td>\n",
       "      <td>wx:ObservationStation</td>\n",
       "      <td>172</td>\n",
       "      <td>https://api.weather.gov/stations/KSTL</td>\n",
       "      <td>2023-04-02T18:51:00+00:00</td>\n",
       "      <td>KSTL 021851Z 16014G23KT 10SM FEW250 19/03 A299...</td>\n",
       "      <td>Mostly Clear</td>\n",
       "      <td>https://api.weather.gov/icons/land/day/few?siz...</td>\n",
       "      <td>[]</td>\n",
       "      <td>19.4</td>\n",
       "      <td>...</td>\n",
       "      <td>16090</td>\n",
       "      <td>None</td>\n",
       "      <td>None</td>\n",
       "      <td>NaN</td>\n",
       "      <td>NaN</td>\n",
       "      <td>NaN</td>\n",
       "      <td>33.216319</td>\n",
       "      <td>NaN</td>\n",
       "      <td>NaN</td>\n",
       "      <td>[{'base': {'unitCode': 'wmoUnit:m', 'value': 7...</td>\n",
       "    </tr>\n",
       "    <tr>\n",
       "      <th>4</th>\n",
       "      <td>https://api.weather.gov/stations/KSTL/observat...</td>\n",
       "      <td>wx:ObservationStation</td>\n",
       "      <td>172</td>\n",
       "      <td>https://api.weather.gov/stations/KSTL</td>\n",
       "      <td>2023-04-02T17:51:00+00:00</td>\n",
       "      <td>KSTL 021751Z 16015G21KT 10SM FEW250 17/02 A299...</td>\n",
       "      <td>Mostly Clear</td>\n",
       "      <td>https://api.weather.gov/icons/land/day/few?siz...</td>\n",
       "      <td>[]</td>\n",
       "      <td>17.2</td>\n",
       "      <td>...</td>\n",
       "      <td>16090</td>\n",
       "      <td>None</td>\n",
       "      <td>None</td>\n",
       "      <td>NaN</td>\n",
       "      <td>NaN</td>\n",
       "      <td>NaN</td>\n",
       "      <td>36.539518</td>\n",
       "      <td>NaN</td>\n",
       "      <td>NaN</td>\n",
       "      <td>[{'base': {'unitCode': 'wmoUnit:m', 'value': 7...</td>\n",
       "    </tr>\n",
       "  </tbody>\n",
       "</table>\n",
       "<p>5 rows × 26 columns</p>\n",
       "</div>"
      ],
      "text/plain": [
       "                                                 @id                  @type  \\\n",
       "0  https://api.weather.gov/stations/KSTL/observat...  wx:ObservationStation   \n",
       "1  https://api.weather.gov/stations/KSTL/observat...  wx:ObservationStation   \n",
       "2  https://api.weather.gov/stations/KSTL/observat...  wx:ObservationStation   \n",
       "3  https://api.weather.gov/stations/KSTL/observat...  wx:ObservationStation   \n",
       "4  https://api.weather.gov/stations/KSTL/observat...  wx:ObservationStation   \n",
       "\n",
       "   elevation                                station  \\\n",
       "0        172  https://api.weather.gov/stations/KSTL   \n",
       "1        172  https://api.weather.gov/stations/KSTL   \n",
       "2        172  https://api.weather.gov/stations/KSTL   \n",
       "3        172  https://api.weather.gov/stations/KSTL   \n",
       "4        172  https://api.weather.gov/stations/KSTL   \n",
       "\n",
       "                   timestamp  \\\n",
       "0  2023-04-02T21:51:00+00:00   \n",
       "1  2023-04-02T20:51:00+00:00   \n",
       "2  2023-04-02T19:51:00+00:00   \n",
       "3  2023-04-02T18:51:00+00:00   \n",
       "4  2023-04-02T17:51:00+00:00   \n",
       "\n",
       "                                          rawMessage textDescription  \\\n",
       "0  KSTL 022151Z 16016G23KT 10SM FEW250 22/02 A297...    Mostly Clear   \n",
       "1  KSTL 022051Z 17013G25KT 10SM FEW250 22/02 A297...    Mostly Clear   \n",
       "2                                                                      \n",
       "3  KSTL 021851Z 16014G23KT 10SM FEW250 19/03 A299...    Mostly Clear   \n",
       "4  KSTL 021751Z 16015G21KT 10SM FEW250 17/02 A299...    Mostly Clear   \n",
       "\n",
       "                                                icon presentWeather  \\\n",
       "0  https://api.weather.gov/icons/land/day/few?siz...             []   \n",
       "1  https://api.weather.gov/icons/land/day/few?siz...             []   \n",
       "2                                               None             []   \n",
       "3  https://api.weather.gov/icons/land/day/few?siz...             []   \n",
       "4  https://api.weather.gov/icons/land/day/few?siz...             []   \n",
       "\n",
       "   temperature  ...  visibility  maxTemperatureLast24Hours  \\\n",
       "0         22.2  ...       16090                       None   \n",
       "1         21.7  ...       16090                       None   \n",
       "2         20.6  ...       16090                       None   \n",
       "3         19.4  ...       16090                       None   \n",
       "4         17.2  ...       16090                       None   \n",
       "\n",
       "   minTemperatureLast24Hours  precipitationLastHour  precipitationLast3Hours  \\\n",
       "0                       None                    NaN                      NaN   \n",
       "1                       None                    NaN                      NaN   \n",
       "2                       None                    NaN                      NaN   \n",
       "3                       None                    NaN                      NaN   \n",
       "4                       None                    NaN                      NaN   \n",
       "\n",
       "   precipitationLast6Hours  relativeHumidity windChill  heatIndex  \\\n",
       "0                      NaN         25.852895       NaN  21.150603   \n",
       "1                      NaN         27.621887       NaN  20.646794   \n",
       "2                      NaN         29.551029       NaN        NaN   \n",
       "3                      NaN         33.216319       NaN        NaN   \n",
       "4                      NaN         36.539518       NaN        NaN   \n",
       "\n",
       "                                         cloudLayers  \n",
       "0  [{'base': {'unitCode': 'wmoUnit:m', 'value': 7...  \n",
       "1  [{'base': {'unitCode': 'wmoUnit:m', 'value': 7...  \n",
       "2                                                 []  \n",
       "3  [{'base': {'unitCode': 'wmoUnit:m', 'value': 7...  \n",
       "4  [{'base': {'unitCode': 'wmoUnit:m', 'value': 7...  \n",
       "\n",
       "[5 rows x 26 columns]"
      ]
     },
     "execution_count": 41,
     "metadata": {},
     "output_type": "execute_result"
    }
   ],
   "source": [
    "hourly_observation_data.head()"
   ]
  },
  {
   "cell_type": "code",
   "execution_count": 42,
   "id": "55e47d2d",
   "metadata": {},
   "outputs": [
    {
     "data": {
      "text/plain": [
       "Index(['@id', '@type', 'elevation', 'station', 'timestamp', 'rawMessage',\n",
       "       'textDescription', 'icon', 'presentWeather', 'temperature', 'dewpoint',\n",
       "       'windDirection', 'windSpeed', 'windGust', 'barometricPressure',\n",
       "       'seaLevelPressure', 'visibility', 'maxTemperatureLast24Hours',\n",
       "       'minTemperatureLast24Hours', 'precipitationLastHour',\n",
       "       'precipitationLast3Hours', 'precipitationLast6Hours',\n",
       "       'relativeHumidity', 'windChill', 'heatIndex', 'cloudLayers'],\n",
       "      dtype='object')"
      ]
     },
     "execution_count": 42,
     "metadata": {},
     "output_type": "execute_result"
    }
   ],
   "source": [
    "hourly_observation_data.columns"
   ]
  },
  {
   "cell_type": "code",
   "execution_count": 44,
   "id": "72ec5007",
   "metadata": {},
   "outputs": [],
   "source": [
    "observation_columns_to_keep = [\"timestamp\",\"textDescription\",\"temperature\",\"windSpeed\",'windDirection','temperature']\n",
    "hourly_observation_data = hourly_observation_data.loc[:,observation_columns_to_keep]"
   ]
  },
  {
   "cell_type": "code",
   "execution_count": 46,
   "id": "30e0a331",
   "metadata": {},
   "outputs": [],
   "source": [
    "##Temp will need to be converted to Celsius\n",
    "forecast_columns_to_keep = [\"startTime\",\"isDaytime\",\"temperature\",\"windSpeed\",\"windDirection\",\"shortForecast\"]\n",
    "hourly_forecast_data = hourly_forecast_data.loc[:,forecast_columns_to_keep]"
   ]
  },
  {
   "cell_type": "code",
   "execution_count": null,
   "id": "7318fb86",
   "metadata": {},
   "outputs": [],
   "source": []
  }
 ],
 "metadata": {
  "kernelspec": {
   "display_name": "Python 3 (ipykernel)",
   "language": "python",
   "name": "python3"
  },
  "language_info": {
   "codemirror_mode": {
    "name": "ipython",
    "version": 3
   },
   "file_extension": ".py",
   "mimetype": "text/x-python",
   "name": "python",
   "nbconvert_exporter": "python",
   "pygments_lexer": "ipython3",
   "version": "3.9.6"
  }
 },
 "nbformat": 4,
 "nbformat_minor": 5
}
