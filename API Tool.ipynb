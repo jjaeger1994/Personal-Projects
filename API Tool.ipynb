{
 "cells": [
  {
   "cell_type": "code",
   "execution_count": 3,
   "id": "f1505d00",
   "metadata": {},
   "outputs": [],
   "source": [
    "import pandas as pd\n",
    "import requests as r\n",
    "import numpy as np\n",
    "import matplotlib.pyplot as plt\n",
    "import seaborn as sns\n",
    "import datetime\n",
    "import json\n",
    "from statsmodels.tsa.arima.model import ARIMA \n",
    "from statsmodels.graphics.tsaplots import plot_predict\n",
    "from statsmodels.tsa.arima_process import arma_generate_sample\n",
    "from statsmodels.tsa.statespace.sarimax import SARIMAX\n",
    "from sklearn.preprocessing import MinMaxScaler, LabelEncoder, LabelBinarizer\n",
    "from sklearn.metrics import mean_squared_error\n",
    "from keras.models import Sequential\n",
    "from keras.layers import Dense, LSTM"
   ]
  },
  {
   "cell_type": "code",
   "execution_count": 4,
   "id": "be5696e4",
   "metadata": {},
   "outputs": [],
   "source": [
    "api_key = \"aBIdeyJp18dnYHxOLyICUOdCfrz7C2g1VFRdCQbx\"\n"
   ]
  },
  {
   "cell_type": "code",
   "execution_count": 5,
   "id": "f20114d2",
   "metadata": {},
   "outputs": [],
   "source": [
    "solar_monthly_url = f\"https://api.eia.gov/v2/electricity/electric-power-operational-data/data/?frequency=monthly&data[0]=generation&facets[fueltypeid][]=SPV&facets[location][]=MO&facets[sectorid][]=99&sort[0][column]=period&sort[0][direction]=desc&offset=0&length=5000&api_key={api_key}\"\n",
    "wind_monthly_url = f\"https://api.eia.gov/v2/electricity/electric-power-operational-data/data/?frequency=monthly&data[0]=generation&facets[fueltypeid][]=WND&facets[location][]=MO&facets[sectorid][]=99&sort[0][column]=period&sort[0][direction]=desc&offset=0&length=5000&api_key={api_key}\""
   ]
  },
  {
   "cell_type": "code",
   "execution_count": 6,
   "id": "1d46a511",
   "metadata": {},
   "outputs": [
    {
     "name": "stdout",
     "output_type": "stream",
     "text": [
      "Success\n"
     ]
    }
   ],
   "source": [
    "try:\n",
    "    (request := r.get(solar_monthly_url))\n",
    "    print(\"Success\")\n",
    "except Exception as e:\n",
    "    print(e)"
   ]
  },
  {
   "cell_type": "code",
   "execution_count": 7,
   "id": "68308a77",
   "metadata": {},
   "outputs": [],
   "source": [
    "json_data = request.json()"
   ]
  },
  {
   "cell_type": "code",
   "execution_count": 8,
   "id": "47933f07",
   "metadata": {
    "scrolled": false
   },
   "outputs": [],
   "source": [
    "solar_generation = pd.DataFrame(json_data.get('response').get('data'))"
   ]
  },
  {
   "cell_type": "code",
   "execution_count": 9,
   "id": "11ddafa6",
   "metadata": {},
   "outputs": [
    {
     "data": {
      "text/html": [
       "<div>\n",
       "<style scoped>\n",
       "    .dataframe tbody tr th:only-of-type {\n",
       "        vertical-align: middle;\n",
       "    }\n",
       "\n",
       "    .dataframe tbody tr th {\n",
       "        vertical-align: top;\n",
       "    }\n",
       "\n",
       "    .dataframe thead th {\n",
       "        text-align: right;\n",
       "    }\n",
       "</style>\n",
       "<table border=\"1\" class=\"dataframe\">\n",
       "  <thead>\n",
       "    <tr style=\"text-align: right;\">\n",
       "      <th></th>\n",
       "      <th>period</th>\n",
       "      <th>location</th>\n",
       "      <th>stateDescription</th>\n",
       "      <th>sectorid</th>\n",
       "      <th>sectorDescription</th>\n",
       "      <th>fueltypeid</th>\n",
       "      <th>fuelTypeDescription</th>\n",
       "      <th>generation</th>\n",
       "      <th>generation-units</th>\n",
       "    </tr>\n",
       "  </thead>\n",
       "  <tbody>\n",
       "    <tr>\n",
       "      <th>0</th>\n",
       "      <td>2023-01</td>\n",
       "      <td>MO</td>\n",
       "      <td>Missouri</td>\n",
       "      <td>99</td>\n",
       "      <td>All Sectors</td>\n",
       "      <td>SPV</td>\n",
       "      <td>solar photovoltaic</td>\n",
       "      <td>9.56056</td>\n",
       "      <td>thousand megawatthours</td>\n",
       "    </tr>\n",
       "    <tr>\n",
       "      <th>1</th>\n",
       "      <td>2022-12</td>\n",
       "      <td>MO</td>\n",
       "      <td>Missouri</td>\n",
       "      <td>99</td>\n",
       "      <td>All Sectors</td>\n",
       "      <td>SPV</td>\n",
       "      <td>solar photovoltaic</td>\n",
       "      <td>7.20169</td>\n",
       "      <td>thousand megawatthours</td>\n",
       "    </tr>\n",
       "    <tr>\n",
       "      <th>2</th>\n",
       "      <td>2022-11</td>\n",
       "      <td>MO</td>\n",
       "      <td>Missouri</td>\n",
       "      <td>99</td>\n",
       "      <td>All Sectors</td>\n",
       "      <td>SPV</td>\n",
       "      <td>solar photovoltaic</td>\n",
       "      <td>9.47591</td>\n",
       "      <td>thousand megawatthours</td>\n",
       "    </tr>\n",
       "    <tr>\n",
       "      <th>3</th>\n",
       "      <td>2022-10</td>\n",
       "      <td>MO</td>\n",
       "      <td>Missouri</td>\n",
       "      <td>99</td>\n",
       "      <td>All Sectors</td>\n",
       "      <td>SPV</td>\n",
       "      <td>solar photovoltaic</td>\n",
       "      <td>14.40455</td>\n",
       "      <td>thousand megawatthours</td>\n",
       "    </tr>\n",
       "    <tr>\n",
       "      <th>4</th>\n",
       "      <td>2022-09</td>\n",
       "      <td>MO</td>\n",
       "      <td>Missouri</td>\n",
       "      <td>99</td>\n",
       "      <td>All Sectors</td>\n",
       "      <td>SPV</td>\n",
       "      <td>solar photovoltaic</td>\n",
       "      <td>15.42541</td>\n",
       "      <td>thousand megawatthours</td>\n",
       "    </tr>\n",
       "  </tbody>\n",
       "</table>\n",
       "</div>"
      ],
      "text/plain": [
       "    period location stateDescription  sectorid sectorDescription fueltypeid  \\\n",
       "0  2023-01       MO         Missouri        99       All Sectors        SPV   \n",
       "1  2022-12       MO         Missouri        99       All Sectors        SPV   \n",
       "2  2022-11       MO         Missouri        99       All Sectors        SPV   \n",
       "3  2022-10       MO         Missouri        99       All Sectors        SPV   \n",
       "4  2022-09       MO         Missouri        99       All Sectors        SPV   \n",
       "\n",
       "  fuelTypeDescription  generation        generation-units  \n",
       "0  solar photovoltaic     9.56056  thousand megawatthours  \n",
       "1  solar photovoltaic     7.20169  thousand megawatthours  \n",
       "2  solar photovoltaic     9.47591  thousand megawatthours  \n",
       "3  solar photovoltaic    14.40455  thousand megawatthours  \n",
       "4  solar photovoltaic    15.42541  thousand megawatthours  "
      ]
     },
     "execution_count": 9,
     "metadata": {},
     "output_type": "execute_result"
    }
   ],
   "source": [
    "solar_generation.head()"
   ]
  },
  {
   "cell_type": "code",
   "execution_count": 10,
   "id": "02f21401",
   "metadata": {},
   "outputs": [],
   "source": [
    "solar_generation.period = pd.to_datetime(solar_generation.period)"
   ]
  },
  {
   "cell_type": "code",
   "execution_count": 11,
   "id": "867c2cf8",
   "metadata": {},
   "outputs": [
    {
     "data": {
      "text/plain": [
       "<AxesSubplot:xlabel='period', ylabel='generation'>"
      ]
     },
     "execution_count": 11,
     "metadata": {},
     "output_type": "execute_result"
    },
    {
     "data": {
      "image/png": "[encoded data removed]",
      "text/plain": [
       "<Figure size 432x288 with 1 Axes>"
      ]
     },
     "metadata": {
      "needs_background": "light"
     },
     "output_type": "display_data"
    }
   ],
   "source": [
    "sns.lineplot(x=\"period\",y=\"generation\",data=solar_generation)"
   ]
  },
  {
   "cell_type": "code",
   "execution_count": 12,
   "id": "8c49c44b",
   "metadata": {},
   "outputs": [
    {
     "name": "stderr",
     "output_type": "stream",
     "text": [
      "c:\\users\\josh\\appdata\\local\\programs\\python\\python39\\lib\\site-packages\\statsmodels\\tsa\\base\\tsa_model.py:597: ValueWarning: A date index has been provided, but it is not monotonic and so will be ignored when e.g. forecasting.\n",
      "  warnings.warn('A date index has been provided, but it is not'\n",
      "c:\\users\\josh\\appdata\\local\\programs\\python\\python39\\lib\\site-packages\\statsmodels\\tsa\\base\\tsa_model.py:597: ValueWarning: A date index has been provided, but it is not monotonic and so will be ignored when e.g. forecasting.\n",
      "  warnings.warn('A date index has been provided, but it is not'\n",
      "c:\\users\\josh\\appdata\\local\\programs\\python\\python39\\lib\\site-packages\\statsmodels\\tsa\\base\\tsa_model.py:597: ValueWarning: A date index has been provided, but it is not monotonic and so will be ignored when e.g. forecasting.\n",
      "  warnings.warn('A date index has been provided, but it is not'\n"
     ]
    }
   ],
   "source": [
    "index=pd.DatetimeIndex(solar_generation.period).to_period(\"M\")\n",
    "y = pd.Series(solar_generation.generation.values, index=index)\n",
    "arima = ARIMA(y,order=(2,0,2)).fit()"
   ]
  },
  {
   "cell_type": "code",
   "execution_count": 13,
   "id": "e3e490a9",
   "metadata": {},
   "outputs": [
    {
     "name": "stdout",
     "output_type": "stream",
     "text": [
      "                               SARIMAX Results                                \n",
      "==============================================================================\n",
      "Dep. Variable:                      y   No. Observations:                  107\n",
      "Model:                 ARIMA(2, 0, 2)   Log Likelihood                -191.038\n",
      "Date:                Sun, 09 Apr 2023   AIC                            394.076\n",
      "Time:                        20:12:36   BIC                            410.113\n",
      "Sample:                             0   HQIC                           400.577\n",
      "                                - 107                                         \n",
      "Covariance Type:                  opg                                         \n",
      "==============================================================================\n",
      "                 coef    std err          z      P>|z|      [0.025      0.975]\n",
      "------------------------------------------------------------------------------\n",
      "const          6.4249      2.181      2.945      0.003       2.150      10.700\n",
      "ar.L1          1.3939      0.278      5.023      0.000       0.850       1.938\n",
      "ar.L2         -0.4780      0.261     -1.829      0.067      -0.990       0.034\n",
      "ma.L1         -0.1969      0.294     -0.670      0.503      -0.773       0.380\n",
      "ma.L2          0.1503      0.106      1.424      0.154      -0.057       0.357\n",
      "sigma2         2.0324      0.231      8.811      0.000       1.580       2.485\n",
      "===================================================================================\n",
      "Ljung-Box (L1) (Q):                   0.02   Jarque-Bera (JB):                23.32\n",
      "Prob(Q):                              0.90   Prob(JB):                         0.00\n",
      "Heteroskedasticity (H):               0.10   Skew:                             0.46\n",
      "Prob(H) (two-sided):                  0.00   Kurtosis:                         5.09\n",
      "===================================================================================\n",
      "\n",
      "Warnings:\n",
      "[1] Covariance matrix calculated using the outer product of gradients (complex-step).\n"
     ]
    }
   ],
   "source": [
    "print(arima.summary())"
   ]
  },
  {
   "cell_type": "code",
   "execution_count": 14,
   "id": "d56d91cf",
   "metadata": {
    "scrolled": false
   },
   "outputs": [
    {
     "data": {
      "image/png": "[encoded data removed]",
      "text/plain": [
       "<Figure size 720x576 with 1 Axes>"
      ]
     },
     "metadata": {
      "needs_background": "light"
     },
     "output_type": "display_data"
    }
   ],
   "source": [
    "fig, ax = plt.subplots(figsize=(10, 8))\n",
    "fig = plot_predict(arima, ax=ax)\n",
    "legend = ax.legend(loc=\"upper left\")"
   ]
  },
  {
   "cell_type": "code",
   "execution_count": 15,
   "id": "f75b8e7d",
   "metadata": {},
   "outputs": [
    {
     "name": "stderr",
     "output_type": "stream",
     "text": [
      "c:\\users\\josh\\appdata\\local\\programs\\python\\python39\\lib\\site-packages\\statsmodels\\tsa\\base\\tsa_model.py:597: ValueWarning: A date index has been provided, but it is not monotonic and so will be ignored when e.g. forecasting.\n",
      "  warnings.warn('A date index has been provided, but it is not'\n",
      "c:\\users\\josh\\appdata\\local\\programs\\python\\python39\\lib\\site-packages\\statsmodels\\tsa\\base\\tsa_model.py:597: ValueWarning: A date index has been provided, but it is not monotonic and so will be ignored when e.g. forecasting.\n",
      "  warnings.warn('A date index has been provided, but it is not'\n"
     ]
    }
   ],
   "source": [
    "sarimax = SARIMAX(y,order=(2,0,2),seasonal_order=(2,0,2,12)).fit()"
   ]
  },
  {
   "cell_type": "code",
   "execution_count": 16,
   "id": "e58c048f",
   "metadata": {},
   "outputs": [
    {
     "data": {
      "text/html": [
       "<table class=\"simpletable\">\n",
       "<caption>SARIMAX Results</caption>\n",
       "<tr>\n",
       "  <th>Dep. Variable:</th>                  <td>y</td>               <th>  No. Observations:  </th>    <td>107</td>  \n",
       "</tr>\n",
       "<tr>\n",
       "  <th>Model:</th>           <td>SARIMAX(2, 0, 2)x(2, 0, 2, 12)</td> <th>  Log Likelihood     </th> <td>-178.096</td>\n",
       "</tr>\n",
       "<tr>\n",
       "  <th>Date:</th>                   <td>Sun, 09 Apr 2023</td>        <th>  AIC                </th>  <td>374.192</td>\n",
       "</tr>\n",
       "<tr>\n",
       "  <th>Time:</th>                       <td>20:12:39</td>            <th>  BIC                </th>  <td>398.247</td>\n",
       "</tr>\n",
       "<tr>\n",
       "  <th>Sample:</th>                         <td>0</td>               <th>  HQIC               </th>  <td>383.944</td>\n",
       "</tr>\n",
       "<tr>\n",
       "  <th></th>                             <td> - 107</td>             <th>                     </th>     <td> </td>   \n",
       "</tr>\n",
       "<tr>\n",
       "  <th>Covariance Type:</th>               <td>opg</td>              <th>                     </th>     <td> </td>   \n",
       "</tr>\n",
       "</table>\n",
       "<table class=\"simpletable\">\n",
       "<tr>\n",
       "      <td></td>        <th>coef</th>     <th>std err</th>      <th>z</th>      <th>P>|z|</th>  <th>[0.025</th>    <th>0.975]</th>  \n",
       "</tr>\n",
       "<tr>\n",
       "  <th>ar.L1</th>    <td>    0.2225</td> <td>    0.472</td> <td>    0.471</td> <td> 0.638</td> <td>   -0.704</td> <td>    1.149</td>\n",
       "</tr>\n",
       "<tr>\n",
       "  <th>ar.L2</th>    <td>    0.6790</td> <td>    0.434</td> <td>    1.563</td> <td> 0.118</td> <td>   -0.172</td> <td>    1.530</td>\n",
       "</tr>\n",
       "<tr>\n",
       "  <th>ma.L1</th>    <td>    0.7592</td> <td>    0.480</td> <td>    1.581</td> <td> 0.114</td> <td>   -0.182</td> <td>    1.700</td>\n",
       "</tr>\n",
       "<tr>\n",
       "  <th>ma.L2</th>    <td>    0.0988</td> <td>    0.112</td> <td>    0.883</td> <td> 0.377</td> <td>   -0.120</td> <td>    0.318</td>\n",
       "</tr>\n",
       "<tr>\n",
       "  <th>ar.S.L12</th> <td>   -0.0368</td> <td>    4.512</td> <td>   -0.008</td> <td> 0.993</td> <td>   -8.880</td> <td>    8.807</td>\n",
       "</tr>\n",
       "<tr>\n",
       "  <th>ar.S.L24</th> <td>    0.8332</td> <td>    3.937</td> <td>    0.212</td> <td> 0.832</td> <td>   -6.883</td> <td>    8.549</td>\n",
       "</tr>\n",
       "<tr>\n",
       "  <th>ma.S.L12</th> <td>    0.4135</td> <td>    4.685</td> <td>    0.088</td> <td> 0.930</td> <td>   -8.769</td> <td>    9.596</td>\n",
       "</tr>\n",
       "<tr>\n",
       "  <th>ma.S.L24</th> <td>   -0.5066</td> <td>    2.260</td> <td>   -0.224</td> <td> 0.823</td> <td>   -4.936</td> <td>    3.922</td>\n",
       "</tr>\n",
       "<tr>\n",
       "  <th>sigma2</th>   <td>    1.4757</td> <td>    0.270</td> <td>    5.471</td> <td> 0.000</td> <td>    0.947</td> <td>    2.004</td>\n",
       "</tr>\n",
       "</table>\n",
       "<table class=\"simpletable\">\n",
       "<tr>\n",
       "  <th>Ljung-Box (L1) (Q):</th>     <td>0.14</td> <th>  Jarque-Bera (JB):  </th> <td>12.46</td>\n",
       "</tr>\n",
       "<tr>\n",
       "  <th>Prob(Q):</th>                <td>0.70</td> <th>  Prob(JB):          </th> <td>0.00</td> \n",
       "</tr>\n",
       "<tr>\n",
       "  <th>Heteroskedasticity (H):</th> <td>0.15</td> <th>  Skew:              </th> <td>0.41</td> \n",
       "</tr>\n",
       "<tr>\n",
       "  <th>Prob(H) (two-sided):</th>    <td>0.00</td> <th>  Kurtosis:          </th> <td>4.46</td> \n",
       "</tr>\n",
       "</table><br/><br/>Warnings:<br/>[1] Covariance matrix calculated using the outer product of gradients (complex-step)."
      ],
      "text/plain": [
       "<class 'statsmodels.iolib.summary.Summary'>\n",
       "\"\"\"\n",
       "                                     SARIMAX Results                                      \n",
       "==========================================================================================\n",
       "Dep. Variable:                                  y   No. Observations:                  107\n",
       "Model:             SARIMAX(2, 0, 2)x(2, 0, 2, 12)   Log Likelihood                -178.096\n",
       "Date:                            Sun, 09 Apr 2023   AIC                            374.192\n",
       "Time:                                    20:12:39   BIC                            398.247\n",
       "Sample:                                         0   HQIC                           383.944\n",
       "                                            - 107                                         \n",
       "Covariance Type:                              opg                                         \n",
       "==============================================================================\n",
       "                 coef    std err          z      P>|z|      [0.025      0.975]\n",
       "------------------------------------------------------------------------------\n",
       "ar.L1          0.2225      0.472      0.471      0.638      -0.704       1.149\n",
       "ar.L2          0.6790      0.434      1.563      0.118      -0.172       1.530\n",
       "ma.L1          0.7592      0.480      1.581      0.114      -0.182       1.700\n",
       "ma.L2          0.0988      0.112      0.883      0.377      -0.120       0.318\n",
       "ar.S.L12      -0.0368      4.512     -0.008      0.993      -8.880       8.807\n",
       "ar.S.L24       0.8332      3.937      0.212      0.832      -6.883       8.549\n",
       "ma.S.L12       0.4135      4.685      0.088      0.930      -8.769       9.596\n",
       "ma.S.L24      -0.5066      2.260     -0.224      0.823      -4.936       3.922\n",
       "sigma2         1.4757      0.270      5.471      0.000       0.947       2.004\n",
       "===================================================================================\n",
       "Ljung-Box (L1) (Q):                   0.14   Jarque-Bera (JB):                12.46\n",
       "Prob(Q):                              0.70   Prob(JB):                         0.00\n",
       "Heteroskedasticity (H):               0.15   Skew:                             0.41\n",
       "Prob(H) (two-sided):                  0.00   Kurtosis:                         4.46\n",
       "===================================================================================\n",
       "\n",
       "Warnings:\n",
       "[1] Covariance matrix calculated using the outer product of gradients (complex-step).\n",
       "\"\"\""
      ]
     },
     "execution_count": 16,
     "metadata": {},
     "output_type": "execute_result"
    }
   ],
   "source": [
    "sarimax.summary()"
   ]
  },
  {
   "cell_type": "code",
   "execution_count": 17,
   "id": "1d5f1919",
   "metadata": {},
   "outputs": [
    {
     "data": {
      "image/png": "[encoded data removed]",
      "text/plain": [
       "<Figure size 720x576 with 1 Axes>"
      ]
     },
     "metadata": {
      "needs_background": "light"
     },
     "output_type": "display_data"
    }
   ],
   "source": [
    "fig, ax = plt.subplots(figsize=(10, 8))\n",
    "fig = plot_predict(sarimax, ax=ax)\n",
    "legend = ax.legend(loc=\"upper left\")"
   ]
  },
  {
   "cell_type": "code",
   "execution_count": 18,
   "id": "ef897b41",
   "metadata": {},
   "outputs": [
    {
     "name": "stdout",
     "output_type": "stream",
     "text": [
      "Success\n"
     ]
    }
   ],
   "source": [
    "try:\n",
    "    (request := r.get(wind_monthly_url))\n",
    "    print(\"Success\")\n",
    "except Exception as e:\n",
    "    print(e)"
   ]
  },
  {
   "cell_type": "code",
   "execution_count": 19,
   "id": "d4692603",
   "metadata": {},
   "outputs": [],
   "source": [
    "json_data = request.json()"
   ]
  },
  {
   "cell_type": "code",
   "execution_count": 20,
   "id": "a4b55de9",
   "metadata": {},
   "outputs": [],
   "source": [
    "wind_generation = pd.DataFrame(json_data.get('response').get('data'))"
   ]
  },
  {
   "cell_type": "code",
   "execution_count": 21,
   "id": "71c0319a",
   "metadata": {},
   "outputs": [
    {
     "data": {
      "text/html": [
       "<div>\n",
       "<style scoped>\n",
       "    .dataframe tbody tr th:only-of-type {\n",
       "        vertical-align: middle;\n",
       "    }\n",
       "\n",
       "    .dataframe tbody tr th {\n",
       "        vertical-align: top;\n",
       "    }\n",
       "\n",
       "    .dataframe thead th {\n",
       "        text-align: right;\n",
       "    }\n",
       "</style>\n",
       "<table border=\"1\" class=\"dataframe\">\n",
       "  <thead>\n",
       "    <tr style=\"text-align: right;\">\n",
       "      <th></th>\n",
       "      <th>period</th>\n",
       "      <th>location</th>\n",
       "      <th>stateDescription</th>\n",
       "      <th>sectorid</th>\n",
       "      <th>sectorDescription</th>\n",
       "      <th>fueltypeid</th>\n",
       "      <th>fuelTypeDescription</th>\n",
       "      <th>generation</th>\n",
       "      <th>generation-units</th>\n",
       "    </tr>\n",
       "  </thead>\n",
       "  <tbody>\n",
       "    <tr>\n",
       "      <th>0</th>\n",
       "      <td>2023-01</td>\n",
       "      <td>MO</td>\n",
       "      <td>Missouri</td>\n",
       "      <td>99</td>\n",
       "      <td>All Sectors</td>\n",
       "      <td>WND</td>\n",
       "      <td>wind</td>\n",
       "      <td>664.16199</td>\n",
       "      <td>thousand megawatthours</td>\n",
       "    </tr>\n",
       "    <tr>\n",
       "      <th>1</th>\n",
       "      <td>2022-12</td>\n",
       "      <td>MO</td>\n",
       "      <td>Missouri</td>\n",
       "      <td>99</td>\n",
       "      <td>All Sectors</td>\n",
       "      <td>WND</td>\n",
       "      <td>wind</td>\n",
       "      <td>765.94774</td>\n",
       "      <td>thousand megawatthours</td>\n",
       "    </tr>\n",
       "    <tr>\n",
       "      <th>2</th>\n",
       "      <td>2022-11</td>\n",
       "      <td>MO</td>\n",
       "      <td>Missouri</td>\n",
       "      <td>99</td>\n",
       "      <td>All Sectors</td>\n",
       "      <td>WND</td>\n",
       "      <td>wind</td>\n",
       "      <td>794.67596</td>\n",
       "      <td>thousand megawatthours</td>\n",
       "    </tr>\n",
       "    <tr>\n",
       "      <th>3</th>\n",
       "      <td>2022-10</td>\n",
       "      <td>MO</td>\n",
       "      <td>Missouri</td>\n",
       "      <td>99</td>\n",
       "      <td>All Sectors</td>\n",
       "      <td>WND</td>\n",
       "      <td>wind</td>\n",
       "      <td>568.17608</td>\n",
       "      <td>thousand megawatthours</td>\n",
       "    </tr>\n",
       "    <tr>\n",
       "      <th>4</th>\n",
       "      <td>2022-09</td>\n",
       "      <td>MO</td>\n",
       "      <td>Missouri</td>\n",
       "      <td>99</td>\n",
       "      <td>All Sectors</td>\n",
       "      <td>WND</td>\n",
       "      <td>wind</td>\n",
       "      <td>468.58903</td>\n",
       "      <td>thousand megawatthours</td>\n",
       "    </tr>\n",
       "  </tbody>\n",
       "</table>\n",
       "</div>"
      ],
      "text/plain": [
       "    period location stateDescription  sectorid sectorDescription fueltypeid  \\\n",
       "0  2023-01       MO         Missouri        99       All Sectors        WND   \n",
       "1  2022-12       MO         Missouri        99       All Sectors        WND   \n",
       "2  2022-11       MO         Missouri        99       All Sectors        WND   \n",
       "3  2022-10       MO         Missouri        99       All Sectors        WND   \n",
       "4  2022-09       MO         Missouri        99       All Sectors        WND   \n",
       "\n",
       "  fuelTypeDescription  generation        generation-units  \n",
       "0                wind   664.16199  thousand megawatthours  \n",
       "1                wind   765.94774  thousand megawatthours  \n",
       "2                wind   794.67596  thousand megawatthours  \n",
       "3                wind   568.17608  thousand megawatthours  \n",
       "4                wind   468.58903  thousand megawatthours  "
      ]
     },
     "execution_count": 21,
     "metadata": {},
     "output_type": "execute_result"
    }
   ],
   "source": [
    "wind_generation.head()"
   ]
  },
  {
   "cell_type": "code",
   "execution_count": 22,
   "id": "258abf03",
   "metadata": {},
   "outputs": [],
   "source": [
    "wind_generation.period = pd.to_datetime(wind_generation.period)"
   ]
  },
  {
   "cell_type": "code",
   "execution_count": 23,
   "id": "2670025e",
   "metadata": {},
   "outputs": [
    {
     "data": {
      "text/plain": [
       "<AxesSubplot:xlabel='period', ylabel='generation'>"
      ]
     },
     "execution_count": 23,
     "metadata": {},
     "output_type": "execute_result"
    },
    {
     "data": {
      "image/png": "[encoded data removed]",
      "text/plain": [
       "<Figure size 432x288 with 1 Axes>"
      ]
     },
     "metadata": {
      "needs_background": "light"
     },
     "output_type": "display_data"
    }
   ],
   "source": [
    "sns.lineplot(x=\"period\",y=\"generation\",data=wind_generation)"
   ]
  },
  {
   "cell_type": "markdown",
   "id": "380ff69e",
   "metadata": {},
   "source": [
    "Hourly Prediction"
   ]
  },
  {
   "cell_type": "code",
   "execution_count": 24,
   "id": "c14ba8ee",
   "metadata": {},
   "outputs": [],
   "source": [
    "solar_hourly_url = f\"https://api.eia.gov/v2/electricity/rto/fuel-type-data/data/?frequency=hourly&data[0]=value&facets[fueltype][]=SUN&facets[respondent][]=MISO&sort[0][column]=period&sort[0][direction]=desc&offset=0&length=5000&api_key={api_key}\"\n",
    "wind_hourly_url = f\"https://api.eia.gov/v2/electricity/rto/fuel-type-data/data/?frequency=hourly&data[0]=value&facets[respondent][]=MISO&facets[fueltype][]=WND&sort[0][column]=period&sort[0][direction]=desc&offset=0&length=5000&api_key={api_key}\""
   ]
  },
  {
   "cell_type": "code",
   "execution_count": 25,
   "id": "f360ca24",
   "metadata": {},
   "outputs": [
    {
     "name": "stdout",
     "output_type": "stream",
     "text": [
      "Success\n"
     ]
    }
   ],
   "source": [
    "try:\n",
    "    (request := r.get(solar_hourly_url))\n",
    "    print(\"Success\")\n",
    "except Exception as e:\n",
    "    print(e)"
   ]
  },
  {
   "cell_type": "code",
   "execution_count": 26,
   "id": "61100a84",
   "metadata": {},
   "outputs": [],
   "source": [
    "json_data = request.json()"
   ]
  },
  {
   "cell_type": "code",
   "execution_count": 27,
   "id": "6f4fe96a",
   "metadata": {},
   "outputs": [],
   "source": [
    "hourly_solar_generation = pd.DataFrame(json_data.get('response').get('data'))"
   ]
  },
  {
   "cell_type": "code",
   "execution_count": 28,
   "id": "e0aeb17b",
   "metadata": {},
   "outputs": [
    {
     "data": {
      "text/html": [
       "<div>\n",
       "<style scoped>\n",
       "    .dataframe tbody tr th:only-of-type {\n",
       "        vertical-align: middle;\n",
       "    }\n",
       "\n",
       "    .dataframe tbody tr th {\n",
       "        vertical-align: top;\n",
       "    }\n",
       "\n",
       "    .dataframe thead th {\n",
       "        text-align: right;\n",
       "    }\n",
       "</style>\n",
       "<table border=\"1\" class=\"dataframe\">\n",
       "  <thead>\n",
       "    <tr style=\"text-align: right;\">\n",
       "      <th></th>\n",
       "      <th>period</th>\n",
       "      <th>respondent</th>\n",
       "      <th>respondent-name</th>\n",
       "      <th>fueltype</th>\n",
       "      <th>type-name</th>\n",
       "      <th>value</th>\n",
       "      <th>value-units</th>\n",
       "    </tr>\n",
       "  </thead>\n",
       "  <tbody>\n",
       "    <tr>\n",
       "      <th>0</th>\n",
       "      <td>2023-04-09T05</td>\n",
       "      <td>MISO</td>\n",
       "      <td>Midcontinent Independent System Operator, Inc.</td>\n",
       "      <td>SUN</td>\n",
       "      <td>Solar</td>\n",
       "      <td>2</td>\n",
       "      <td>megawatthours</td>\n",
       "    </tr>\n",
       "    <tr>\n",
       "      <th>1</th>\n",
       "      <td>2023-04-09T04</td>\n",
       "      <td>MISO</td>\n",
       "      <td>Midcontinent Independent System Operator, Inc.</td>\n",
       "      <td>SUN</td>\n",
       "      <td>Solar</td>\n",
       "      <td>2</td>\n",
       "      <td>megawatthours</td>\n",
       "    </tr>\n",
       "    <tr>\n",
       "      <th>2</th>\n",
       "      <td>2023-04-09T03</td>\n",
       "      <td>MISO</td>\n",
       "      <td>Midcontinent Independent System Operator, Inc.</td>\n",
       "      <td>SUN</td>\n",
       "      <td>Solar</td>\n",
       "      <td>1</td>\n",
       "      <td>megawatthours</td>\n",
       "    </tr>\n",
       "    <tr>\n",
       "      <th>3</th>\n",
       "      <td>2023-04-09T02</td>\n",
       "      <td>MISO</td>\n",
       "      <td>Midcontinent Independent System Operator, Inc.</td>\n",
       "      <td>SUN</td>\n",
       "      <td>Solar</td>\n",
       "      <td>1</td>\n",
       "      <td>megawatthours</td>\n",
       "    </tr>\n",
       "    <tr>\n",
       "      <th>4</th>\n",
       "      <td>2023-04-09T01</td>\n",
       "      <td>MISO</td>\n",
       "      <td>Midcontinent Independent System Operator, Inc.</td>\n",
       "      <td>SUN</td>\n",
       "      <td>Solar</td>\n",
       "      <td>41</td>\n",
       "      <td>megawatthours</td>\n",
       "    </tr>\n",
       "  </tbody>\n",
       "</table>\n",
       "</div>"
      ],
      "text/plain": [
       "          period respondent                                 respondent-name  \\\n",
       "0  2023-04-09T05       MISO  Midcontinent Independent System Operator, Inc.   \n",
       "1  2023-04-09T04       MISO  Midcontinent Independent System Operator, Inc.   \n",
       "2  2023-04-09T03       MISO  Midcontinent Independent System Operator, Inc.   \n",
       "3  2023-04-09T02       MISO  Midcontinent Independent System Operator, Inc.   \n",
       "4  2023-04-09T01       MISO  Midcontinent Independent System Operator, Inc.   \n",
       "\n",
       "  fueltype type-name  value    value-units  \n",
       "0      SUN     Solar      2  megawatthours  \n",
       "1      SUN     Solar      2  megawatthours  \n",
       "2      SUN     Solar      1  megawatthours  \n",
       "3      SUN     Solar      1  megawatthours  \n",
       "4      SUN     Solar     41  megawatthours  "
      ]
     },
     "execution_count": 28,
     "metadata": {},
     "output_type": "execute_result"
    }
   ],
   "source": [
    "hourly_solar_generation.head()"
   ]
  },
  {
   "cell_type": "code",
   "execution_count": 29,
   "id": "cbe7b323",
   "metadata": {},
   "outputs": [],
   "source": [
    "hourly_solar_generation.period = pd.to_datetime(hourly_solar_generation.period,utc=True)\n"
   ]
  },
  {
   "cell_type": "code",
   "execution_count": 30,
   "id": "abfb5484",
   "metadata": {},
   "outputs": [
    {
     "data": {
      "text/html": [
       "<div>\n",
       "<style scoped>\n",
       "    .dataframe tbody tr th:only-of-type {\n",
       "        vertical-align: middle;\n",
       "    }\n",
       "\n",
       "    .dataframe tbody tr th {\n",
       "        vertical-align: top;\n",
       "    }\n",
       "\n",
       "    .dataframe thead th {\n",
       "        text-align: right;\n",
       "    }\n",
       "</style>\n",
       "<table border=\"1\" class=\"dataframe\">\n",
       "  <thead>\n",
       "    <tr style=\"text-align: right;\">\n",
       "      <th></th>\n",
       "      <th>period</th>\n",
       "      <th>respondent</th>\n",
       "      <th>respondent-name</th>\n",
       "      <th>fueltype</th>\n",
       "      <th>type-name</th>\n",
       "      <th>value</th>\n",
       "      <th>value-units</th>\n",
       "    </tr>\n",
       "  </thead>\n",
       "  <tbody>\n",
       "    <tr>\n",
       "      <th>0</th>\n",
       "      <td>2023-04-09 05:00:00+00:00</td>\n",
       "      <td>MISO</td>\n",
       "      <td>Midcontinent Independent System Operator, Inc.</td>\n",
       "      <td>SUN</td>\n",
       "      <td>Solar</td>\n",
       "      <td>2</td>\n",
       "      <td>megawatthours</td>\n",
       "    </tr>\n",
       "    <tr>\n",
       "      <th>1</th>\n",
       "      <td>2023-04-09 04:00:00+00:00</td>\n",
       "      <td>MISO</td>\n",
       "      <td>Midcontinent Independent System Operator, Inc.</td>\n",
       "      <td>SUN</td>\n",
       "      <td>Solar</td>\n",
       "      <td>2</td>\n",
       "      <td>megawatthours</td>\n",
       "    </tr>\n",
       "    <tr>\n",
       "      <th>2</th>\n",
       "      <td>2023-04-09 03:00:00+00:00</td>\n",
       "      <td>MISO</td>\n",
       "      <td>Midcontinent Independent System Operator, Inc.</td>\n",
       "      <td>SUN</td>\n",
       "      <td>Solar</td>\n",
       "      <td>1</td>\n",
       "      <td>megawatthours</td>\n",
       "    </tr>\n",
       "    <tr>\n",
       "      <th>3</th>\n",
       "      <td>2023-04-09 02:00:00+00:00</td>\n",
       "      <td>MISO</td>\n",
       "      <td>Midcontinent Independent System Operator, Inc.</td>\n",
       "      <td>SUN</td>\n",
       "      <td>Solar</td>\n",
       "      <td>1</td>\n",
       "      <td>megawatthours</td>\n",
       "    </tr>\n",
       "    <tr>\n",
       "      <th>4</th>\n",
       "      <td>2023-04-09 01:00:00+00:00</td>\n",
       "      <td>MISO</td>\n",
       "      <td>Midcontinent Independent System Operator, Inc.</td>\n",
       "      <td>SUN</td>\n",
       "      <td>Solar</td>\n",
       "      <td>41</td>\n",
       "      <td>megawatthours</td>\n",
       "    </tr>\n",
       "  </tbody>\n",
       "</table>\n",
       "</div>"
      ],
      "text/plain": [
       "                     period respondent  \\\n",
       "0 2023-04-09 05:00:00+00:00       MISO   \n",
       "1 2023-04-09 04:00:00+00:00       MISO   \n",
       "2 2023-04-09 03:00:00+00:00       MISO   \n",
       "3 2023-04-09 02:00:00+00:00       MISO   \n",
       "4 2023-04-09 01:00:00+00:00       MISO   \n",
       "\n",
       "                                  respondent-name fueltype type-name  value  \\\n",
       "0  Midcontinent Independent System Operator, Inc.      SUN     Solar      2   \n",
       "1  Midcontinent Independent System Operator, Inc.      SUN     Solar      2   \n",
       "2  Midcontinent Independent System Operator, Inc.      SUN     Solar      1   \n",
       "3  Midcontinent Independent System Operator, Inc.      SUN     Solar      1   \n",
       "4  Midcontinent Independent System Operator, Inc.      SUN     Solar     41   \n",
       "\n",
       "     value-units  \n",
       "0  megawatthours  \n",
       "1  megawatthours  \n",
       "2  megawatthours  \n",
       "3  megawatthours  \n",
       "4  megawatthours  "
      ]
     },
     "execution_count": 30,
     "metadata": {},
     "output_type": "execute_result"
    }
   ],
   "source": [
    "hourly_solar_generation.head()"
   ]
  },
  {
   "cell_type": "code",
   "execution_count": 31,
   "id": "51e3b105",
   "metadata": {},
   "outputs": [
    {
     "data": {
      "text/plain": [
       "<AxesSubplot:xlabel='period', ylabel='value'>"
      ]
     },
     "execution_count": 31,
     "metadata": {},
     "output_type": "execute_result"
    },
    {
     "data": {
      "image/png": "[encoded data removed]",
      "text/plain": [
       "<Figure size 432x288 with 1 Axes>"
      ]
     },
     "metadata": {
      "needs_background": "light"
     },
     "output_type": "display_data"
    }
   ],
   "source": [
    "sns.lineplot(x=\"period\",y=\"value\",data=hourly_solar_generation)"
   ]
  },
  {
   "cell_type": "code",
   "execution_count": 32,
   "id": "13b42652",
   "metadata": {},
   "outputs": [
    {
     "name": "stdout",
     "output_type": "stream",
     "text": [
      "Success\n"
     ]
    }
   ],
   "source": [
    "try:\n",
    "    (request := r.get(wind_hourly_url))\n",
    "    print(\"Success\")\n",
    "except Exception as e:\n",
    "    print(e)"
   ]
  },
  {
   "cell_type": "code",
   "execution_count": 33,
   "id": "f8acf761",
   "metadata": {},
   "outputs": [],
   "source": [
    "json_data = request.json()"
   ]
  },
  {
   "cell_type": "code",
   "execution_count": 34,
   "id": "7bb36d31",
   "metadata": {},
   "outputs": [],
   "source": [
    "hourly_wind_generation = pd.DataFrame(json_data.get('response').get('data'))"
   ]
  },
  {
   "cell_type": "code",
   "execution_count": 35,
   "id": "557449e9",
   "metadata": {},
   "outputs": [],
   "source": [
    "hourly_wind_generation.period = pd.to_datetime(hourly_wind_generation.period,utc=True)"
   ]
  },
  {
   "cell_type": "code",
   "execution_count": 36,
   "id": "4211a199",
   "metadata": {},
   "outputs": [
    {
     "data": {
      "text/html": [
       "<div>\n",
       "<style scoped>\n",
       "    .dataframe tbody tr th:only-of-type {\n",
       "        vertical-align: middle;\n",
       "    }\n",
       "\n",
       "    .dataframe tbody tr th {\n",
       "        vertical-align: top;\n",
       "    }\n",
       "\n",
       "    .dataframe thead th {\n",
       "        text-align: right;\n",
       "    }\n",
       "</style>\n",
       "<table border=\"1\" class=\"dataframe\">\n",
       "  <thead>\n",
       "    <tr style=\"text-align: right;\">\n",
       "      <th></th>\n",
       "      <th>period</th>\n",
       "      <th>respondent</th>\n",
       "      <th>respondent-name</th>\n",
       "      <th>fueltype</th>\n",
       "      <th>type-name</th>\n",
       "      <th>value</th>\n",
       "      <th>value-units</th>\n",
       "    </tr>\n",
       "  </thead>\n",
       "  <tbody>\n",
       "    <tr>\n",
       "      <th>0</th>\n",
       "      <td>2023-04-09 05:00:00+00:00</td>\n",
       "      <td>MISO</td>\n",
       "      <td>Midcontinent Independent System Operator, Inc.</td>\n",
       "      <td>WND</td>\n",
       "      <td>Wind</td>\n",
       "      <td>15878</td>\n",
       "      <td>megawatthours</td>\n",
       "    </tr>\n",
       "    <tr>\n",
       "      <th>1</th>\n",
       "      <td>2023-04-09 04:00:00+00:00</td>\n",
       "      <td>MISO</td>\n",
       "      <td>Midcontinent Independent System Operator, Inc.</td>\n",
       "      <td>WND</td>\n",
       "      <td>Wind</td>\n",
       "      <td>15399</td>\n",
       "      <td>megawatthours</td>\n",
       "    </tr>\n",
       "    <tr>\n",
       "      <th>2</th>\n",
       "      <td>2023-04-09 03:00:00+00:00</td>\n",
       "      <td>MISO</td>\n",
       "      <td>Midcontinent Independent System Operator, Inc.</td>\n",
       "      <td>WND</td>\n",
       "      <td>Wind</td>\n",
       "      <td>16052</td>\n",
       "      <td>megawatthours</td>\n",
       "    </tr>\n",
       "    <tr>\n",
       "      <th>3</th>\n",
       "      <td>2023-04-09 02:00:00+00:00</td>\n",
       "      <td>MISO</td>\n",
       "      <td>Midcontinent Independent System Operator, Inc.</td>\n",
       "      <td>WND</td>\n",
       "      <td>Wind</td>\n",
       "      <td>16259</td>\n",
       "      <td>megawatthours</td>\n",
       "    </tr>\n",
       "    <tr>\n",
       "      <th>4</th>\n",
       "      <td>2023-04-09 01:00:00+00:00</td>\n",
       "      <td>MISO</td>\n",
       "      <td>Midcontinent Independent System Operator, Inc.</td>\n",
       "      <td>WND</td>\n",
       "      <td>Wind</td>\n",
       "      <td>14702</td>\n",
       "      <td>megawatthours</td>\n",
       "    </tr>\n",
       "  </tbody>\n",
       "</table>\n",
       "</div>"
      ],
      "text/plain": [
       "                     period respondent  \\\n",
       "0 2023-04-09 05:00:00+00:00       MISO   \n",
       "1 2023-04-09 04:00:00+00:00       MISO   \n",
       "2 2023-04-09 03:00:00+00:00       MISO   \n",
       "3 2023-04-09 02:00:00+00:00       MISO   \n",
       "4 2023-04-09 01:00:00+00:00       MISO   \n",
       "\n",
       "                                  respondent-name fueltype type-name  value  \\\n",
       "0  Midcontinent Independent System Operator, Inc.      WND      Wind  15878   \n",
       "1  Midcontinent Independent System Operator, Inc.      WND      Wind  15399   \n",
       "2  Midcontinent Independent System Operator, Inc.      WND      Wind  16052   \n",
       "3  Midcontinent Independent System Operator, Inc.      WND      Wind  16259   \n",
       "4  Midcontinent Independent System Operator, Inc.      WND      Wind  14702   \n",
       "\n",
       "     value-units  \n",
       "0  megawatthours  \n",
       "1  megawatthours  \n",
       "2  megawatthours  \n",
       "3  megawatthours  \n",
       "4  megawatthours  "
      ]
     },
     "execution_count": 36,
     "metadata": {},
     "output_type": "execute_result"
    }
   ],
   "source": [
    "hourly_wind_generation.head()"
   ]
  },
  {
   "cell_type": "code",
   "execution_count": 37,
   "id": "08feac12",
   "metadata": {},
   "outputs": [
    {
     "data": {
      "text/plain": [
       "<AxesSubplot:xlabel='period', ylabel='value'>"
      ]
     },
     "execution_count": 37,
     "metadata": {},
     "output_type": "execute_result"
    },
    {
     "data": {
      "image/png": "[encoded data removed]",
      "text/plain": [
       "<Figure size 432x288 with 1 Axes>"
      ]
     },
     "metadata": {
      "needs_background": "light"
     },
     "output_type": "display_data"
    }
   ],
   "source": [
    "sns.lineplot(x=\"period\",y=\"value\",data=hourly_wind_generation)"
   ]
  },
  {
   "cell_type": "markdown",
   "id": "f0bc7206",
   "metadata": {},
   "source": [
    "Weather Data"
   ]
  },
  {
   "cell_type": "code",
   "execution_count": 38,
   "id": "791e5d14",
   "metadata": {},
   "outputs": [],
   "source": [
    "weather_hourly_url = \"https://api.weather.gov/stations/KSTL/observations?limit=500\""
   ]
  },
  {
   "cell_type": "code",
   "execution_count": 39,
   "id": "9641cbeb",
   "metadata": {
    "scrolled": true
   },
   "outputs": [
    {
     "name": "stdout",
     "output_type": "stream",
     "text": [
      "Successful\n"
     ]
    }
   ],
   "source": [
    "try:\n",
    "    (request := r.get(weather_hourly_url))\n",
    "    print(\"Successful\")\n",
    "except Exception as e:\n",
    "    print(e)"
   ]
  },
  {
   "cell_type": "code",
   "execution_count": 40,
   "id": "93d122c8",
   "metadata": {},
   "outputs": [],
   "source": [
    "json_data = request.json()"
   ]
  },
  {
   "cell_type": "code",
   "execution_count": 41,
   "id": "6c88bcd8",
   "metadata": {},
   "outputs": [],
   "source": [
    "d= json.loads(request.text)"
   ]
  },
  {
   "cell_type": "code",
   "execution_count": 42,
   "id": "41609064",
   "metadata": {},
   "outputs": [],
   "source": [
    "parsed = [d[\"features\"][i][\"properties\"] for i in range(0,len(d[\"features\"]))]\n",
    "\n",
    "for i in range(0,len(parsed)):\n",
    "    for key in parsed[i].keys():\n",
    "        if isinstance(parsed[i][key],dict):\n",
    "            if \"value\" in parsed[i][key]:\n",
    "                parsed[i][key] = parsed[i][key][\"value\"]"
   ]
  },
  {
   "cell_type": "code",
   "execution_count": 43,
   "id": "358d0dbf",
   "metadata": {
    "scrolled": true
   },
   "outputs": [],
   "source": [
    "hourly_observation_data = pd.DataFrame(parsed)"
   ]
  },
  {
   "cell_type": "code",
   "execution_count": 44,
   "id": "e8731244",
   "metadata": {},
   "outputs": [
    {
     "data": {
      "text/plain": [
       "(181, 26)"
      ]
     },
     "execution_count": 44,
     "metadata": {},
     "output_type": "execute_result"
    }
   ],
   "source": [
    "hourly_observation_data.shape"
   ]
  },
  {
   "cell_type": "code",
   "execution_count": 45,
   "id": "de1037ba",
   "metadata": {},
   "outputs": [],
   "source": [
    "forecast_url = \"https://api.weather.gov/gridpoints/LSX/89,80/forecast/hourly\""
   ]
  },
  {
   "cell_type": "code",
   "execution_count": 46,
   "id": "0cc57685",
   "metadata": {},
   "outputs": [
    {
     "name": "stdout",
     "output_type": "stream",
     "text": [
      "Successful\n"
     ]
    }
   ],
   "source": [
    "try:\n",
    "    (request := r.get(forecast_url))\n",
    "    print(\"Successful\")\n",
    "except Exception as e:\n",
    "    print(e)"
   ]
  },
  {
   "cell_type": "code",
   "execution_count": 47,
   "id": "fa70b519",
   "metadata": {},
   "outputs": [],
   "source": [
    "d = json.loads(request.text)"
   ]
  },
  {
   "cell_type": "code",
   "execution_count": 48,
   "id": "0df3db28",
   "metadata": {},
   "outputs": [],
   "source": [
    "hourly_forecast_data = pd.DataFrame(d[\"properties\"][\"periods\"])"
   ]
  },
  {
   "cell_type": "code",
   "execution_count": 49,
   "id": "e9d3f2fe",
   "metadata": {},
   "outputs": [
    {
     "data": {
      "text/html": [
       "<div>\n",
       "<style scoped>\n",
       "    .dataframe tbody tr th:only-of-type {\n",
       "        vertical-align: middle;\n",
       "    }\n",
       "\n",
       "    .dataframe tbody tr th {\n",
       "        vertical-align: top;\n",
       "    }\n",
       "\n",
       "    .dataframe thead th {\n",
       "        text-align: right;\n",
       "    }\n",
       "</style>\n",
       "<table border=\"1\" class=\"dataframe\">\n",
       "  <thead>\n",
       "    <tr style=\"text-align: right;\">\n",
       "      <th></th>\n",
       "      <th>number</th>\n",
       "      <th>name</th>\n",
       "      <th>startTime</th>\n",
       "      <th>endTime</th>\n",
       "      <th>isDaytime</th>\n",
       "      <th>temperature</th>\n",
       "      <th>temperatureUnit</th>\n",
       "      <th>temperatureTrend</th>\n",
       "      <th>probabilityOfPrecipitation</th>\n",
       "      <th>dewpoint</th>\n",
       "      <th>relativeHumidity</th>\n",
       "      <th>windSpeed</th>\n",
       "      <th>windDirection</th>\n",
       "      <th>icon</th>\n",
       "      <th>shortForecast</th>\n",
       "      <th>detailedForecast</th>\n",
       "    </tr>\n",
       "  </thead>\n",
       "  <tbody>\n",
       "    <tr>\n",
       "      <th>0</th>\n",
       "      <td>1</td>\n",
       "      <td></td>\n",
       "      <td>2023-04-09T20:00:00-05:00</td>\n",
       "      <td>2023-04-09T21:00:00-05:00</td>\n",
       "      <td>False</td>\n",
       "      <td>63</td>\n",
       "      <td>F</td>\n",
       "      <td>None</td>\n",
       "      <td>{'unitCode': 'wmoUnit:percent', 'value': 0}</td>\n",
       "      <td>{'unitCode': 'wmoUnit:degC', 'value': 1.111111...</td>\n",
       "      <td>{'unitCode': 'wmoUnit:percent', 'value': 34}</td>\n",
       "      <td>8 mph</td>\n",
       "      <td>SE</td>\n",
       "      <td>https://api.weather.gov/icons/land/night/sct,0...</td>\n",
       "      <td>Partly Cloudy</td>\n",
       "      <td></td>\n",
       "    </tr>\n",
       "    <tr>\n",
       "      <th>1</th>\n",
       "      <td>2</td>\n",
       "      <td></td>\n",
       "      <td>2023-04-09T21:00:00-05:00</td>\n",
       "      <td>2023-04-09T22:00:00-05:00</td>\n",
       "      <td>False</td>\n",
       "      <td>60</td>\n",
       "      <td>F</td>\n",
       "      <td>None</td>\n",
       "      <td>{'unitCode': 'wmoUnit:percent', 'value': 0}</td>\n",
       "      <td>{'unitCode': 'wmoUnit:degC', 'value': 1.111111...</td>\n",
       "      <td>{'unitCode': 'wmoUnit:percent', 'value': 37}</td>\n",
       "      <td>8 mph</td>\n",
       "      <td>SE</td>\n",
       "      <td>https://api.weather.gov/icons/land/night/sct,0...</td>\n",
       "      <td>Partly Cloudy</td>\n",
       "      <td></td>\n",
       "    </tr>\n",
       "    <tr>\n",
       "      <th>2</th>\n",
       "      <td>3</td>\n",
       "      <td></td>\n",
       "      <td>2023-04-09T22:00:00-05:00</td>\n",
       "      <td>2023-04-09T23:00:00-05:00</td>\n",
       "      <td>False</td>\n",
       "      <td>58</td>\n",
       "      <td>F</td>\n",
       "      <td>None</td>\n",
       "      <td>{'unitCode': 'wmoUnit:percent', 'value': 0}</td>\n",
       "      <td>{'unitCode': 'wmoUnit:degC', 'value': 1.666666...</td>\n",
       "      <td>{'unitCode': 'wmoUnit:percent', 'value': 43}</td>\n",
       "      <td>7 mph</td>\n",
       "      <td>SE</td>\n",
       "      <td>https://api.weather.gov/icons/land/night/sct,0...</td>\n",
       "      <td>Partly Cloudy</td>\n",
       "      <td></td>\n",
       "    </tr>\n",
       "    <tr>\n",
       "      <th>3</th>\n",
       "      <td>4</td>\n",
       "      <td></td>\n",
       "      <td>2023-04-09T23:00:00-05:00</td>\n",
       "      <td>2023-04-10T00:00:00-05:00</td>\n",
       "      <td>False</td>\n",
       "      <td>56</td>\n",
       "      <td>F</td>\n",
       "      <td>None</td>\n",
       "      <td>{'unitCode': 'wmoUnit:percent', 'value': 0}</td>\n",
       "      <td>{'unitCode': 'wmoUnit:degC', 'value': 1.666666...</td>\n",
       "      <td>{'unitCode': 'wmoUnit:percent', 'value': 47}</td>\n",
       "      <td>7 mph</td>\n",
       "      <td>SE</td>\n",
       "      <td>https://api.weather.gov/icons/land/night/few,0...</td>\n",
       "      <td>Mostly Clear</td>\n",
       "      <td></td>\n",
       "    </tr>\n",
       "    <tr>\n",
       "      <th>4</th>\n",
       "      <td>5</td>\n",
       "      <td></td>\n",
       "      <td>2023-04-10T00:00:00-05:00</td>\n",
       "      <td>2023-04-10T01:00:00-05:00</td>\n",
       "      <td>False</td>\n",
       "      <td>53</td>\n",
       "      <td>F</td>\n",
       "      <td>None</td>\n",
       "      <td>{'unitCode': 'wmoUnit:percent', 'value': 0}</td>\n",
       "      <td>{'unitCode': 'wmoUnit:degC', 'value': 1.666666...</td>\n",
       "      <td>{'unitCode': 'wmoUnit:percent', 'value': 49}</td>\n",
       "      <td>8 mph</td>\n",
       "      <td>SE</td>\n",
       "      <td>https://api.weather.gov/icons/land/night/few,0...</td>\n",
       "      <td>Mostly Clear</td>\n",
       "      <td></td>\n",
       "    </tr>\n",
       "  </tbody>\n",
       "</table>\n",
       "</div>"
      ],
      "text/plain": [
       "   number name                  startTime                    endTime  \\\n",
       "0       1       2023-04-09T20:00:00-05:00  2023-04-09T21:00:00-05:00   \n",
       "1       2       2023-04-09T21:00:00-05:00  2023-04-09T22:00:00-05:00   \n",
       "2       3       2023-04-09T22:00:00-05:00  2023-04-09T23:00:00-05:00   \n",
       "3       4       2023-04-09T23:00:00-05:00  2023-04-10T00:00:00-05:00   \n",
       "4       5       2023-04-10T00:00:00-05:00  2023-04-10T01:00:00-05:00   \n",
       "\n",
       "   isDaytime  temperature temperatureUnit temperatureTrend  \\\n",
       "0      False           63               F             None   \n",
       "1      False           60               F             None   \n",
       "2      False           58               F             None   \n",
       "3      False           56               F             None   \n",
       "4      False           53               F             None   \n",
       "\n",
       "                    probabilityOfPrecipitation  \\\n",
       "0  {'unitCode': 'wmoUnit:percent', 'value': 0}   \n",
       "1  {'unitCode': 'wmoUnit:percent', 'value': 0}   \n",
       "2  {'unitCode': 'wmoUnit:percent', 'value': 0}   \n",
       "3  {'unitCode': 'wmoUnit:percent', 'value': 0}   \n",
       "4  {'unitCode': 'wmoUnit:percent', 'value': 0}   \n",
       "\n",
       "                                            dewpoint  \\\n",
       "0  {'unitCode': 'wmoUnit:degC', 'value': 1.111111...   \n",
       "1  {'unitCode': 'wmoUnit:degC', 'value': 1.111111...   \n",
       "2  {'unitCode': 'wmoUnit:degC', 'value': 1.666666...   \n",
       "3  {'unitCode': 'wmoUnit:degC', 'value': 1.666666...   \n",
       "4  {'unitCode': 'wmoUnit:degC', 'value': 1.666666...   \n",
       "\n",
       "                               relativeHumidity windSpeed windDirection  \\\n",
       "0  {'unitCode': 'wmoUnit:percent', 'value': 34}     8 mph            SE   \n",
       "1  {'unitCode': 'wmoUnit:percent', 'value': 37}     8 mph            SE   \n",
       "2  {'unitCode': 'wmoUnit:percent', 'value': 43}     7 mph            SE   \n",
       "3  {'unitCode': 'wmoUnit:percent', 'value': 47}     7 mph            SE   \n",
       "4  {'unitCode': 'wmoUnit:percent', 'value': 49}     8 mph            SE   \n",
       "\n",
       "                                                icon  shortForecast  \\\n",
       "0  https://api.weather.gov/icons/land/night/sct,0...  Partly Cloudy   \n",
       "1  https://api.weather.gov/icons/land/night/sct,0...  Partly Cloudy   \n",
       "2  https://api.weather.gov/icons/land/night/sct,0...  Partly Cloudy   \n",
       "3  https://api.weather.gov/icons/land/night/few,0...   Mostly Clear   \n",
       "4  https://api.weather.gov/icons/land/night/few,0...   Mostly Clear   \n",
       "\n",
       "  detailedForecast  \n",
       "0                   \n",
       "1                   \n",
       "2                   \n",
       "3                   \n",
       "4                   "
      ]
     },
     "execution_count": 49,
     "metadata": {},
     "output_type": "execute_result"
    }
   ],
   "source": [
    "hourly_forecast_data.head()"
   ]
  },
  {
   "cell_type": "code",
   "execution_count": 50,
   "id": "826237bc",
   "metadata": {},
   "outputs": [
    {
     "data": {
      "text/html": [
       "<div>\n",
       "<style scoped>\n",
       "    .dataframe tbody tr th:only-of-type {\n",
       "        vertical-align: middle;\n",
       "    }\n",
       "\n",
       "    .dataframe tbody tr th {\n",
       "        vertical-align: top;\n",
       "    }\n",
       "\n",
       "    .dataframe thead th {\n",
       "        text-align: right;\n",
       "    }\n",
       "</style>\n",
       "<table border=\"1\" class=\"dataframe\">\n",
       "  <thead>\n",
       "    <tr style=\"text-align: right;\">\n",
       "      <th></th>\n",
       "      <th>@id</th>\n",
       "      <th>@type</th>\n",
       "      <th>elevation</th>\n",
       "      <th>station</th>\n",
       "      <th>timestamp</th>\n",
       "      <th>rawMessage</th>\n",
       "      <th>textDescription</th>\n",
       "      <th>icon</th>\n",
       "      <th>presentWeather</th>\n",
       "      <th>temperature</th>\n",
       "      <th>...</th>\n",
       "      <th>visibility</th>\n",
       "      <th>maxTemperatureLast24Hours</th>\n",
       "      <th>minTemperatureLast24Hours</th>\n",
       "      <th>precipitationLastHour</th>\n",
       "      <th>precipitationLast3Hours</th>\n",
       "      <th>precipitationLast6Hours</th>\n",
       "      <th>relativeHumidity</th>\n",
       "      <th>windChill</th>\n",
       "      <th>heatIndex</th>\n",
       "      <th>cloudLayers</th>\n",
       "    </tr>\n",
       "  </thead>\n",
       "  <tbody>\n",
       "    <tr>\n",
       "      <th>0</th>\n",
       "      <td>https://api.weather.gov/stations/KSTL/observat...</td>\n",
       "      <td>wx:ObservationStation</td>\n",
       "      <td>172</td>\n",
       "      <td>https://api.weather.gov/stations/KSTL</td>\n",
       "      <td>2023-04-10T00:51:00+00:00</td>\n",
       "      <td>KSTL 100051Z 11007KT 10SM BKN250 16/00 A3030 R...</td>\n",
       "      <td>Mostly Cloudy</td>\n",
       "      <td>https://api.weather.gov/icons/land/night/bkn?s...</td>\n",
       "      <td>[]</td>\n",
       "      <td>16.1</td>\n",
       "      <td>...</td>\n",
       "      <td>16090</td>\n",
       "      <td>None</td>\n",
       "      <td>None</td>\n",
       "      <td>NaN</td>\n",
       "      <td>NaN</td>\n",
       "      <td>NaN</td>\n",
       "      <td>33.453418</td>\n",
       "      <td>NaN</td>\n",
       "      <td>NaN</td>\n",
       "      <td>[{'base': {'unitCode': 'wmoUnit:m', 'value': 7...</td>\n",
       "    </tr>\n",
       "    <tr>\n",
       "      <th>1</th>\n",
       "      <td>https://api.weather.gov/stations/KSTL/observat...</td>\n",
       "      <td>wx:ObservationStation</td>\n",
       "      <td>172</td>\n",
       "      <td>https://api.weather.gov/stations/KSTL</td>\n",
       "      <td>2023-04-09T23:51:00+00:00</td>\n",
       "      <td>KSTL 092351Z 11010KT 10SM BKN250 19/M01 A3030 ...</td>\n",
       "      <td>Mostly Cloudy</td>\n",
       "      <td>https://api.weather.gov/icons/land/day/bkn?siz...</td>\n",
       "      <td>[]</td>\n",
       "      <td>18.9</td>\n",
       "      <td>...</td>\n",
       "      <td>16090</td>\n",
       "      <td>None</td>\n",
       "      <td>None</td>\n",
       "      <td>NaN</td>\n",
       "      <td>NaN</td>\n",
       "      <td>NaN</td>\n",
       "      <td>26.838520</td>\n",
       "      <td>NaN</td>\n",
       "      <td>NaN</td>\n",
       "      <td>[{'base': {'unitCode': 'wmoUnit:m', 'value': 7...</td>\n",
       "    </tr>\n",
       "    <tr>\n",
       "      <th>2</th>\n",
       "      <td>https://api.weather.gov/stations/KSTL/observat...</td>\n",
       "      <td>wx:ObservationStation</td>\n",
       "      <td>172</td>\n",
       "      <td>https://api.weather.gov/stations/KSTL</td>\n",
       "      <td>2023-04-09T22:51:00+00:00</td>\n",
       "      <td>KSTL 092251Z 11015KT 10SM BKN250 20/M01 A3031 ...</td>\n",
       "      <td>Mostly Cloudy</td>\n",
       "      <td>https://api.weather.gov/icons/land/day/bkn?siz...</td>\n",
       "      <td>[]</td>\n",
       "      <td>20.0</td>\n",
       "      <td>...</td>\n",
       "      <td>16090</td>\n",
       "      <td>None</td>\n",
       "      <td>None</td>\n",
       "      <td>NaN</td>\n",
       "      <td>NaN</td>\n",
       "      <td>NaN</td>\n",
       "      <td>24.165749</td>\n",
       "      <td>NaN</td>\n",
       "      <td>NaN</td>\n",
       "      <td>[{'base': {'unitCode': 'wmoUnit:m', 'value': 7...</td>\n",
       "    </tr>\n",
       "    <tr>\n",
       "      <th>3</th>\n",
       "      <td>https://api.weather.gov/stations/KSTL/observat...</td>\n",
       "      <td>wx:ObservationStation</td>\n",
       "      <td>172</td>\n",
       "      <td>https://api.weather.gov/stations/KSTL</td>\n",
       "      <td>2023-04-09T21:51:00+00:00</td>\n",
       "      <td>KSTL 092151Z 11015KT 10SM BKN250 21/M01 A3031 ...</td>\n",
       "      <td>Mostly Cloudy</td>\n",
       "      <td>https://api.weather.gov/icons/land/day/bkn?siz...</td>\n",
       "      <td>[]</td>\n",
       "      <td>21.1</td>\n",
       "      <td>...</td>\n",
       "      <td>16090</td>\n",
       "      <td>None</td>\n",
       "      <td>None</td>\n",
       "      <td>NaN</td>\n",
       "      <td>NaN</td>\n",
       "      <td>NaN</td>\n",
       "      <td>22.581219</td>\n",
       "      <td>NaN</td>\n",
       "      <td>NaN</td>\n",
       "      <td>[{'base': {'unitCode': 'wmoUnit:m', 'value': 7...</td>\n",
       "    </tr>\n",
       "    <tr>\n",
       "      <th>4</th>\n",
       "      <td>https://api.weather.gov/stations/KSTL/observat...</td>\n",
       "      <td>wx:ObservationStation</td>\n",
       "      <td>172</td>\n",
       "      <td>https://api.weather.gov/stations/KSTL</td>\n",
       "      <td>2023-04-09T20:51:00+00:00</td>\n",
       "      <td>KSTL 092051Z 12014G23KT 10SM BKN250 21/M01 A30...</td>\n",
       "      <td>Mostly Cloudy</td>\n",
       "      <td>https://api.weather.gov/icons/land/day/bkn?siz...</td>\n",
       "      <td>[]</td>\n",
       "      <td>21.1</td>\n",
       "      <td>...</td>\n",
       "      <td>16090</td>\n",
       "      <td>None</td>\n",
       "      <td>None</td>\n",
       "      <td>NaN</td>\n",
       "      <td>NaN</td>\n",
       "      <td>NaN</td>\n",
       "      <td>22.581219</td>\n",
       "      <td>NaN</td>\n",
       "      <td>NaN</td>\n",
       "      <td>[{'base': {'unitCode': 'wmoUnit:m', 'value': 7...</td>\n",
       "    </tr>\n",
       "  </tbody>\n",
       "</table>\n",
       "<p>5 rows × 26 columns</p>\n",
       "</div>"
      ],
      "text/plain": [
       "                                                 @id                  @type  \\\n",
       "0  https://api.weather.gov/stations/KSTL/observat...  wx:ObservationStation   \n",
       "1  https://api.weather.gov/stations/KSTL/observat...  wx:ObservationStation   \n",
       "2  https://api.weather.gov/stations/KSTL/observat...  wx:ObservationStation   \n",
       "3  https://api.weather.gov/stations/KSTL/observat...  wx:ObservationStation   \n",
       "4  https://api.weather.gov/stations/KSTL/observat...  wx:ObservationStation   \n",
       "\n",
       "   elevation                                station  \\\n",
       "0        172  https://api.weather.gov/stations/KSTL   \n",
       "1        172  https://api.weather.gov/stations/KSTL   \n",
       "2        172  https://api.weather.gov/stations/KSTL   \n",
       "3        172  https://api.weather.gov/stations/KSTL   \n",
       "4        172  https://api.weather.gov/stations/KSTL   \n",
       "\n",
       "                   timestamp  \\\n",
       "0  2023-04-10T00:51:00+00:00   \n",
       "1  2023-04-09T23:51:00+00:00   \n",
       "2  2023-04-09T22:51:00+00:00   \n",
       "3  2023-04-09T21:51:00+00:00   \n",
       "4  2023-04-09T20:51:00+00:00   \n",
       "\n",
       "                                          rawMessage textDescription  \\\n",
       "0  KSTL 100051Z 11007KT 10SM BKN250 16/00 A3030 R...   Mostly Cloudy   \n",
       "1  KSTL 092351Z 11010KT 10SM BKN250 19/M01 A3030 ...   Mostly Cloudy   \n",
       "2  KSTL 092251Z 11015KT 10SM BKN250 20/M01 A3031 ...   Mostly Cloudy   \n",
       "3  KSTL 092151Z 11015KT 10SM BKN250 21/M01 A3031 ...   Mostly Cloudy   \n",
       "4  KSTL 092051Z 12014G23KT 10SM BKN250 21/M01 A30...   Mostly Cloudy   \n",
       "\n",
       "                                                icon presentWeather  \\\n",
       "0  https://api.weather.gov/icons/land/night/bkn?s...             []   \n",
       "1  https://api.weather.gov/icons/land/day/bkn?siz...             []   \n",
       "2  https://api.weather.gov/icons/land/day/bkn?siz...             []   \n",
       "3  https://api.weather.gov/icons/land/day/bkn?siz...             []   \n",
       "4  https://api.weather.gov/icons/land/day/bkn?siz...             []   \n",
       "\n",
       "   temperature  ...  visibility  maxTemperatureLast24Hours  \\\n",
       "0         16.1  ...       16090                       None   \n",
       "1         18.9  ...       16090                       None   \n",
       "2         20.0  ...       16090                       None   \n",
       "3         21.1  ...       16090                       None   \n",
       "4         21.1  ...       16090                       None   \n",
       "\n",
       "   minTemperatureLast24Hours  precipitationLastHour  precipitationLast3Hours  \\\n",
       "0                       None                    NaN                      NaN   \n",
       "1                       None                    NaN                      NaN   \n",
       "2                       None                    NaN                      NaN   \n",
       "3                       None                    NaN                      NaN   \n",
       "4                       None                    NaN                      NaN   \n",
       "\n",
       "   precipitationLast6Hours  relativeHumidity windChill heatIndex  \\\n",
       "0                      NaN         33.453418       NaN       NaN   \n",
       "1                      NaN         26.838520       NaN       NaN   \n",
       "2                      NaN         24.165749       NaN       NaN   \n",
       "3                      NaN         22.581219       NaN       NaN   \n",
       "4                      NaN         22.581219       NaN       NaN   \n",
       "\n",
       "                                         cloudLayers  \n",
       "0  [{'base': {'unitCode': 'wmoUnit:m', 'value': 7...  \n",
       "1  [{'base': {'unitCode': 'wmoUnit:m', 'value': 7...  \n",
       "2  [{'base': {'unitCode': 'wmoUnit:m', 'value': 7...  \n",
       "3  [{'base': {'unitCode': 'wmoUnit:m', 'value': 7...  \n",
       "4  [{'base': {'unitCode': 'wmoUnit:m', 'value': 7...  \n",
       "\n",
       "[5 rows x 26 columns]"
      ]
     },
     "execution_count": 50,
     "metadata": {},
     "output_type": "execute_result"
    }
   ],
   "source": [
    "hourly_observation_data.head()"
   ]
  },
  {
   "cell_type": "code",
   "execution_count": 51,
   "id": "55e47d2d",
   "metadata": {},
   "outputs": [
    {
     "data": {
      "text/plain": [
       "Index(['@id', '@type', 'elevation', 'station', 'timestamp', 'rawMessage',\n",
       "       'textDescription', 'icon', 'presentWeather', 'temperature', 'dewpoint',\n",
       "       'windDirection', 'windSpeed', 'windGust', 'barometricPressure',\n",
       "       'seaLevelPressure', 'visibility', 'maxTemperatureLast24Hours',\n",
       "       'minTemperatureLast24Hours', 'precipitationLastHour',\n",
       "       'precipitationLast3Hours', 'precipitationLast6Hours',\n",
       "       'relativeHumidity', 'windChill', 'heatIndex', 'cloudLayers'],\n",
       "      dtype='object')"
      ]
     },
     "execution_count": 51,
     "metadata": {},
     "output_type": "execute_result"
    }
   ],
   "source": [
    "hourly_observation_data.columns"
   ]
  },
  {
   "cell_type": "code",
   "execution_count": 52,
   "id": "72ec5007",
   "metadata": {},
   "outputs": [],
   "source": [
    "observation_columns_to_keep = [\"timestamp\",\"textDescription\",\"temperature\",\"windSpeed\",'windDirection']\n",
    "hourly_observation_data = hourly_observation_data.loc[:,observation_columns_to_keep]"
   ]
  },
  {
   "cell_type": "code",
   "execution_count": 53,
   "id": "30e0a331",
   "metadata": {},
   "outputs": [],
   "source": [
    "##Temp will need to be converted to Celsius\n",
    "forecast_columns_to_keep = [\"startTime\",\"isDaytime\",\"temperature\",\"windSpeed\",\"windDirection\",\"shortForecast\"]\n",
    "hourly_forecast_data = hourly_forecast_data.loc[:,forecast_columns_to_keep]"
   ]
  },
  {
   "cell_type": "code",
   "execution_count": 54,
   "id": "792f3f7b",
   "metadata": {},
   "outputs": [],
   "source": [
    "hourly_observation_data.timestamp = pd.to_datetime(hourly_observation_data.timestamp).dt.round(\"H\")"
   ]
  },
  {
   "cell_type": "code",
   "execution_count": 55,
   "id": "88e46757",
   "metadata": {},
   "outputs": [
    {
     "data": {
      "text/html": [
       "<div>\n",
       "<style scoped>\n",
       "    .dataframe tbody tr th:only-of-type {\n",
       "        vertical-align: middle;\n",
       "    }\n",
       "\n",
       "    .dataframe tbody tr th {\n",
       "        vertical-align: top;\n",
       "    }\n",
       "\n",
       "    .dataframe thead th {\n",
       "        text-align: right;\n",
       "    }\n",
       "</style>\n",
       "<table border=\"1\" class=\"dataframe\">\n",
       "  <thead>\n",
       "    <tr style=\"text-align: right;\">\n",
       "      <th></th>\n",
       "      <th>timestamp</th>\n",
       "      <th>textDescription</th>\n",
       "      <th>temperature</th>\n",
       "      <th>windSpeed</th>\n",
       "      <th>windDirection</th>\n",
       "    </tr>\n",
       "  </thead>\n",
       "  <tbody>\n",
       "    <tr>\n",
       "      <th>0</th>\n",
       "      <td>2023-04-10 01:00:00+00:00</td>\n",
       "      <td>Mostly Cloudy</td>\n",
       "      <td>16.1</td>\n",
       "      <td>12.96</td>\n",
       "      <td>110.0</td>\n",
       "    </tr>\n",
       "    <tr>\n",
       "      <th>1</th>\n",
       "      <td>2023-04-10 00:00:00+00:00</td>\n",
       "      <td>Mostly Cloudy</td>\n",
       "      <td>18.9</td>\n",
       "      <td>18.36</td>\n",
       "      <td>110.0</td>\n",
       "    </tr>\n",
       "    <tr>\n",
       "      <th>2</th>\n",
       "      <td>2023-04-09 23:00:00+00:00</td>\n",
       "      <td>Mostly Cloudy</td>\n",
       "      <td>20.0</td>\n",
       "      <td>NaN</td>\n",
       "      <td>NaN</td>\n",
       "    </tr>\n",
       "    <tr>\n",
       "      <th>3</th>\n",
       "      <td>2023-04-09 22:00:00+00:00</td>\n",
       "      <td>Mostly Cloudy</td>\n",
       "      <td>21.1</td>\n",
       "      <td>NaN</td>\n",
       "      <td>NaN</td>\n",
       "    </tr>\n",
       "    <tr>\n",
       "      <th>4</th>\n",
       "      <td>2023-04-09 21:00:00+00:00</td>\n",
       "      <td>Mostly Cloudy</td>\n",
       "      <td>21.1</td>\n",
       "      <td>25.92</td>\n",
       "      <td>120.0</td>\n",
       "    </tr>\n",
       "  </tbody>\n",
       "</table>\n",
       "</div>"
      ],
      "text/plain": [
       "                  timestamp textDescription  temperature  windSpeed  \\\n",
       "0 2023-04-10 01:00:00+00:00   Mostly Cloudy         16.1      12.96   \n",
       "1 2023-04-10 00:00:00+00:00   Mostly Cloudy         18.9      18.36   \n",
       "2 2023-04-09 23:00:00+00:00   Mostly Cloudy         20.0        NaN   \n",
       "3 2023-04-09 22:00:00+00:00   Mostly Cloudy         21.1        NaN   \n",
       "4 2023-04-09 21:00:00+00:00   Mostly Cloudy         21.1      25.92   \n",
       "\n",
       "   windDirection  \n",
       "0          110.0  \n",
       "1          110.0  \n",
       "2            NaN  \n",
       "3            NaN  \n",
       "4          120.0  "
      ]
     },
     "execution_count": 55,
     "metadata": {},
     "output_type": "execute_result"
    }
   ],
   "source": [
    "hourly_observation_data.head()"
   ]
  },
  {
   "cell_type": "code",
   "execution_count": 56,
   "id": "64b7889a",
   "metadata": {},
   "outputs": [
    {
     "data": {
      "text/plain": [
       "(181, 5)"
      ]
     },
     "execution_count": 56,
     "metadata": {},
     "output_type": "execute_result"
    }
   ],
   "source": [
    "hourly_observation_data.shape"
   ]
  },
  {
   "cell_type": "code",
   "execution_count": 57,
   "id": "a02cea8a",
   "metadata": {},
   "outputs": [],
   "source": [
    "hourly_forecast_data.startTime = pd.to_datetime(hourly_forecast_data.startTime).dt.round(\"H\")"
   ]
  },
  {
   "cell_type": "code",
   "execution_count": 58,
   "id": "ae9d07f1",
   "metadata": {},
   "outputs": [],
   "source": [
    "date = str(datetime.date.today())\n",
    "\n",
    "hourly_weather_url = f\"https://archive-api.open-meteo.com/v1/archive?latitude=38.63&longitude=-90.20&start_date=2022-06-01&end_date={date}&hourly=temperature_2m,cloudcover,windspeed_10m\""
   ]
  },
  {
   "cell_type": "code",
   "execution_count": 59,
   "id": "e0abec8e",
   "metadata": {},
   "outputs": [
    {
     "name": "stdout",
     "output_type": "stream",
     "text": [
      "Successful\n"
     ]
    }
   ],
   "source": [
    "try:\n",
    "    (request := r.get(hourly_weather_url))\n",
    "    print(\"Successful\")\n",
    "except Exception as e:\n",
    "    print(e)"
   ]
  },
  {
   "cell_type": "code",
   "execution_count": 60,
   "id": "1e78bc5c",
   "metadata": {},
   "outputs": [
    {
     "data": {
      "text/html": [
       "<div>\n",
       "<style scoped>\n",
       "    .dataframe tbody tr th:only-of-type {\n",
       "        vertical-align: middle;\n",
       "    }\n",
       "\n",
       "    .dataframe tbody tr th {\n",
       "        vertical-align: top;\n",
       "    }\n",
       "\n",
       "    .dataframe thead th {\n",
       "        text-align: right;\n",
       "    }\n",
       "</style>\n",
       "<table border=\"1\" class=\"dataframe\">\n",
       "  <thead>\n",
       "    <tr style=\"text-align: right;\">\n",
       "      <th></th>\n",
       "      <th>time</th>\n",
       "      <th>temperature_2m</th>\n",
       "      <th>cloudcover</th>\n",
       "      <th>windspeed_10m</th>\n",
       "    </tr>\n",
       "  </thead>\n",
       "  <tbody>\n",
       "    <tr>\n",
       "      <th>0</th>\n",
       "      <td>2022-06-01T00:00</td>\n",
       "      <td>28.4</td>\n",
       "      <td>30.0</td>\n",
       "      <td>2.1</td>\n",
       "    </tr>\n",
       "    <tr>\n",
       "      <th>1</th>\n",
       "      <td>2022-06-01T01:00</td>\n",
       "      <td>27.2</td>\n",
       "      <td>30.0</td>\n",
       "      <td>1.8</td>\n",
       "    </tr>\n",
       "    <tr>\n",
       "      <th>2</th>\n",
       "      <td>2022-06-01T02:00</td>\n",
       "      <td>26.1</td>\n",
       "      <td>31.0</td>\n",
       "      <td>6.0</td>\n",
       "    </tr>\n",
       "    <tr>\n",
       "      <th>3</th>\n",
       "      <td>2022-06-01T03:00</td>\n",
       "      <td>25.2</td>\n",
       "      <td>32.0</td>\n",
       "      <td>6.0</td>\n",
       "    </tr>\n",
       "    <tr>\n",
       "      <th>4</th>\n",
       "      <td>2022-06-01T04:00</td>\n",
       "      <td>24.4</td>\n",
       "      <td>31.0</td>\n",
       "      <td>6.0</td>\n",
       "    </tr>\n",
       "    <tr>\n",
       "      <th>...</th>\n",
       "      <td>...</td>\n",
       "      <td>...</td>\n",
       "      <td>...</td>\n",
       "      <td>...</td>\n",
       "    </tr>\n",
       "    <tr>\n",
       "      <th>7507</th>\n",
       "      <td>2023-04-09T19:00</td>\n",
       "      <td>NaN</td>\n",
       "      <td>NaN</td>\n",
       "      <td>NaN</td>\n",
       "    </tr>\n",
       "    <tr>\n",
       "      <th>7508</th>\n",
       "      <td>2023-04-09T20:00</td>\n",
       "      <td>NaN</td>\n",
       "      <td>NaN</td>\n",
       "      <td>NaN</td>\n",
       "    </tr>\n",
       "    <tr>\n",
       "      <th>7509</th>\n",
       "      <td>2023-04-09T21:00</td>\n",
       "      <td>NaN</td>\n",
       "      <td>NaN</td>\n",
       "      <td>NaN</td>\n",
       "    </tr>\n",
       "    <tr>\n",
       "      <th>7510</th>\n",
       "      <td>2023-04-09T22:00</td>\n",
       "      <td>NaN</td>\n",
       "      <td>NaN</td>\n",
       "      <td>NaN</td>\n",
       "    </tr>\n",
       "    <tr>\n",
       "      <th>7511</th>\n",
       "      <td>2023-04-09T23:00</td>\n",
       "      <td>NaN</td>\n",
       "      <td>NaN</td>\n",
       "      <td>NaN</td>\n",
       "    </tr>\n",
       "  </tbody>\n",
       "</table>\n",
       "<p>7512 rows × 4 columns</p>\n",
       "</div>"
      ],
      "text/plain": [
       "                  time  temperature_2m  cloudcover  windspeed_10m\n",
       "0     2022-06-01T00:00            28.4        30.0            2.1\n",
       "1     2022-06-01T01:00            27.2        30.0            1.8\n",
       "2     2022-06-01T02:00            26.1        31.0            6.0\n",
       "3     2022-06-01T03:00            25.2        32.0            6.0\n",
       "4     2022-06-01T04:00            24.4        31.0            6.0\n",
       "...                ...             ...         ...            ...\n",
       "7507  2023-04-09T19:00             NaN         NaN            NaN\n",
       "7508  2023-04-09T20:00             NaN         NaN            NaN\n",
       "7509  2023-04-09T21:00             NaN         NaN            NaN\n",
       "7510  2023-04-09T22:00             NaN         NaN            NaN\n",
       "7511  2023-04-09T23:00             NaN         NaN            NaN\n",
       "\n",
       "[7512 rows x 4 columns]"
      ]
     },
     "execution_count": 60,
     "metadata": {},
     "output_type": "execute_result"
    }
   ],
   "source": [
    "pd.DataFrame(request.json().get(\"hourly\"))"
   ]
  },
  {
   "cell_type": "code",
   "execution_count": null,
   "id": "359d7db5",
   "metadata": {},
   "outputs": [],
   "source": []
  },
  {
   "cell_type": "markdown",
   "id": "18da4802",
   "metadata": {},
   "source": [
    "Merge data sets"
   ]
  },
  {
   "cell_type": "code",
   "execution_count": 61,
   "id": "fe23cb53",
   "metadata": {},
   "outputs": [],
   "source": [
    "solar_weather = hourly_solar_generation.merge(hourly_observation_data,left_on=\"period\" ,right_on=\"timestamp\",how=\"inner\")"
   ]
  },
  {
   "cell_type": "code",
   "execution_count": 62,
   "id": "6347e966",
   "metadata": {},
   "outputs": [
    {
     "data": {
      "text/html": [
       "<div>\n",
       "<style scoped>\n",
       "    .dataframe tbody tr th:only-of-type {\n",
       "        vertical-align: middle;\n",
       "    }\n",
       "\n",
       "    .dataframe tbody tr th {\n",
       "        vertical-align: top;\n",
       "    }\n",
       "\n",
       "    .dataframe thead th {\n",
       "        text-align: right;\n",
       "    }\n",
       "</style>\n",
       "<table border=\"1\" class=\"dataframe\">\n",
       "  <thead>\n",
       "    <tr style=\"text-align: right;\">\n",
       "      <th></th>\n",
       "      <th>period</th>\n",
       "      <th>respondent</th>\n",
       "      <th>respondent-name</th>\n",
       "      <th>fueltype</th>\n",
       "      <th>type-name</th>\n",
       "      <th>value</th>\n",
       "      <th>value-units</th>\n",
       "      <th>timestamp</th>\n",
       "      <th>textDescription</th>\n",
       "      <th>temperature</th>\n",
       "      <th>...</th>\n",
       "      <th>description Haze</th>\n",
       "      <th>description Heavy Thunderstorms and Heavy Rain</th>\n",
       "      <th>description Light Rain</th>\n",
       "      <th>description Mostly Clear</th>\n",
       "      <th>description Mostly Clear and Windy</th>\n",
       "      <th>description Mostly Cloudy</th>\n",
       "      <th>description Partly Cloudy</th>\n",
       "      <th>description Thunderstorms</th>\n",
       "      <th>description Thunderstorms and Rain</th>\n",
       "      <th>description Thunderstorms and Rain and Fog/Mist</th>\n",
       "    </tr>\n",
       "  </thead>\n",
       "  <tbody>\n",
       "    <tr>\n",
       "      <th>0</th>\n",
       "      <td>2023-04-09 05:00:00+00:00</td>\n",
       "      <td>MISO</td>\n",
       "      <td>Midcontinent Independent System Operator, Inc.</td>\n",
       "      <td>SUN</td>\n",
       "      <td>Solar</td>\n",
       "      <td>2</td>\n",
       "      <td>megawatthours</td>\n",
       "      <td>2023-04-09 05:00:00+00:00</td>\n",
       "      <td>Mostly Clear</td>\n",
       "      <td>10.0</td>\n",
       "      <td>...</td>\n",
       "      <td>0</td>\n",
       "      <td>0</td>\n",
       "      <td>0</td>\n",
       "      <td>1</td>\n",
       "      <td>0</td>\n",
       "      <td>0</td>\n",
       "      <td>0</td>\n",
       "      <td>0</td>\n",
       "      <td>0</td>\n",
       "      <td>0</td>\n",
       "    </tr>\n",
       "    <tr>\n",
       "      <th>1</th>\n",
       "      <td>2023-04-09 04:00:00+00:00</td>\n",
       "      <td>MISO</td>\n",
       "      <td>Midcontinent Independent System Operator, Inc.</td>\n",
       "      <td>SUN</td>\n",
       "      <td>Solar</td>\n",
       "      <td>2</td>\n",
       "      <td>megawatthours</td>\n",
       "      <td>2023-04-09 04:00:00+00:00</td>\n",
       "      <td>Mostly Clear</td>\n",
       "      <td>10.6</td>\n",
       "      <td>...</td>\n",
       "      <td>0</td>\n",
       "      <td>0</td>\n",
       "      <td>0</td>\n",
       "      <td>1</td>\n",
       "      <td>0</td>\n",
       "      <td>0</td>\n",
       "      <td>0</td>\n",
       "      <td>0</td>\n",
       "      <td>0</td>\n",
       "      <td>0</td>\n",
       "    </tr>\n",
       "    <tr>\n",
       "      <th>2</th>\n",
       "      <td>2023-04-09 03:00:00+00:00</td>\n",
       "      <td>MISO</td>\n",
       "      <td>Midcontinent Independent System Operator, Inc.</td>\n",
       "      <td>SUN</td>\n",
       "      <td>Solar</td>\n",
       "      <td>1</td>\n",
       "      <td>megawatthours</td>\n",
       "      <td>2023-04-09 03:00:00+00:00</td>\n",
       "      <td>Mostly Clear</td>\n",
       "      <td>12.8</td>\n",
       "      <td>...</td>\n",
       "      <td>0</td>\n",
       "      <td>0</td>\n",
       "      <td>0</td>\n",
       "      <td>1</td>\n",
       "      <td>0</td>\n",
       "      <td>0</td>\n",
       "      <td>0</td>\n",
       "      <td>0</td>\n",
       "      <td>0</td>\n",
       "      <td>0</td>\n",
       "    </tr>\n",
       "    <tr>\n",
       "      <th>3</th>\n",
       "      <td>2023-04-09 02:00:00+00:00</td>\n",
       "      <td>MISO</td>\n",
       "      <td>Midcontinent Independent System Operator, Inc.</td>\n",
       "      <td>SUN</td>\n",
       "      <td>Solar</td>\n",
       "      <td>1</td>\n",
       "      <td>megawatthours</td>\n",
       "      <td>2023-04-09 02:00:00+00:00</td>\n",
       "      <td>Clear</td>\n",
       "      <td>13.3</td>\n",
       "      <td>...</td>\n",
       "      <td>0</td>\n",
       "      <td>0</td>\n",
       "      <td>0</td>\n",
       "      <td>0</td>\n",
       "      <td>0</td>\n",
       "      <td>0</td>\n",
       "      <td>0</td>\n",
       "      <td>0</td>\n",
       "      <td>0</td>\n",
       "      <td>0</td>\n",
       "    </tr>\n",
       "    <tr>\n",
       "      <th>4</th>\n",
       "      <td>2023-04-09 01:00:00+00:00</td>\n",
       "      <td>MISO</td>\n",
       "      <td>Midcontinent Independent System Operator, Inc.</td>\n",
       "      <td>SUN</td>\n",
       "      <td>Solar</td>\n",
       "      <td>41</td>\n",
       "      <td>megawatthours</td>\n",
       "      <td>2023-04-09 01:00:00+00:00</td>\n",
       "      <td>Mostly Clear</td>\n",
       "      <td>15.0</td>\n",
       "      <td>...</td>\n",
       "      <td>0</td>\n",
       "      <td>0</td>\n",
       "      <td>0</td>\n",
       "      <td>1</td>\n",
       "      <td>0</td>\n",
       "      <td>0</td>\n",
       "      <td>0</td>\n",
       "      <td>0</td>\n",
       "      <td>0</td>\n",
       "      <td>0</td>\n",
       "    </tr>\n",
       "  </tbody>\n",
       "</table>\n",
       "<p>5 rows × 27 columns</p>\n",
       "</div>"
      ],
      "text/plain": [
       "                     period respondent  \\\n",
       "0 2023-04-09 05:00:00+00:00       MISO   \n",
       "1 2023-04-09 04:00:00+00:00       MISO   \n",
       "2 2023-04-09 03:00:00+00:00       MISO   \n",
       "3 2023-04-09 02:00:00+00:00       MISO   \n",
       "4 2023-04-09 01:00:00+00:00       MISO   \n",
       "\n",
       "                                  respondent-name fueltype type-name  value  \\\n",
       "0  Midcontinent Independent System Operator, Inc.      SUN     Solar      2   \n",
       "1  Midcontinent Independent System Operator, Inc.      SUN     Solar      2   \n",
       "2  Midcontinent Independent System Operator, Inc.      SUN     Solar      1   \n",
       "3  Midcontinent Independent System Operator, Inc.      SUN     Solar      1   \n",
       "4  Midcontinent Independent System Operator, Inc.      SUN     Solar     41   \n",
       "\n",
       "     value-units                 timestamp textDescription  temperature  ...  \\\n",
       "0  megawatthours 2023-04-09 05:00:00+00:00    Mostly Clear         10.0  ...   \n",
       "1  megawatthours 2023-04-09 04:00:00+00:00    Mostly Clear         10.6  ...   \n",
       "2  megawatthours 2023-04-09 03:00:00+00:00    Mostly Clear         12.8  ...   \n",
       "3  megawatthours 2023-04-09 02:00:00+00:00           Clear         13.3  ...   \n",
       "4  megawatthours 2023-04-09 01:00:00+00:00    Mostly Clear         15.0  ...   \n",
       "\n",
       "   description Haze  description Heavy Thunderstorms and Heavy Rain  \\\n",
       "0                 0                                               0   \n",
       "1                 0                                               0   \n",
       "2                 0                                               0   \n",
       "3                 0                                               0   \n",
       "4                 0                                               0   \n",
       "\n",
       "   description Light Rain  description Mostly Clear  \\\n",
       "0                       0                         1   \n",
       "1                       0                         1   \n",
       "2                       0                         1   \n",
       "3                       0                         0   \n",
       "4                       0                         1   \n",
       "\n",
       "   description Mostly Clear and Windy  description Mostly Cloudy  \\\n",
       "0                                   0                          0   \n",
       "1                                   0                          0   \n",
       "2                                   0                          0   \n",
       "3                                   0                          0   \n",
       "4                                   0                          0   \n",
       "\n",
       "   description Partly Cloudy  description Thunderstorms  \\\n",
       "0                          0                          0   \n",
       "1                          0                          0   \n",
       "2                          0                          0   \n",
       "3                          0                          0   \n",
       "4                          0                          0   \n",
       "\n",
       "   description Thunderstorms and Rain  \\\n",
       "0                                   0   \n",
       "1                                   0   \n",
       "2                                   0   \n",
       "3                                   0   \n",
       "4                                   0   \n",
       "\n",
       "   description Thunderstorms and Rain and Fog/Mist  \n",
       "0                                                0  \n",
       "1                                                0  \n",
       "2                                                0  \n",
       "3                                                0  \n",
       "4                                                0  \n",
       "\n",
       "[5 rows x 27 columns]"
      ]
     },
     "execution_count": 62,
     "metadata": {},
     "output_type": "execute_result"
    }
   ],
   "source": [
    "encoder = LabelBinarizer()\n",
    "encoded_array = encoder.fit_transform(solar_weather.textDescription)\n",
    "\n",
    "for i,class_ in enumerate(encoder.classes_):\n",
    "    solar_weather.loc[:,f\"description {class_}\"] = encoded_array[:,i]\n",
    "    \n",
    "solar_weather.head()"
   ]
  },
  {
   "cell_type": "code",
   "execution_count": 63,
   "id": "50daf5d3",
   "metadata": {},
   "outputs": [],
   "source": [
    "solar_weather.set_index(\"period\", inplace=True)"
   ]
  },
  {
   "cell_type": "code",
   "execution_count": 64,
   "id": "231dc018",
   "metadata": {},
   "outputs": [],
   "source": [
    "columns_to_drop = [\"respondent\",\"respondent-name\",\"fueltype\",\"type-name\",\"timestamp\",\"windSpeed\",\"windDirection\",\"value-units\",\"textDescription\"]\n",
    "solar_weather.drop(columns_to_drop,axis=1,inplace=True)\n"
   ]
  },
  {
   "cell_type": "code",
   "execution_count": 65,
   "id": "ab0d5445",
   "metadata": {},
   "outputs": [],
   "source": [
    "solar_weather.dropna(inplace=True)"
   ]
  },
  {
   "cell_type": "code",
   "execution_count": 73,
   "id": "51a0843c",
   "metadata": {},
   "outputs": [],
   "source": [
    "scaler = MinMaxScaler()\n",
    "solar_weather = scaler.fit_transform(solar_weather)"
   ]
  },
  {
   "cell_type": "code",
   "execution_count": 75,
   "id": "5384f633",
   "metadata": {},
   "outputs": [],
   "source": [
    "n_future = 1\n",
    "n_past = 12\n",
    "\n",
    "train_X = []\n",
    "train_y = []\n",
    "\n",
    "for i in range(n_past, len(solar_weather) - n_future + 1):\n",
    "    train_X.append(solar_weather[i - n_past:i, 0:solar_weather.shape[1]])\n",
    "    train_y.append(solar_weather[i + n_future - 1:i + n_future, 0])\n",
    "    \n"
   ]
  },
  {
   "cell_type": "code",
   "execution_count": 78,
   "id": "190b8fae",
   "metadata": {},
   "outputs": [],
   "source": [
    "train_X, train_y = np.array(train_X),np.array(train_y)"
   ]
  },
  {
   "cell_type": "code",
   "execution_count": 79,
   "id": "700d8e25",
   "metadata": {},
   "outputs": [],
   "source": [
    "model=Sequential()\n",
    "model.add(LSTM(50,input_shape=(train_X.shape[1],train_X.shape[2])))\n",
    "model.add(Dense(1))\n",
    "model.compile(loss=\"mae\",optimizer=\"adam\")"
   ]
  },
  {
   "cell_type": "code",
   "execution_count": 81,
   "id": "aa75cb6e",
   "metadata": {},
   "outputs": [
    {
     "name": "stdout",
     "output_type": "stream",
     "text": [
      "Epoch 1/50\n",
      "44/44 [==============================] - 5s 28ms/step - loss: 0.2265 - val_loss: 0.1708\n",
      "Epoch 2/50\n",
      "44/44 [==============================] - 0s 10ms/step - loss: 0.1642 - val_loss: 0.1514\n",
      "Epoch 3/50\n",
      "44/44 [==============================] - 0s 9ms/step - loss: 0.1188 - val_loss: 0.1631\n",
      "Epoch 4/50\n",
      "44/44 [==============================] - 0s 8ms/step - loss: 0.1031 - val_loss: 0.1091\n",
      "Epoch 5/50\n",
      "44/44 [==============================] - 0s 8ms/step - loss: 0.0911 - val_loss: 0.1190\n",
      "Epoch 6/50\n",
      "44/44 [==============================] - 0s 8ms/step - loss: 0.0988 - val_loss: 0.1565\n",
      "Epoch 7/50\n",
      "44/44 [==============================] - 0s 8ms/step - loss: 0.0782 - val_loss: 0.1154\n",
      "Epoch 8/50\n",
      "44/44 [==============================] - 0s 8ms/step - loss: 0.0735 - val_loss: 0.1353\n",
      "Epoch 9/50\n",
      "44/44 [==============================] - 0s 8ms/step - loss: 0.0724 - val_loss: 0.1251\n",
      "Epoch 10/50\n",
      "44/44 [==============================] - 0s 8ms/step - loss: 0.0734 - val_loss: 0.1199\n",
      "Epoch 11/50\n",
      "44/44 [==============================] - 0s 8ms/step - loss: 0.0710 - val_loss: 0.1117\n",
      "Epoch 12/50\n",
      "44/44 [==============================] - 0s 8ms/step - loss: 0.0655 - val_loss: 0.1396\n",
      "Epoch 13/50\n",
      "44/44 [==============================] - 0s 8ms/step - loss: 0.0764 - val_loss: 0.1292\n",
      "Epoch 14/50\n",
      "44/44 [==============================] - 0s 9ms/step - loss: 0.0637 - val_loss: 0.1129\n",
      "Epoch 15/50\n",
      "44/44 [==============================] - 0s 8ms/step - loss: 0.0640 - val_loss: 0.1110\n",
      "Epoch 16/50\n",
      "44/44 [==============================] - 0s 8ms/step - loss: 0.0656 - val_loss: 0.1393\n",
      "Epoch 17/50\n",
      "44/44 [==============================] - 0s 8ms/step - loss: 0.0665 - val_loss: 0.1112\n",
      "Epoch 18/50\n",
      "44/44 [==============================] - 0s 8ms/step - loss: 0.0625 - val_loss: 0.1179\n",
      "Epoch 19/50\n",
      "44/44 [==============================] - 0s 8ms/step - loss: 0.0598 - val_loss: 0.1103\n",
      "Epoch 20/50\n",
      "44/44 [==============================] - 0s 8ms/step - loss: 0.0574 - val_loss: 0.1136\n",
      "Epoch 21/50\n",
      "44/44 [==============================] - 0s 8ms/step - loss: 0.0530 - val_loss: 0.1134\n",
      "Epoch 22/50\n",
      "44/44 [==============================] - 0s 8ms/step - loss: 0.0516 - val_loss: 0.1170\n",
      "Epoch 23/50\n",
      "44/44 [==============================] - 0s 8ms/step - loss: 0.0548 - val_loss: 0.1465\n",
      "Epoch 24/50\n",
      "44/44 [==============================] - 0s 9ms/step - loss: 0.0554 - val_loss: 0.1138\n",
      "Epoch 25/50\n",
      "44/44 [==============================] - 0s 8ms/step - loss: 0.0495 - val_loss: 0.0981\n",
      "Epoch 26/50\n",
      "44/44 [==============================] - 0s 8ms/step - loss: 0.0457 - val_loss: 0.1152\n",
      "Epoch 27/50\n",
      "44/44 [==============================] - 0s 8ms/step - loss: 0.0487 - val_loss: 0.0984\n",
      "Epoch 28/50\n",
      "44/44 [==============================] - 0s 8ms/step - loss: 0.0455 - val_loss: 0.0987\n",
      "Epoch 29/50\n",
      "44/44 [==============================] - 0s 8ms/step - loss: 0.0458 - val_loss: 0.0879\n",
      "Epoch 30/50\n",
      "44/44 [==============================] - 0s 9ms/step - loss: 0.0486 - val_loss: 0.0971\n",
      "Epoch 31/50\n",
      "44/44 [==============================] - 0s 8ms/step - loss: 0.0444 - val_loss: 0.0974\n",
      "Epoch 32/50\n",
      "44/44 [==============================] - 0s 8ms/step - loss: 0.0420 - val_loss: 0.0952\n",
      "Epoch 33/50\n",
      "44/44 [==============================] - 0s 8ms/step - loss: 0.0417 - val_loss: 0.0876\n",
      "Epoch 34/50\n",
      "44/44 [==============================] - 0s 8ms/step - loss: 0.0427 - val_loss: 0.0904\n",
      "Epoch 35/50\n",
      "44/44 [==============================] - 0s 8ms/step - loss: 0.0380 - val_loss: 0.0969\n",
      "Epoch 36/50\n",
      "44/44 [==============================] - 0s 8ms/step - loss: 0.0362 - val_loss: 0.0916\n",
      "Epoch 37/50\n",
      "44/44 [==============================] - 0s 8ms/step - loss: 0.0343 - val_loss: 0.0907\n",
      "Epoch 38/50\n",
      "44/44 [==============================] - 0s 8ms/step - loss: 0.0432 - val_loss: 0.0961\n",
      "Epoch 39/50\n",
      "44/44 [==============================] - 0s 8ms/step - loss: 0.0354 - val_loss: 0.0922\n",
      "Epoch 40/50\n",
      "44/44 [==============================] - 0s 8ms/step - loss: 0.0351 - val_loss: 0.0959\n",
      "Epoch 41/50\n",
      "44/44 [==============================] - 0s 8ms/step - loss: 0.0423 - val_loss: 0.0920\n",
      "Epoch 42/50\n",
      "44/44 [==============================] - 0s 8ms/step - loss: 0.0345 - val_loss: 0.0859\n",
      "Epoch 43/50\n",
      "44/44 [==============================] - 0s 8ms/step - loss: 0.0342 - val_loss: 0.1094\n",
      "Epoch 44/50\n",
      "44/44 [==============================] - 0s 8ms/step - loss: 0.0333 - val_loss: 0.1041\n",
      "Epoch 45/50\n",
      "44/44 [==============================] - 0s 8ms/step - loss: 0.0293 - val_loss: 0.1002\n",
      "Epoch 46/50\n",
      "44/44 [==============================] - 0s 8ms/step - loss: 0.0309 - val_loss: 0.0955\n",
      "Epoch 47/50\n",
      "44/44 [==============================] - 0s 8ms/step - loss: 0.0297 - val_loss: 0.0988\n",
      "Epoch 48/50\n",
      "44/44 [==============================] - 0s 8ms/step - loss: 0.0323 - val_loss: 0.0953\n",
      "Epoch 49/50\n",
      "44/44 [==============================] - 0s 8ms/step - loss: 0.0294 - val_loss: 0.0957\n",
      "Epoch 50/50\n",
      "44/44 [==============================] - 0s 8ms/step - loss: 0.0331 - val_loss: 0.1041\n"
     ]
    }
   ],
   "source": [
    "history = model.fit(train_X, train_y, epochs=50, batch_size=3,validation_split=0.1)"
   ]
  },
  {
   "cell_type": "code",
   "execution_count": 82,
   "id": "73f77bc3",
   "metadata": {},
   "outputs": [
    {
     "data": {
      "image/png": "[encoded data removed]",
      "text/plain": [
       "<Figure size 432x288 with 1 Axes>"
      ]
     },
     "metadata": {
      "needs_background": "light"
     },
     "output_type": "display_data"
    }
   ],
   "source": [
    "plt.plot(history.history[\"loss\"], label=\"train\")\n",
    "plt.plot(history.history[\"val_loss\"], label=\"test\")\n",
    "plt.legend()\n",
    "plt.show()"
   ]
  },
  {
   "cell_type": "code",
   "execution_count": 87,
   "id": "46fb82da",
   "metadata": {},
   "outputs": [
    {
     "name": "stdout",
     "output_type": "stream",
     "text": [
      "5/5 [==============================] - 0s 6ms/step\n"
     ]
    }
   ],
   "source": [
    "y_pred_train = model.predict(train_X)"
   ]
  },
  {
   "cell_type": "code",
   "execution_count": 92,
   "id": "7291439a",
   "metadata": {},
   "outputs": [
    {
     "data": {
      "text/html": [
       "<div>\n",
       "<style scoped>\n",
       "    .dataframe tbody tr th:only-of-type {\n",
       "        vertical-align: middle;\n",
       "    }\n",
       "\n",
       "    .dataframe tbody tr th {\n",
       "        vertical-align: top;\n",
       "    }\n",
       "\n",
       "    .dataframe thead th {\n",
       "        text-align: right;\n",
       "    }\n",
       "</style>\n",
       "<table border=\"1\" class=\"dataframe\">\n",
       "  <thead>\n",
       "    <tr style=\"text-align: right;\">\n",
       "      <th></th>\n",
       "      <th>0</th>\n",
       "      <th>1</th>\n",
       "    </tr>\n",
       "  </thead>\n",
       "  <tbody>\n",
       "    <tr>\n",
       "      <th>0</th>\n",
       "      <td>0.909479</td>\n",
       "      <td>0.875631</td>\n",
       "    </tr>\n",
       "    <tr>\n",
       "      <th>1</th>\n",
       "      <td>0.854976</td>\n",
       "      <td>0.839688</td>\n",
       "    </tr>\n",
       "    <tr>\n",
       "      <th>2</th>\n",
       "      <td>0.800474</td>\n",
       "      <td>0.763874</td>\n",
       "    </tr>\n",
       "    <tr>\n",
       "      <th>3</th>\n",
       "      <td>0.553081</td>\n",
       "      <td>0.526879</td>\n",
       "    </tr>\n",
       "    <tr>\n",
       "      <th>4</th>\n",
       "      <td>0.005687</td>\n",
       "      <td>0.291257</td>\n",
       "    </tr>\n",
       "    <tr>\n",
       "      <th>...</th>\n",
       "      <td>...</td>\n",
       "      <td>...</td>\n",
       "    </tr>\n",
       "    <tr>\n",
       "      <th>141</th>\n",
       "      <td>0.000474</td>\n",
       "      <td>-0.005862</td>\n",
       "    </tr>\n",
       "    <tr>\n",
       "      <th>142</th>\n",
       "      <td>0.000474</td>\n",
       "      <td>-0.028682</td>\n",
       "    </tr>\n",
       "    <tr>\n",
       "      <th>143</th>\n",
       "      <td>0.000474</td>\n",
       "      <td>-0.034225</td>\n",
       "    </tr>\n",
       "    <tr>\n",
       "      <th>144</th>\n",
       "      <td>0.000474</td>\n",
       "      <td>0.175983</td>\n",
       "    </tr>\n",
       "    <tr>\n",
       "      <th>145</th>\n",
       "      <td>0.000948</td>\n",
       "      <td>0.367602</td>\n",
       "    </tr>\n",
       "  </tbody>\n",
       "</table>\n",
       "<p>146 rows × 2 columns</p>\n",
       "</div>"
      ],
      "text/plain": [
       "            0         1\n",
       "0    0.909479  0.875631\n",
       "1    0.854976  0.839688\n",
       "2    0.800474  0.763874\n",
       "3    0.553081  0.526879\n",
       "4    0.005687  0.291257\n",
       "..        ...       ...\n",
       "141  0.000474 -0.005862\n",
       "142  0.000474 -0.028682\n",
       "143  0.000474 -0.034225\n",
       "144  0.000474  0.175983\n",
       "145  0.000948  0.367602\n",
       "\n",
       "[146 rows x 2 columns]"
      ]
     },
     "execution_count": 92,
     "metadata": {},
     "output_type": "execute_result"
    }
   ],
   "source": [
    "pd.concat([pd.Series(train_y[:,0]),pd.Series(y_pred_train[:,0])],axis=1)"
   ]
  },
  {
   "cell_type": "code",
   "execution_count": null,
   "id": "2f0404e0",
   "metadata": {},
   "outputs": [],
   "source": []
  }
 ],
 "metadata": {
  "kernelspec": {
   "display_name": "Python 3 (ipykernel)",
   "language": "python",
   "name": "python3"
  },
  "language_info": {
   "codemirror_mode": {
    "name": "ipython",
    "version": 3
   },
   "file_extension": ".py",
   "mimetype": "text/x-python",
   "name": "python",
   "nbconvert_exporter": "python",
   "pygments_lexer": "ipython3",
   "version": "3.9.6"
  }
 },
 "nbformat": 4,
 "nbformat_minor": 5
}
